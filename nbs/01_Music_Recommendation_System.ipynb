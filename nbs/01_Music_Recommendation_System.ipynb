{
 "cells": [
  {
   "attachments": {},
   "cell_type": "markdown",
   "metadata": {
    "tags": []
   },
   "source": [
    "# Music Recommendation System\n",
    "In this notebook, I create a full recommendation system using TensorFlow. This includes an interface to query the recommendation system.\n",
    "\n",
    "This notebook will be broken down into the following sections:\n",
    "1. Data Import\n",
    "2. Data Processing\n",
    "3. Data Analysis\n",
    "4. Saving and RCheckPoint\n",
    "5. Model Development\n",
    "6. Model Recommendations\n",
    "7. Model Embeddings Inspections\n",
    "8. Model Regularization\n",
    "5. Deep Learning Model\n",
    "6. Conclusion"
   ]
  },
  {
   "attachments": {},
   "cell_type": "markdown",
   "metadata": {
    "tags": []
   },
   "source": [
    "## Setup Environment and Import libraries"
   ]
  },
  {
   "cell_type": "code",
   "execution_count": 1,
   "metadata": {
    "execution": {
     "iopub.execute_input": "2022-12-17T19:37:33.312450Z",
     "iopub.status.busy": "2022-12-17T19:37:33.311454Z",
     "iopub.status.idle": "2022-12-17T19:37:33.330451Z",
     "shell.execute_reply": "2022-12-17T19:37:33.329455Z",
     "shell.execute_reply.started": "2022-12-17T19:37:33.312450Z"
    }
   },
   "outputs": [],
   "source": [
    "import warnings\n",
    "warnings.filterwarnings('ignore')\n",
    "warnings.simplefilter('ignore')"
   ]
  },
  {
   "cell_type": "code",
   "execution_count": 2,
   "metadata": {
    "execution": {
     "iopub.execute_input": "2022-12-17T19:37:33.332488Z",
     "iopub.status.busy": "2022-12-17T19:37:33.332488Z",
     "iopub.status.idle": "2022-12-17T19:37:38.932246Z",
     "shell.execute_reply": "2022-12-17T19:37:38.931335Z",
     "shell.execute_reply.started": "2022-12-17T19:37:33.332488Z"
    },
    "tags": []
   },
   "outputs": [
    {
     "name": "stdout",
     "output_type": "stream",
     "text": [
      "WARNING:tensorflow:From c:\\Users\\Diarmuid\\anaconda3\\envs\\RecSys\\lib\\site-packages\\tensorflow\\python\\compat\\v2_compat.py:107: disable_resource_variables (from tensorflow.python.ops.variable_scope) is deprecated and will be removed in a future version.\n",
      "Instructions for updating:\n",
      "non-resource variables are not supported in the long term\n"
     ]
    }
   ],
   "source": [
    "# Basic\n",
    "import pandas as pd\n",
    "import numpy as np\n",
    "\n",
    "# Visual\n",
    "from matplotlib import pyplot as plt\n",
    "import seaborn as sns\n",
    "from mpl_toolkits.mplot3d import Axes3D\n",
    "import altair as alt\n",
    "\n",
    "# Math for mean, mode aggregation\n",
    "from statistics import *\n",
    "\n",
    "from datetime import datetime as dt\n",
    "from IPython import display\n",
    "import sklearn\n",
    "import sklearn.manifold\n",
    "import tensorflow.compat.v1 as tf\n",
    "import collections\n",
    "\n",
    "tf.disable_v2_behavior()\n",
    "tf.logging.set_verbosity(tf.logging.ERROR)\n",
    "\n",
    "# Add some convenience functions to Pandas DataFrame.\n",
    "pd.options.display.float_format = \"{:.3f}\".format\n",
    "\n",
    "\n",
    "def mask(df, key, function):\n",
    "    \"\"\"Returns a filtered dataframe, by applying function to key\"\"\"\n",
    "    return df[function(df[key])]\n",
    "\n",
    "\n",
    "def flatten_cols(df):\n",
    "    df.columns = [\" \".join(col).strip() for col in df.columns.values]\n",
    "    return df\n",
    "\n",
    "\n",
    "pd.DataFrame.mask = mask\n",
    "pd.DataFrame.flatten_cols = flatten_cols\n",
    "\n",
    "# Install Altair and activate its colab renderer.\n",
    "import altair as alt\n",
    "\n",
    "#alt.data_transformers.enable(\"default\", max_rows=None)\n",
    "# alt.renderers.enable('colab')\n",
    "\n",
    "# Install spreadsheets and import authentication module.\n",
    "# USER_RATINGS = False\n",
    "#!pip install --upgrade -q gspread\n",
    "# from google.colab import auth\n",
    "# import gspread\n",
    "# from oauth2client.client import GoogleCredentials\n"
   ]
  },
  {
   "attachments": {},
   "cell_type": "markdown",
   "metadata": {
    "tags": []
   },
   "source": [
    "## Data Import and Preview\n",
    "The details for each dataframe have been taken from the readme.txt file\n",
    "\n",
    "PEP8 style guide is used for naming columns"
   ]
  },
  {
   "attachments": {},
   "cell_type": "markdown",
   "metadata": {},
   "source": [
    "### Artists\n",
    "- 17632 artists\n",
    "- The URL links to the artist page on lastfm. However, the PictureURL doesn't work on google"
   ]
  },
  {
   "cell_type": "code",
   "execution_count": 3,
   "metadata": {
    "execution": {
     "iopub.execute_input": "2022-12-17T19:37:38.933328Z",
     "iopub.status.busy": "2022-12-17T19:37:38.932246Z",
     "iopub.status.idle": "2022-12-17T19:37:39.058247Z",
     "shell.execute_reply": "2022-12-17T19:37:39.057246Z",
     "shell.execute_reply.started": "2022-12-17T19:37:38.933328Z"
    }
   },
   "outputs": [
    {
     "name": "stdout",
     "output_type": "stream",
     "text": [
      "   ArtistId               Name                                         URL  \\\n",
      "0         1       MALICE MIZER       http://www.last.fm/music/MALICE+MIZER   \n",
      "1         2    Diary of Dreams    http://www.last.fm/music/Diary+of+Dreams   \n",
      "2         3  Carpathian Forest  http://www.last.fm/music/Carpathian+Forest   \n",
      "3         4       Moi dix Mois       http://www.last.fm/music/Moi+dix+Mois   \n",
      "4         5        Bella Morte        http://www.last.fm/music/Bella+Morte   \n",
      "\n",
      "                                          PictureURL  \n",
      "0    http://userserve-ak.last.fm/serve/252/10808.jpg  \n",
      "1  http://userserve-ak.last.fm/serve/252/3052066.jpg  \n",
      "2  http://userserve-ak.last.fm/serve/252/40222717...  \n",
      "3  http://userserve-ak.last.fm/serve/252/54697835...  \n",
      "4  http://userserve-ak.last.fm/serve/252/14789013...  \n",
      "<class 'pandas.core.frame.DataFrame'>\n",
      "RangeIndex: 17632 entries, 0 to 17631\n",
      "Data columns (total 4 columns):\n",
      " #   Column      Non-Null Count  Dtype \n",
      "---  ------      --------------  ----- \n",
      " 0   ArtistId    17632 non-null  int64 \n",
      " 1   Name        17632 non-null  object\n",
      " 2   URL         17632 non-null  object\n",
      " 3   PictureURL  17188 non-null  object\n",
      "dtypes: int64(1), object(3)\n",
      "memory usage: 551.1+ KB\n",
      "None\n",
      "                Name                                    URL  \\\n",
      "count          17632                                  17632   \n",
      "unique         17632                                  17632   \n",
      "top     MALICE MIZER  http://www.last.fm/music/MALICE+MIZER   \n",
      "freq               1                                      1   \n",
      "\n",
      "                                             PictureURL  \n",
      "count                                             17188  \n",
      "unique                                            17188  \n",
      "top     http://userserve-ak.last.fm/serve/252/10808.jpg  \n",
      "freq                                                  1  \n"
     ]
    }
   ],
   "source": [
    "artist_cols = [\"ArtistId\", \"Name\", \"URL\", \"PictureURL\"]\n",
    "df_artists = pd.read_csv(\n",
    "    \"../data/hetrec2011-lastfm-2k/artists.dat\",\n",
    "    sep=\"\\t\",\n",
    "    skiprows=1,\n",
    "    names=artist_cols,\n",
    ")\n",
    "print(df_artists.head())\n",
    "print(df_artists.info())\n",
    "print(df_artists.describe(include=\"object\"))\n"
   ]
  },
  {
   "attachments": {},
   "cell_type": "markdown",
   "metadata": {},
   "source": [
    "### Tags\n",
    "- 11946 tags"
   ]
  },
  {
   "cell_type": "code",
   "execution_count": 4,
   "metadata": {
    "execution": {
     "iopub.execute_input": "2022-12-17T19:37:39.061249Z",
     "iopub.status.busy": "2022-12-17T19:37:39.060248Z",
     "iopub.status.idle": "2022-12-17T19:37:39.119446Z",
     "shell.execute_reply": "2022-12-17T19:37:39.118438Z",
     "shell.execute_reply.started": "2022-12-17T19:37:39.061249Z"
    }
   },
   "outputs": [
    {
     "name": "stdout",
     "output_type": "stream",
     "text": [
      "   TagId               Name\n",
      "0      1              metal\n",
      "1      2  alternative metal\n",
      "2      3          goth rock\n",
      "3      4        black metal\n",
      "4      5        death metal\n",
      "<class 'pandas.core.frame.DataFrame'>\n",
      "RangeIndex: 11946 entries, 0 to 11945\n",
      "Data columns (total 2 columns):\n",
      " #   Column  Non-Null Count  Dtype \n",
      "---  ------  --------------  ----- \n",
      " 0   TagId   11946 non-null  int64 \n",
      " 1   Name    11946 non-null  object\n",
      "dtypes: int64(1), object(1)\n",
      "memory usage: 186.8+ KB\n",
      "None\n",
      "          TagId\n",
      "count 11946.000\n",
      "mean   6242.315\n",
      "std    3667.498\n",
      "min       1.000\n",
      "25%    3036.250\n",
      "50%    6210.500\n",
      "75%    9460.750\n",
      "max   12648.000\n",
      "         Name\n",
      "count   11946\n",
      "unique  11946\n",
      "top     metal\n",
      "freq        1\n"
     ]
    }
   ],
   "source": [
    "tags_cols = [\"TagId\", \"Name\"]\n",
    "df_tags = pd.read_csv(\n",
    "    \"../data/hetrec2011-lastfm-2k/tags.dat\",\n",
    "    sep=\"\\t\",\n",
    "    skiprows=1,\n",
    "    names=tags_cols,\n",
    "    encoding=\"latin-1\",\n",
    ")\n",
    "print(df_tags.head())\n",
    "print(df_tags.info())\n",
    "print(df_tags.describe())\n",
    "print(df_tags.describe(include=['object']))\n"
   ]
  },
  {
   "attachments": {},
   "cell_type": "markdown",
   "metadata": {},
   "source": [
    "### User Artist\n",
    "This is name df_user_artist because each row is one user and artist, when artists are aggregated it will be ```df_user_artists```\n",
    "- 1892 users\n",
    "- 92834 user-listened artist relations, i.e. tuples [user, artist, listeningCount]\n",
    "- avg. 49.067 artists most listened by each user\n",
    "- avg. 5.265 users who listened each artist\n",
    "- ListenTime is the listening count between UserId and ArtistId ranging from 1 to 352698."
   ]
  },
  {
   "cell_type": "code",
   "execution_count": 5,
   "metadata": {
    "execution": {
     "iopub.execute_input": "2022-12-17T19:37:39.120817Z",
     "iopub.status.busy": "2022-12-17T19:37:39.120438Z",
     "iopub.status.idle": "2022-12-17T19:37:39.196417Z",
     "shell.execute_reply": "2022-12-17T19:37:39.195412Z",
     "shell.execute_reply.started": "2022-12-17T19:37:39.120817Z"
    }
   },
   "outputs": [
    {
     "name": "stdout",
     "output_type": "stream",
     "text": [
      "   UserId  ArtistId  ListenTime\n",
      "0       2        51       13883\n",
      "1       2        52       11690\n",
      "2       2        53       11351\n",
      "3       2        54       10300\n",
      "4       2        55        8983\n",
      "<class 'pandas.core.frame.DataFrame'>\n",
      "RangeIndex: 92834 entries, 0 to 92833\n",
      "Data columns (total 3 columns):\n",
      " #   Column      Non-Null Count  Dtype\n",
      "---  ------      --------------  -----\n",
      " 0   UserId      92834 non-null  int64\n",
      " 1   ArtistId    92834 non-null  int64\n",
      " 2   ListenTime  92834 non-null  int64\n",
      "dtypes: int64(3)\n",
      "memory usage: 2.1 MB\n",
      "None\n",
      "         UserId  ArtistId  ListenTime\n",
      "count 92834.000 92834.000   92834.000\n",
      "mean   1037.010  3331.123     745.244\n",
      "std     610.870  4383.591    3751.322\n",
      "min       2.000     1.000       1.000\n",
      "25%     502.000   436.000     107.000\n",
      "50%    1029.000  1246.000     260.000\n",
      "75%    1568.000  4350.000     614.000\n",
      "max    2100.000 18745.000  352698.000\n"
     ]
    }
   ],
   "source": [
    "user_artist_cols = [\"UserId\", \"ArtistId\", \"ListenTime\"]\n",
    "df_user_artist = pd.read_csv(\n",
    "    \"../data/hetrec2011-lastfm-2k/user_artists.dat\",\n",
    "    sep=\"\\t\",\n",
    "    skiprows=1,\n",
    "    encoding=\"latin-1\",\n",
    "    names=user_artist_cols,\n",
    ")\n",
    "print(df_user_artist.head())\n",
    "print(df_user_artist.info())\n",
    "print(df_user_artist.describe())\n"
   ]
  },
  {
   "attachments": {},
   "cell_type": "markdown",
   "metadata": {
    "tags": []
   },
   "source": [
    "### User Friends\n",
    "- 12717 bi-directional user friend relations, i.e. 25434 (user_i, user_j) pairs\n",
    "  - avg. 13.443 friend relations per user"
   ]
  },
  {
   "cell_type": "code",
   "execution_count": 6,
   "metadata": {
    "execution": {
     "iopub.execute_input": "2022-12-17T19:37:39.198413Z",
     "iopub.status.busy": "2022-12-17T19:37:39.197972Z",
     "iopub.status.idle": "2022-12-17T19:37:39.244429Z",
     "shell.execute_reply": "2022-12-17T19:37:39.243497Z",
     "shell.execute_reply.started": "2022-12-17T19:37:39.198413Z"
    }
   },
   "outputs": [
    {
     "name": "stdout",
     "output_type": "stream",
     "text": [
      "   UserId  FriendId\n",
      "0       2       275\n",
      "1       2       428\n",
      "2       2       515\n",
      "3       2       761\n",
      "4       2       831\n",
      "<class 'pandas.core.frame.DataFrame'>\n",
      "RangeIndex: 25434 entries, 0 to 25433\n",
      "Data columns (total 2 columns):\n",
      " #   Column    Non-Null Count  Dtype\n",
      "---  ------    --------------  -----\n",
      " 0   UserId    25434 non-null  int64\n",
      " 1   FriendId  25434 non-null  int64\n",
      "dtypes: int64(2)\n",
      "memory usage: 397.5 KB\n",
      "None\n",
      "         UserId  FriendId\n",
      "count 25434.000 25434.000\n",
      "mean    992.161   992.161\n",
      "std     603.959   603.959\n",
      "min       2.000     2.000\n",
      "25%     441.000   441.000\n",
      "50%     984.000   984.000\n",
      "75%    1514.000  1514.000\n",
      "max    2100.000  2100.000\n"
     ]
    }
   ],
   "source": [
    "user_friends_cols = [\"UserId\", \"FriendId\"]\n",
    "df_user_friends = pd.read_csv(\n",
    "    \"../data/hetrec2011-lastfm-2k/user_friends.dat\",\n",
    "    sep=\"\\t\",\n",
    "    skiprows=1,\n",
    "    names=user_friends_cols,\n",
    ")\n",
    "print(df_user_friends.head())\n",
    "print(df_user_friends.info())\n",
    "print(df_user_friends.describe())\n"
   ]
  },
  {
   "attachments": {},
   "cell_type": "markdown",
   "metadata": {},
   "source": [
    "### Tag Timestamps\n",
    "- 186479 tag assignments (tas), i.e. tuples [user, tag, artist]\n",
    "    - avg. 98.562 tas per user\n",
    "    - avg. 14.891 tas per artist\n",
    "    - avg. 18.930 distinct tags used by each user\n",
    "    - avg. 8.764 distinct tags used for each artist"
   ]
  },
  {
   "cell_type": "code",
   "execution_count": 7,
   "metadata": {
    "execution": {
     "iopub.execute_input": "2022-12-17T19:37:39.245411Z",
     "iopub.status.busy": "2022-12-17T19:37:39.245411Z",
     "iopub.status.idle": "2022-12-17T19:37:39.384998Z",
     "shell.execute_reply": "2022-12-17T19:37:39.384120Z",
     "shell.execute_reply.started": "2022-12-17T19:37:39.245411Z"
    }
   },
   "outputs": [
    {
     "name": "stdout",
     "output_type": "stream",
     "text": [
      "   UserId  ArtistId  TagId      Timestamp\n",
      "0       2        52     13  1238536800000\n",
      "1       2        52     15  1238536800000\n",
      "2       2        52     18  1238536800000\n",
      "3       2        52     21  1238536800000\n",
      "4       2        52     41  1238536800000\n",
      "<class 'pandas.core.frame.DataFrame'>\n",
      "RangeIndex: 186479 entries, 0 to 186478\n",
      "Data columns (total 4 columns):\n",
      " #   Column     Non-Null Count   Dtype\n",
      "---  ------     --------------   -----\n",
      " 0   UserId     186479 non-null  int64\n",
      " 1   ArtistId   186479 non-null  int64\n",
      " 2   TagId      186479 non-null  int64\n",
      " 3   Timestamp  186479 non-null  int64\n",
      "dtypes: int64(4)\n",
      "memory usage: 5.7 MB\n",
      "None\n",
      "          UserId   ArtistId      TagId         Timestamp\n",
      "count 186479.000 186479.000 186479.000        186479.000\n",
      "mean    1035.600   4375.845   1439.583 1239203752024.526\n",
      "std      622.461   4897.790   2775.340   42990907480.000\n",
      "min        2.000      1.000      1.000 -428720400000.000\n",
      "25%      488.000    686.000     79.000 1209592800000.000\n",
      "50%     1021.000   2203.000    195.000 1243807200000.000\n",
      "75%     1624.000   6714.000    887.000 1275343200000.000\n",
      "max     2100.000  18744.000  12647.000 1304941497468.000\n"
     ]
    }
   ],
   "source": [
    "tag_timestamps_cols = [\"UserId\", \"ArtistId\", \"TagId\", \"Timestamp\"]\n",
    "df_tag_timestamps = pd.read_csv(\n",
    "    \"../data/hetrec2011-lastfm-2k/user_taggedartists-timestamps.dat\",\n",
    "    skiprows=1,\n",
    "    sep=\"\\t\",\n",
    "    names=tag_timestamps_cols,\n",
    ")\n",
    "print(df_tag_timestamps.head())\n",
    "print(df_tag_timestamps.info())\n",
    "print(df_tag_timestamps.describe())\n"
   ]
  },
  {
   "attachments": {},
   "cell_type": "markdown",
   "metadata": {},
   "source": [
    "### Tag"
   ]
  },
  {
   "cell_type": "code",
   "execution_count": 8,
   "metadata": {
    "execution": {
     "iopub.execute_input": "2022-12-17T19:37:39.387041Z",
     "iopub.status.busy": "2022-12-17T19:37:39.385995Z",
     "iopub.status.idle": "2022-12-17T19:37:39.527997Z",
     "shell.execute_reply": "2022-12-17T19:37:39.527316Z",
     "shell.execute_reply.started": "2022-12-17T19:37:39.387041Z"
    },
    "tags": []
   },
   "outputs": [
    {
     "name": "stdout",
     "output_type": "stream",
     "text": [
      "   UserId  ArtistId  TagId  Day  Month  Year\n",
      "0       2        52     13    1      4  2009\n",
      "1       2        52     15    1      4  2009\n",
      "2       2        52     18    1      4  2009\n",
      "3       2        52     21    1      4  2009\n",
      "4       2        52     41    1      4  2009\n",
      "<class 'pandas.core.frame.DataFrame'>\n",
      "RangeIndex: 186479 entries, 0 to 186478\n",
      "Data columns (total 6 columns):\n",
      " #   Column    Non-Null Count   Dtype\n",
      "---  ------    --------------   -----\n",
      " 0   UserId    186479 non-null  int64\n",
      " 1   ArtistId  186479 non-null  int64\n",
      " 2   TagId     186479 non-null  int64\n",
      " 3   Day       186479 non-null  int64\n",
      " 4   Month     186479 non-null  int64\n",
      " 5   Year      186479 non-null  int64\n",
      "dtypes: int64(6)\n",
      "memory usage: 8.5 MB\n",
      "None\n",
      "          UserId   ArtistId      TagId        Day      Month       Year\n",
      "count 186479.000 186479.000 186479.000 186479.000 186479.000 186479.000\n",
      "mean    1035.600   4375.845   1439.583      1.096      6.524   2008.810\n",
      "std      622.461   4897.790   2775.340      0.713      3.487      1.410\n",
      "min        2.000      1.000      1.000      1.000      1.000   1956.000\n",
      "25%      488.000    686.000     79.000      1.000      3.000   2008.000\n",
      "50%     1021.000   2203.000    195.000      1.000      7.000   2009.000\n",
      "75%     1624.000   6714.000    887.000      1.000     10.000   2010.000\n",
      "max     2100.000  18744.000  12647.000      9.000     12.000   2011.000\n"
     ]
    }
   ],
   "source": [
    "tag_cols = [\"UserId\", \"ArtistId\", \"TagId\", \"Day\", \"Month\", \"Year\"]\n",
    "df_tag = pd.read_csv(\n",
    "    \"../data/hetrec2011-lastfm-2k/user_taggedartists.dat\",\n",
    "    sep=\"\\t\",\n",
    "    skiprows=1,\n",
    "    names=tag_cols,\n",
    ")\n",
    "print(df_tag.head())\n",
    "print(df_tag.info())\n",
    "print(df_tag.describe())\n"
   ]
  },
  {
   "attachments": {},
   "cell_type": "markdown",
   "metadata": {
    "tags": []
   },
   "source": [
    "## Data Processing"
   ]
  },
  {
   "attachments": {},
   "cell_type": "markdown",
   "metadata": {
    "tags": []
   },
   "source": [
    "### Steps to Take\n",
    "- Drop columns in df_artist\n",
    "- Create ```dict_artists```, a dictionary for artist id and name.\n",
    "- Map Artist id to name in ```df_user_artist```\n",
    "- Merge ```df_tag``` and ```df_tag_timestamps``` on UserId, ArtistId, TagId.\n",
    "- Convert Tag values to CamelCase.\n",
    "- Create ```dict_tags```, a dictionary for tag id and name.\n",
    "- Create a Datetime column from Timestamp.\n",
    "- Create ```Tag``` column in ```df_tag```.\n",
    "- Drop rows and artists in ```df_tag``` that contain ```ArtistId``` not in df_user_artist\n",
    "- Drop rows and tags in ```df_tag``` used only once or twice.\n",
    "- Create a ```TopTag and AllTags``` column in df_artists for the most popular associated tag and list of all tags\n",
    "- Create a ```TopTag and AllTags``` column in df_user_artist for the most popular associated tag and list of all tags\n",
    "- Fill in null tag columns with ```''``` or ```[]``` for ```TopTag``` and ```AllTags```, respectively.\n",
    "- Indexes need to be changed for ```df_user_artist, df_artists, df_tag```\n",
    "- Create a one-hot encoding for the tag values.\n",
    "- Merge one-hot encoding with ```df_tag``` so each row represents each instance of a user applying tags to an artist. \n",
    "- Create a relationship measure for friends based on their shared artist listens"
   ]
  },
  {
   "attachments": {},
   "cell_type": "markdown",
   "metadata": {},
   "source": [
    "#### Drop URL rows"
   ]
  },
  {
   "cell_type": "code",
   "execution_count": 9,
   "metadata": {
    "execution": {
     "iopub.execute_input": "2022-12-17T19:37:39.529998Z",
     "iopub.status.busy": "2022-12-17T19:37:39.529160Z",
     "iopub.status.idle": "2022-12-17T19:37:39.544024Z",
     "shell.execute_reply": "2022-12-17T19:37:39.543104Z",
     "shell.execute_reply.started": "2022-12-17T19:37:39.529998Z"
    },
    "tags": []
   },
   "outputs": [],
   "source": [
    "# These will not be used\n",
    "df_artists.drop(['URL', 'PictureURL'], axis=1, inplace=True)"
   ]
  },
  {
   "attachments": {},
   "cell_type": "markdown",
   "metadata": {},
   "source": [
    "#### Map Artist Name\n",
    "Created a dictionary to use only for mapping the id in df_user_artist to a name for easier analysis"
   ]
  },
  {
   "cell_type": "code",
   "execution_count": 10,
   "metadata": {
    "execution": {
     "iopub.execute_input": "2022-12-17T19:37:39.545693Z",
     "iopub.status.busy": "2022-12-17T19:37:39.544999Z",
     "iopub.status.idle": "2022-12-17T19:37:39.574995Z",
     "shell.execute_reply": "2022-12-17T19:37:39.573997Z",
     "shell.execute_reply.started": "2022-12-17T19:37:39.545693Z"
    },
    "tags": []
   },
   "outputs": [],
   "source": [
    "dict_artists = dict(zip(df_artists[\"ArtistId\"], df_artists[\"Name\"]))\n",
    "df_user_artist['Name'] = df_user_artist.ArtistId.map(dict_artists)"
   ]
  },
  {
   "attachments": {},
   "cell_type": "markdown",
   "metadata": {},
   "source": [
    "#### Tag Wrangling"
   ]
  },
  {
   "cell_type": "code",
   "execution_count": 11,
   "metadata": {
    "execution": {
     "iopub.execute_input": "2022-12-17T19:37:39.576995Z",
     "iopub.status.busy": "2022-12-17T19:37:39.575996Z",
     "iopub.status.idle": "2022-12-17T19:37:39.670995Z",
     "shell.execute_reply": "2022-12-17T19:37:39.670138Z",
     "shell.execute_reply.started": "2022-12-17T19:37:39.576995Z"
    }
   },
   "outputs": [],
   "source": [
    "df_tag = df_tag.merge(\n",
    "    df_tag_timestamps, \n",
    "    on=[\"UserId\", \"ArtistId\", \"TagId\"],\n",
    ")\n",
    "del df_tag_timestamps\n"
   ]
  },
  {
   "cell_type": "code",
   "execution_count": 12,
   "metadata": {
    "execution": {
     "iopub.execute_input": "2022-12-17T19:37:39.672491Z",
     "iopub.status.busy": "2022-12-17T19:37:39.671995Z",
     "iopub.status.idle": "2022-12-17T19:37:39.702049Z",
     "shell.execute_reply": "2022-12-17T19:37:39.701047Z",
     "shell.execute_reply.started": "2022-12-17T19:37:39.672491Z"
    },
    "tags": []
   },
   "outputs": [],
   "source": [
    "def CamelCase(s):\n",
    "    '''CamelCase converts a string \"hello world\" to CamelCase \"HelloWorld\"'''\n",
    "    return \"\".join([s.capitalize() for s in s.split()])\n",
    "\n",
    "df_tags.Name = df_tags.Name.transform(CamelCase)\n",
    "dict_tags = dict(zip(df_tags[\"TagId\"], df_tags[\"Name\"]))"
   ]
  },
  {
   "cell_type": "code",
   "execution_count": 13,
   "metadata": {
    "execution": {
     "iopub.execute_input": "2022-12-17T19:37:39.708201Z",
     "iopub.status.busy": "2022-12-17T19:37:39.708201Z",
     "iopub.status.idle": "2022-12-17T19:37:39.732050Z",
     "shell.execute_reply": "2022-12-17T19:37:39.731459Z",
     "shell.execute_reply.started": "2022-12-17T19:37:39.708201Z"
    },
    "tags": []
   },
   "outputs": [],
   "source": [
    "# Creating Tag column with name mapped from tag id\n",
    "df_tag[\"Tag\"] = df_tag.TagId.map(dict_tags)\n"
   ]
  },
  {
   "cell_type": "code",
   "execution_count": 14,
   "metadata": {
    "execution": {
     "iopub.execute_input": "2022-12-17T19:37:39.734067Z",
     "iopub.status.busy": "2022-12-17T19:37:39.733050Z",
     "iopub.status.idle": "2022-12-17T19:37:39.764049Z",
     "shell.execute_reply": "2022-12-17T19:37:39.763098Z",
     "shell.execute_reply.started": "2022-12-17T19:37:39.734067Z"
    },
    "tags": []
   },
   "outputs": [],
   "source": [
    "# Timestamp is too big and needs to be scaled first\n",
    "df_tag[\"Timestamp\"] = df_tag.Timestamp / 1e3\n",
    "df_tag[\"Datetime\"] = pd.to_datetime(df_tag[\"Timestamp\"], unit=\"s\")\n"
   ]
  },
  {
   "cell_type": "code",
   "execution_count": 15,
   "metadata": {
    "execution": {
     "iopub.execute_input": "2022-12-17T19:37:39.766048Z",
     "iopub.status.busy": "2022-12-17T19:37:39.765048Z",
     "iopub.status.idle": "2022-12-17T19:37:39.795660Z",
     "shell.execute_reply": "2022-12-17T19:37:39.794747Z",
     "shell.execute_reply.started": "2022-12-17T19:37:39.766048Z"
    },
    "tags": []
   },
   "outputs": [],
   "source": [
    "# removing artists that have not been listened to, these will be not be used in analysis\n",
    "before = df_tag.shape[0]\n",
    "before_artists = df_tag.ArtistId.nunique()\n",
    "df_tag = df_tag.loc[df_tag.ArtistId.isin(df_user_artist.ArtistId)]\n",
    "after = df_tag.shape[0]\n",
    "after_artists = df_tag.ArtistId.nunique()"
   ]
  },
  {
   "cell_type": "code",
   "execution_count": 16,
   "metadata": {
    "execution": {
     "iopub.execute_input": "2022-12-17T19:37:39.797252Z",
     "iopub.status.busy": "2022-12-17T19:37:39.796659Z",
     "iopub.status.idle": "2022-12-17T19:37:39.811629Z",
     "shell.execute_reply": "2022-12-17T19:37:39.810691Z",
     "shell.execute_reply.started": "2022-12-17T19:37:39.797252Z"
    },
    "tags": []
   },
   "outputs": [
    {
     "name": "stdout",
     "output_type": "stream",
     "text": [
      "\n",
      "1538 rows were dropped.\n",
      "390 artists were removed.\n",
      "\n"
     ]
    }
   ],
   "source": [
    "print(f'''\n",
    "{before - after } rows were dropped.\n",
    "{before_artists - after_artists} artists were removed.\n",
    "''')"
   ]
  },
  {
   "cell_type": "code",
   "execution_count": 17,
   "metadata": {
    "execution": {
     "iopub.execute_input": "2022-12-17T19:37:39.812629Z",
     "iopub.status.busy": "2022-12-17T19:37:39.812629Z",
     "iopub.status.idle": "2022-12-17T19:37:39.856630Z",
     "shell.execute_reply": "2022-12-17T19:37:39.855629Z",
     "shell.execute_reply.started": "2022-12-17T19:37:39.812629Z"
    },
    "tags": []
   },
   "outputs": [],
   "source": [
    "# Removing tags that are only used once or twice. Threshold is set at 2 due to the large drop from 2 to 3 tag uses\n",
    "# There are many tags used only once or twice but they are not very useful for understanding the artist\n",
    "before = df_tag.shape[0]\n",
    "before_tags = df_tag.TagId.nunique()\n",
    "tag_frequency = df_tag.groupby('TagId')['UserId'].count().sort_values()\n",
    "frequent_tags = tag_frequency[tag_frequency > 2]\n",
    "df_tag = df_tag.loc[df_tag.TagId.isin(frequent_tags)]\n",
    "after = df_tag.shape[0]\n",
    "after_tags = df_tag.TagId.nunique()"
   ]
  },
  {
   "cell_type": "code",
   "execution_count": 18,
   "metadata": {
    "execution": {
     "iopub.execute_input": "2022-12-17T19:37:39.858631Z",
     "iopub.status.busy": "2022-12-17T19:37:39.857631Z",
     "iopub.status.idle": "2022-12-17T19:37:39.872629Z",
     "shell.execute_reply": "2022-12-17T19:37:39.871633Z",
     "shell.execute_reply.started": "2022-12-17T19:37:39.858631Z"
    },
    "tags": []
   },
   "outputs": [
    {
     "name": "stdout",
     "output_type": "stream",
     "text": [
      "\n",
      "97870 rows have been dropped.\n",
      "9471 tags have been removed.\n",
      "\n"
     ]
    }
   ],
   "source": [
    "print(f'''\n",
    "{before - after} rows have been dropped.\n",
    "{before_tags - after_tags} tags have been removed.\n",
    "''')"
   ]
  },
  {
   "attachments": {},
   "cell_type": "markdown",
   "metadata": {},
   "source": [
    "#### Merge Tags, Users and Artists\n",
    "\n",
    "- Below are the tags grouped by user and artist. When merged with user artist dataframe there are many null values.\n",
    "- Users only tag a proportion of the artists they listen to."
   ]
  },
  {
   "cell_type": "code",
   "execution_count": 19,
   "metadata": {
    "execution": {
     "iopub.execute_input": "2022-12-17T19:37:39.874630Z",
     "iopub.status.busy": "2022-12-17T19:37:39.873631Z",
     "iopub.status.idle": "2022-12-17T19:37:43.367284Z",
     "shell.execute_reply": "2022-12-17T19:37:43.366259Z",
     "shell.execute_reply.started": "2022-12-17T19:37:39.874630Z"
    },
    "tags": []
   },
   "outputs": [
    {
     "data": {
      "text/html": [
       "<div>\n",
       "<style scoped>\n",
       "    .dataframe tbody tr th:only-of-type {\n",
       "        vertical-align: middle;\n",
       "    }\n",
       "\n",
       "    .dataframe tbody tr th {\n",
       "        vertical-align: top;\n",
       "    }\n",
       "\n",
       "    .dataframe thead th {\n",
       "        text-align: right;\n",
       "    }\n",
       "</style>\n",
       "<table border=\"1\" class=\"dataframe\">\n",
       "  <thead>\n",
       "    <tr style=\"text-align: right;\">\n",
       "      <th></th>\n",
       "      <th>UserId</th>\n",
       "      <th>ArtistId</th>\n",
       "      <th>TopTag</th>\n",
       "      <th>AllTags</th>\n",
       "    </tr>\n",
       "  </thead>\n",
       "  <tbody>\n",
       "    <tr>\n",
       "      <th>0</th>\n",
       "      <td>2</td>\n",
       "      <td>52</td>\n",
       "      <td>Chillout</td>\n",
       "      <td>[Chillout, Downtempo, Electronic, Trip-hop, Fe...</td>\n",
       "    </tr>\n",
       "    <tr>\n",
       "      <th>1</th>\n",
       "      <td>2</td>\n",
       "      <td>63</td>\n",
       "      <td>Chillout</td>\n",
       "      <td>[Chillout, Ambient, NewAge, GregorianChant]</td>\n",
       "    </tr>\n",
       "    <tr>\n",
       "      <th>2</th>\n",
       "      <td>2</td>\n",
       "      <td>73</td>\n",
       "      <td>Chillout</td>\n",
       "      <td>[Chillout, Ambient, Downtempo, Electronic, Lou...</td>\n",
       "    </tr>\n",
       "    <tr>\n",
       "      <th>3</th>\n",
       "      <td>2</td>\n",
       "      <td>94</td>\n",
       "      <td>Chillout</td>\n",
       "      <td>[Chillout, Downtempo, Lounge, Trip-hop, AcidJa...</td>\n",
       "    </tr>\n",
       "    <tr>\n",
       "      <th>4</th>\n",
       "      <td>2</td>\n",
       "      <td>96</td>\n",
       "      <td>80's</td>\n",
       "      <td>[80's, Pop]</td>\n",
       "    </tr>\n",
       "  </tbody>\n",
       "</table>\n",
       "</div>"
      ],
      "text/plain": [
       "   UserId  ArtistId    TopTag  \\\n",
       "0       2        52  Chillout   \n",
       "1       2        63  Chillout   \n",
       "2       2        73  Chillout   \n",
       "3       2        94  Chillout   \n",
       "4       2        96      80's   \n",
       "\n",
       "                                             AllTags  \n",
       "0  [Chillout, Downtempo, Electronic, Trip-hop, Fe...  \n",
       "1        [Chillout, Ambient, NewAge, GregorianChant]  \n",
       "2  [Chillout, Ambient, Downtempo, Electronic, Lou...  \n",
       "3  [Chillout, Downtempo, Lounge, Trip-hop, AcidJa...  \n",
       "4                                        [80's, Pop]  "
      ]
     },
     "execution_count": 19,
     "metadata": {},
     "output_type": "execute_result"
    }
   ],
   "source": [
    "df_tag.groupby(\n",
    "    ['UserId', \"ArtistId\"]\n",
    ").agg(\n",
    "    TopTag = ('Tag', mode), \n",
    "    AllTags = ('Tag', list)\n",
    ").reset_index().sort_values(['UserId', 'ArtistId']).head(5)"
   ]
  },
  {
   "cell_type": "code",
   "execution_count": 20,
   "metadata": {
    "execution": {
     "iopub.execute_input": "2022-12-17T19:37:43.368588Z",
     "iopub.status.busy": "2022-12-17T19:37:43.368282Z",
     "iopub.status.idle": "2022-12-17T19:37:46.621838Z",
     "shell.execute_reply": "2022-12-17T19:37:46.620935Z",
     "shell.execute_reply.started": "2022-12-17T19:37:43.368588Z"
    },
    "tags": []
   },
   "outputs": [
    {
     "data": {
      "text/html": [
       "<div>\n",
       "<style scoped>\n",
       "    .dataframe tbody tr th:only-of-type {\n",
       "        vertical-align: middle;\n",
       "    }\n",
       "\n",
       "    .dataframe tbody tr th {\n",
       "        vertical-align: top;\n",
       "    }\n",
       "\n",
       "    .dataframe thead th {\n",
       "        text-align: right;\n",
       "    }\n",
       "</style>\n",
       "<table border=\"1\" class=\"dataframe\">\n",
       "  <thead>\n",
       "    <tr style=\"text-align: right;\">\n",
       "      <th></th>\n",
       "      <th>UserId</th>\n",
       "      <th>ArtistId</th>\n",
       "      <th>ListenTime</th>\n",
       "      <th>Name</th>\n",
       "      <th>TopTag</th>\n",
       "      <th>AllTags</th>\n",
       "    </tr>\n",
       "  </thead>\n",
       "  <tbody>\n",
       "    <tr>\n",
       "      <th>0</th>\n",
       "      <td>2</td>\n",
       "      <td>51</td>\n",
       "      <td>13883</td>\n",
       "      <td>Duran Duran</td>\n",
       "      <td>NaN</td>\n",
       "      <td>NaN</td>\n",
       "    </tr>\n",
       "    <tr>\n",
       "      <th>1</th>\n",
       "      <td>2</td>\n",
       "      <td>52</td>\n",
       "      <td>11690</td>\n",
       "      <td>Morcheeba</td>\n",
       "      <td>Chillout</td>\n",
       "      <td>[Chillout, Downtempo, Electronic, Trip-hop, Fe...</td>\n",
       "    </tr>\n",
       "    <tr>\n",
       "      <th>2</th>\n",
       "      <td>2</td>\n",
       "      <td>53</td>\n",
       "      <td>11351</td>\n",
       "      <td>Air</td>\n",
       "      <td>NaN</td>\n",
       "      <td>NaN</td>\n",
       "    </tr>\n",
       "    <tr>\n",
       "      <th>3</th>\n",
       "      <td>2</td>\n",
       "      <td>54</td>\n",
       "      <td>10300</td>\n",
       "      <td>Hooverphonic</td>\n",
       "      <td>NaN</td>\n",
       "      <td>NaN</td>\n",
       "    </tr>\n",
       "    <tr>\n",
       "      <th>4</th>\n",
       "      <td>2</td>\n",
       "      <td>55</td>\n",
       "      <td>8983</td>\n",
       "      <td>Kylie Minogue</td>\n",
       "      <td>NaN</td>\n",
       "      <td>NaN</td>\n",
       "    </tr>\n",
       "  </tbody>\n",
       "</table>\n",
       "</div>"
      ],
      "text/plain": [
       "   UserId  ArtistId  ListenTime           Name    TopTag  \\\n",
       "0       2        51       13883    Duran Duran       NaN   \n",
       "1       2        52       11690      Morcheeba  Chillout   \n",
       "2       2        53       11351            Air       NaN   \n",
       "3       2        54       10300   Hooverphonic       NaN   \n",
       "4       2        55        8983  Kylie Minogue       NaN   \n",
       "\n",
       "                                             AllTags  \n",
       "0                                                NaN  \n",
       "1  [Chillout, Downtempo, Electronic, Trip-hop, Fe...  \n",
       "2                                                NaN  \n",
       "3                                                NaN  \n",
       "4                                                NaN  "
      ]
     },
     "execution_count": 20,
     "metadata": {},
     "output_type": "execute_result"
    }
   ],
   "source": [
    "df_user_artist.merge(\n",
    "    df_tag.loc[\n",
    "        df_tag.ArtistId.isin(df_user_artist.ArtistId)\n",
    "    ].groupby(\n",
    "        ['UserId', \"ArtistId\"]\n",
    "    ).agg(\n",
    "        TopTag = ('Tag', mode), \n",
    "        AllTags = ('Tag', list)\n",
    "    ).reset_index().sort_values(['UserId', 'ArtistId']),\n",
    "    left_on=['UserId', \"ArtistId\"],\n",
    "    right_on=['UserId', \"ArtistId\"],\n",
    "    how='left').head(5)"
   ]
  },
  {
   "cell_type": "code",
   "execution_count": 21,
   "metadata": {
    "execution": {
     "iopub.execute_input": "2022-12-17T19:37:46.623543Z",
     "iopub.status.busy": "2022-12-17T19:37:46.622838Z",
     "iopub.status.idle": "2022-12-17T19:37:47.394551Z",
     "shell.execute_reply": "2022-12-17T19:37:47.393853Z",
     "shell.execute_reply.started": "2022-12-17T19:37:46.623543Z"
    },
    "tags": []
   },
   "outputs": [],
   "source": [
    "df_artists = df_artists.merge(\n",
    "    df_tag.groupby(\"ArtistId\").agg(TopTag = ('Tag', mode), AllTags = ('Tag', list)),\n",
    "    left_on='ArtistId',\n",
    "    right_index=True,\n",
    "    how='left'\n",
    ")\n"
   ]
  },
  {
   "cell_type": "code",
   "execution_count": 22,
   "metadata": {
    "execution": {
     "iopub.execute_input": "2022-12-17T19:37:47.396518Z",
     "iopub.status.busy": "2022-12-17T19:37:47.395550Z",
     "iopub.status.idle": "2022-12-17T19:37:48.879930Z",
     "shell.execute_reply": "2022-12-17T19:37:48.879065Z",
     "shell.execute_reply.started": "2022-12-17T19:37:47.396518Z"
    },
    "tags": []
   },
   "outputs": [],
   "source": [
    "# TotalListenTime, MeanListenTime and FanCount are different measures used to understand the artists\n",
    "df_artists = df_artists.merge(\n",
    "    df_user_artist.groupby(\"ArtistId\").agg(\n",
    "        TotalListenTime=(\"ListenTime\", sum),\n",
    "        MeanListenTime=(\"ListenTime\", mean),\n",
    "        FanCount=(\"ListenTime\", len),\n",
    "    ),\n",
    "    left_on='ArtistId',\n",
    "    right_index=True\n",
    ")\n"
   ]
  },
  {
   "cell_type": "code",
   "execution_count": 23,
   "metadata": {
    "execution": {
     "iopub.execute_input": "2022-12-17T19:37:48.881511Z",
     "iopub.status.busy": "2022-12-17T19:37:48.880915Z",
     "iopub.status.idle": "2022-12-17T19:37:51.102158Z",
     "shell.execute_reply": "2022-12-17T19:37:51.100881Z",
     "shell.execute_reply.started": "2022-12-17T19:37:48.881511Z"
    },
    "tags": []
   },
   "outputs": [],
   "source": [
    "# Replacing null values is very important when implementing softmax model\n",
    "for row in df_artists.loc[df_artists.TopTag.isnull(), 'TopTag'].index:\n",
    "    df_artists.at[row, 'TopTag'] = ''\n",
    "    df_artists.at[row, 'AllTags'] = []"
   ]
  },
  {
   "cell_type": "code",
   "execution_count": 24,
   "metadata": {
    "execution": {
     "iopub.execute_input": "2022-12-17T19:37:51.104741Z",
     "iopub.status.busy": "2022-12-17T19:37:51.103970Z",
     "iopub.status.idle": "2022-12-17T19:37:51.131739Z",
     "shell.execute_reply": "2022-12-17T19:37:51.130827Z",
     "shell.execute_reply.started": "2022-12-17T19:37:51.104741Z"
    },
    "tags": []
   },
   "outputs": [
    {
     "data": {
      "text/html": [
       "<div>\n",
       "<style scoped>\n",
       "    .dataframe tbody tr th:only-of-type {\n",
       "        vertical-align: middle;\n",
       "    }\n",
       "\n",
       "    .dataframe tbody tr th {\n",
       "        vertical-align: top;\n",
       "    }\n",
       "\n",
       "    .dataframe thead th {\n",
       "        text-align: right;\n",
       "    }\n",
       "</style>\n",
       "<table border=\"1\" class=\"dataframe\">\n",
       "  <thead>\n",
       "    <tr style=\"text-align: right;\">\n",
       "      <th></th>\n",
       "      <th>ArtistId</th>\n",
       "      <th>Name</th>\n",
       "      <th>TopTag</th>\n",
       "      <th>AllTags</th>\n",
       "      <th>TotalListenTime</th>\n",
       "      <th>MeanListenTime</th>\n",
       "      <th>FanCount</th>\n",
       "    </tr>\n",
       "  </thead>\n",
       "  <tbody>\n",
       "    <tr>\n",
       "      <th>0</th>\n",
       "      <td>1</td>\n",
       "      <td>MALICE MIZER</td>\n",
       "      <td>VisualKei</td>\n",
       "      <td>[VisualKei, VisualKei, VisualKei]</td>\n",
       "      <td>771</td>\n",
       "      <td>257.000</td>\n",
       "      <td>3</td>\n",
       "    </tr>\n",
       "    <tr>\n",
       "      <th>1</th>\n",
       "      <td>2</td>\n",
       "      <td>Diary of Dreams</td>\n",
       "      <td>German</td>\n",
       "      <td>[German, SeenLive, Industrial, German, German,...</td>\n",
       "      <td>8012</td>\n",
       "      <td>667.667</td>\n",
       "      <td>12</td>\n",
       "    </tr>\n",
       "    <tr>\n",
       "      <th>2</th>\n",
       "      <td>3</td>\n",
       "      <td>Carpathian Forest</td>\n",
       "      <td>BlackMetal</td>\n",
       "      <td>[BlackMetal, BlackMetal, BlackMetal]</td>\n",
       "      <td>775</td>\n",
       "      <td>258.333</td>\n",
       "      <td>3</td>\n",
       "    </tr>\n",
       "    <tr>\n",
       "      <th>3</th>\n",
       "      <td>4</td>\n",
       "      <td>Moi dix Mois</td>\n",
       "      <td>VisualKei</td>\n",
       "      <td>[VisualKei, Rock, VisualKei, GothicMetal, Visu...</td>\n",
       "      <td>563</td>\n",
       "      <td>281.500</td>\n",
       "      <td>2</td>\n",
       "    </tr>\n",
       "    <tr>\n",
       "      <th>4</th>\n",
       "      <td>5</td>\n",
       "      <td>Bella Morte</td>\n",
       "      <td>GothicRock</td>\n",
       "      <td>[GothicRock]</td>\n",
       "      <td>913</td>\n",
       "      <td>456.500</td>\n",
       "      <td>2</td>\n",
       "    </tr>\n",
       "  </tbody>\n",
       "</table>\n",
       "</div>"
      ],
      "text/plain": [
       "   ArtistId               Name      TopTag  \\\n",
       "0         1       MALICE MIZER   VisualKei   \n",
       "1         2    Diary of Dreams      German   \n",
       "2         3  Carpathian Forest  BlackMetal   \n",
       "3         4       Moi dix Mois   VisualKei   \n",
       "4         5        Bella Morte  GothicRock   \n",
       "\n",
       "                                             AllTags  TotalListenTime  \\\n",
       "0                  [VisualKei, VisualKei, VisualKei]              771   \n",
       "1  [German, SeenLive, Industrial, German, German,...             8012   \n",
       "2               [BlackMetal, BlackMetal, BlackMetal]              775   \n",
       "3  [VisualKei, Rock, VisualKei, GothicMetal, Visu...              563   \n",
       "4                                       [GothicRock]              913   \n",
       "\n",
       "   MeanListenTime  FanCount  \n",
       "0         257.000         3  \n",
       "1         667.667        12  \n",
       "2         258.333         3  \n",
       "3         281.500         2  \n",
       "4         456.500         2  "
      ]
     },
     "execution_count": 24,
     "metadata": {},
     "output_type": "execute_result"
    }
   ],
   "source": [
    "df_artists.head()"
   ]
  },
  {
   "cell_type": "code",
   "execution_count": 25,
   "metadata": {
    "execution": {
     "iopub.execute_input": "2022-12-17T19:37:51.133740Z",
     "iopub.status.busy": "2022-12-17T19:37:51.132739Z",
     "iopub.status.idle": "2022-12-17T19:37:54.558863Z",
     "shell.execute_reply": "2022-12-17T19:37:54.558086Z",
     "shell.execute_reply.started": "2022-12-17T19:37:51.133740Z"
    },
    "tags": []
   },
   "outputs": [],
   "source": [
    "df_user_artist = df_user_artist.merge(\n",
    "    df_tag.groupby(['UserId', \"ArtistId\"]).agg(TopTag = ('Tag', mode), AllTags = ('Tag', list)).reset_index(),\n",
    "    left_on=['UserId', \"ArtistId\"],\n",
    "    right_on=['UserId', \"ArtistId\"],\n",
    "    how='left'\n",
    ")"
   ]
  },
  {
   "cell_type": "code",
   "execution_count": 26,
   "metadata": {
    "execution": {
     "iopub.execute_input": "2022-12-17T19:37:54.560862Z",
     "iopub.status.busy": "2022-12-17T19:37:54.559862Z",
     "iopub.status.idle": "2022-12-17T19:39:10.655512Z",
     "shell.execute_reply": "2022-12-17T19:39:10.654555Z",
     "shell.execute_reply.started": "2022-12-17T19:37:54.560862Z"
    },
    "tags": []
   },
   "outputs": [],
   "source": [
    "# Replacing null values is very important when implementing softmax model\n",
    "for row in df_user_artist.loc[df_user_artist.TopTag.isnull(), 'TopTag'].index:\n",
    "    df_user_artist.at[row, 'TopTag'] = ''\n",
    "    df_user_artist.at[row, 'AllTags'] = []"
   ]
  },
  {
   "cell_type": "code",
   "execution_count": 27,
   "metadata": {
    "execution": {
     "iopub.execute_input": "2022-12-17T19:39:10.659512Z",
     "iopub.status.busy": "2022-12-17T19:39:10.658515Z",
     "iopub.status.idle": "2022-12-17T19:39:10.687545Z",
     "shell.execute_reply": "2022-12-17T19:39:10.686600Z",
     "shell.execute_reply.started": "2022-12-17T19:39:10.659512Z"
    },
    "tags": []
   },
   "outputs": [
    {
     "data": {
      "text/html": [
       "<div>\n",
       "<style scoped>\n",
       "    .dataframe tbody tr th:only-of-type {\n",
       "        vertical-align: middle;\n",
       "    }\n",
       "\n",
       "    .dataframe tbody tr th {\n",
       "        vertical-align: top;\n",
       "    }\n",
       "\n",
       "    .dataframe thead th {\n",
       "        text-align: right;\n",
       "    }\n",
       "</style>\n",
       "<table border=\"1\" class=\"dataframe\">\n",
       "  <thead>\n",
       "    <tr style=\"text-align: right;\">\n",
       "      <th></th>\n",
       "      <th>UserId</th>\n",
       "      <th>ArtistId</th>\n",
       "      <th>ListenTime</th>\n",
       "      <th>Name</th>\n",
       "      <th>TopTag</th>\n",
       "      <th>AllTags</th>\n",
       "    </tr>\n",
       "  </thead>\n",
       "  <tbody>\n",
       "    <tr>\n",
       "      <th>0</th>\n",
       "      <td>2</td>\n",
       "      <td>51</td>\n",
       "      <td>13883</td>\n",
       "      <td>Duran Duran</td>\n",
       "      <td></td>\n",
       "      <td>[]</td>\n",
       "    </tr>\n",
       "    <tr>\n",
       "      <th>1</th>\n",
       "      <td>2</td>\n",
       "      <td>52</td>\n",
       "      <td>11690</td>\n",
       "      <td>Morcheeba</td>\n",
       "      <td>Chillout</td>\n",
       "      <td>[Chillout, Downtempo, Electronic, Trip-hop, Fe...</td>\n",
       "    </tr>\n",
       "    <tr>\n",
       "      <th>2</th>\n",
       "      <td>2</td>\n",
       "      <td>53</td>\n",
       "      <td>11351</td>\n",
       "      <td>Air</td>\n",
       "      <td></td>\n",
       "      <td>[]</td>\n",
       "    </tr>\n",
       "    <tr>\n",
       "      <th>3</th>\n",
       "      <td>2</td>\n",
       "      <td>54</td>\n",
       "      <td>10300</td>\n",
       "      <td>Hooverphonic</td>\n",
       "      <td></td>\n",
       "      <td>[]</td>\n",
       "    </tr>\n",
       "    <tr>\n",
       "      <th>4</th>\n",
       "      <td>2</td>\n",
       "      <td>55</td>\n",
       "      <td>8983</td>\n",
       "      <td>Kylie Minogue</td>\n",
       "      <td></td>\n",
       "      <td>[]</td>\n",
       "    </tr>\n",
       "  </tbody>\n",
       "</table>\n",
       "</div>"
      ],
      "text/plain": [
       "   UserId  ArtistId  ListenTime           Name    TopTag  \\\n",
       "0       2        51       13883    Duran Duran             \n",
       "1       2        52       11690      Morcheeba  Chillout   \n",
       "2       2        53       11351            Air             \n",
       "3       2        54       10300   Hooverphonic             \n",
       "4       2        55        8983  Kylie Minogue             \n",
       "\n",
       "                                             AllTags  \n",
       "0                                                 []  \n",
       "1  [Chillout, Downtempo, Electronic, Trip-hop, Fe...  \n",
       "2                                                 []  \n",
       "3                                                 []  \n",
       "4                                                 []  "
      ]
     },
     "execution_count": 27,
     "metadata": {},
     "output_type": "execute_result"
    }
   ],
   "source": [
    "df_user_artist.head()"
   ]
  },
  {
   "attachments": {},
   "cell_type": "markdown",
   "metadata": {},
   "source": [
    "#### Resetting Indexes"
   ]
  },
  {
   "cell_type": "code",
   "execution_count": 28,
   "metadata": {
    "execution": {
     "iopub.execute_input": "2022-12-17T19:39:10.688705Z",
     "iopub.status.busy": "2022-12-17T19:39:10.688705Z",
     "iopub.status.idle": "2022-12-17T19:39:10.717513Z",
     "shell.execute_reply": "2022-12-17T19:39:10.716514Z",
     "shell.execute_reply.started": "2022-12-17T19:39:10.688705Z"
    },
    "tags": []
   },
   "outputs": [],
   "source": [
    "# Creating user index dictionary\n",
    "users = df_user_artist.UserId.sort_values().unique()\n",
    "idx_users = range(len(users))\n",
    "dict_idx_users = dict(zip(users, idx_users))\n",
    "\n",
    "# Creating artist index dictionary\n",
    "artists = df_artists.ArtistId.sort_values().unique()\n",
    "idx_artists = range(len(artists))\n",
    "dict_idx_artists = dict(zip(artists, idx_artists))"
   ]
  },
  {
   "cell_type": "code",
   "execution_count": 29,
   "metadata": {
    "execution": {
     "iopub.execute_input": "2022-12-17T19:39:10.718626Z",
     "iopub.status.busy": "2022-12-17T19:39:10.718515Z",
     "iopub.status.idle": "2022-12-17T19:39:11.124545Z",
     "shell.execute_reply": "2022-12-17T19:39:11.123706Z",
     "shell.execute_reply.started": "2022-12-17T19:39:10.718626Z"
    },
    "tags": []
   },
   "outputs": [],
   "source": [
    "# Mapping UserId index to new index\n",
    "df_user_artist[\"UserId\"] = df_user_artist.UserId.map(dict_idx_users).astype('str')\n",
    "df_user_friends[\"UserId\"] = df_user_friends.UserId.map(dict_idx_users).astype('str')\n",
    "df_user_friends[\"FriendId\"] = df_user_friends.FriendId.map(dict_idx_users).astype('str')\n",
    "df_tag[\"UserId\"] = df_tag.UserId.map(dict_idx_users).astype('str')\n",
    "\n",
    "# Mapping ArtistId index to new index\n",
    "df_user_artist[\"ArtistId\"] = df_user_artist.ArtistId.map(dict_idx_artists).astype('str')\n",
    "df_tag[\"ArtistId\"] = df_tag.ArtistId.map(dict_idx_artists).astype('str')\n",
    "df_artists['ArtistId'] = df_artists.ArtistId.map(dict_idx_artists).astype('str')\n"
   ]
  },
  {
   "attachments": {},
   "cell_type": "markdown",
   "metadata": {},
   "source": [
    "#### Creating Grouped Tag dataframe based on Datetime"
   ]
  },
  {
   "cell_type": "code",
   "execution_count": 30,
   "metadata": {
    "execution": {
     "iopub.execute_input": "2022-12-17T19:39:11.126550Z",
     "iopub.status.busy": "2022-12-17T19:39:11.125547Z",
     "iopub.status.idle": "2022-12-17T19:39:40.025160Z",
     "shell.execute_reply": "2022-12-17T19:39:40.024478Z",
     "shell.execute_reply.started": "2022-12-17T19:39:11.126550Z"
    },
    "tags": []
   },
   "outputs": [],
   "source": [
    "df_tag_grouped_datetime = (\n",
    "    pd.get_dummies(\n",
    "        df_tag.set_index([\"UserId\", \"ArtistId\", \"Datetime\"])[\"Tag\"]\n",
    "    )\n",
    "    .groupby([\"UserId\", \"ArtistId\", \"Datetime\"])\n",
    "    .apply(sum, axis=0)\n",
    ")\n",
    "\n",
    "\n",
    "df_tag_grouped_datetime[\"Tags\"] = df_tag.groupby([\"UserId\", \"ArtistId\", \"Datetime\"])[\n",
    "    \"Tag\"\n",
    "].apply(list)\n"
   ]
  },
  {
   "cell_type": "code",
   "execution_count": 31,
   "metadata": {
    "execution": {
     "iopub.execute_input": "2022-12-17T19:39:40.027154Z",
     "iopub.status.busy": "2022-12-17T19:39:40.027154Z",
     "iopub.status.idle": "2022-12-17T19:39:40.057203Z",
     "shell.execute_reply": "2022-12-17T19:39:40.056153Z",
     "shell.execute_reply.started": "2022-12-17T19:39:40.027154Z"
    },
    "tags": []
   },
   "outputs": [
    {
     "data": {
      "text/html": [
       "<div>\n",
       "<style scoped>\n",
       "    .dataframe tbody tr th:only-of-type {\n",
       "        vertical-align: middle;\n",
       "    }\n",
       "\n",
       "    .dataframe tbody tr th {\n",
       "        vertical-align: top;\n",
       "    }\n",
       "\n",
       "    .dataframe thead th {\n",
       "        text-align: right;\n",
       "    }\n",
       "</style>\n",
       "<table border=\"1\" class=\"dataframe\">\n",
       "  <thead>\n",
       "    <tr style=\"text-align: right;\">\n",
       "      <th></th>\n",
       "      <th></th>\n",
       "      <th></th>\n",
       "      <th>00s</th>\n",
       "      <th>1900</th>\n",
       "      <th>1985</th>\n",
       "      <th>60's</th>\n",
       "      <th>80's</th>\n",
       "      <th>80s</th>\n",
       "      <th>80sGarage</th>\n",
       "      <th>80sPop</th>\n",
       "      <th>Abstract</th>\n",
       "      <th>AcidJazz</th>\n",
       "      <th>...</th>\n",
       "      <th>Vu-us</th>\n",
       "      <th>Want</th>\n",
       "      <th>WantToSeeLive</th>\n",
       "      <th>WarMetal</th>\n",
       "      <th>WarpedTour</th>\n",
       "      <th>WhitesnakeCover</th>\n",
       "      <th>Winter</th>\n",
       "      <th>World</th>\n",
       "      <th>WorldMusic</th>\n",
       "      <th>Tags</th>\n",
       "    </tr>\n",
       "    <tr>\n",
       "      <th>UserId</th>\n",
       "      <th>ArtistId</th>\n",
       "      <th>Datetime</th>\n",
       "      <th></th>\n",
       "      <th></th>\n",
       "      <th></th>\n",
       "      <th></th>\n",
       "      <th></th>\n",
       "      <th></th>\n",
       "      <th></th>\n",
       "      <th></th>\n",
       "      <th></th>\n",
       "      <th></th>\n",
       "      <th></th>\n",
       "      <th></th>\n",
       "      <th></th>\n",
       "      <th></th>\n",
       "      <th></th>\n",
       "      <th></th>\n",
       "      <th></th>\n",
       "      <th></th>\n",
       "      <th></th>\n",
       "      <th></th>\n",
       "      <th></th>\n",
       "    </tr>\n",
       "  </thead>\n",
       "  <tbody>\n",
       "    <tr>\n",
       "      <th rowspan=\"5\" valign=\"top\">0</th>\n",
       "      <th>3818</th>\n",
       "      <th>2009-04-30 22:00:00</th>\n",
       "      <td>0</td>\n",
       "      <td>0</td>\n",
       "      <td>0</td>\n",
       "      <td>0</td>\n",
       "      <td>0</td>\n",
       "      <td>0</td>\n",
       "      <td>0</td>\n",
       "      <td>0</td>\n",
       "      <td>0</td>\n",
       "      <td>0</td>\n",
       "      <td>...</td>\n",
       "      <td>0</td>\n",
       "      <td>0</td>\n",
       "      <td>0</td>\n",
       "      <td>0</td>\n",
       "      <td>0</td>\n",
       "      <td>0</td>\n",
       "      <td>0</td>\n",
       "      <td>0</td>\n",
       "      <td>0</td>\n",
       "      <td>[NewWave, Avant-garde, Experimental]</td>\n",
       "    </tr>\n",
       "    <tr>\n",
       "      <th>46</th>\n",
       "      <th>2009-03-31 22:00:00</th>\n",
       "      <td>0</td>\n",
       "      <td>0</td>\n",
       "      <td>0</td>\n",
       "      <td>0</td>\n",
       "      <td>0</td>\n",
       "      <td>0</td>\n",
       "      <td>0</td>\n",
       "      <td>0</td>\n",
       "      <td>0</td>\n",
       "      <td>0</td>\n",
       "      <td>...</td>\n",
       "      <td>0</td>\n",
       "      <td>0</td>\n",
       "      <td>0</td>\n",
       "      <td>0</td>\n",
       "      <td>0</td>\n",
       "      <td>0</td>\n",
       "      <td>0</td>\n",
       "      <td>0</td>\n",
       "      <td>0</td>\n",
       "      <td>[Chillout, Downtempo, Electronic, Trip-hop, Fe...</td>\n",
       "    </tr>\n",
       "    <tr>\n",
       "      <th>57</th>\n",
       "      <th>2009-03-31 22:00:00</th>\n",
       "      <td>0</td>\n",
       "      <td>0</td>\n",
       "      <td>0</td>\n",
       "      <td>0</td>\n",
       "      <td>0</td>\n",
       "      <td>0</td>\n",
       "      <td>0</td>\n",
       "      <td>0</td>\n",
       "      <td>0</td>\n",
       "      <td>0</td>\n",
       "      <td>...</td>\n",
       "      <td>0</td>\n",
       "      <td>0</td>\n",
       "      <td>0</td>\n",
       "      <td>0</td>\n",
       "      <td>0</td>\n",
       "      <td>0</td>\n",
       "      <td>0</td>\n",
       "      <td>0</td>\n",
       "      <td>0</td>\n",
       "      <td>[Chillout, Ambient, NewAge, GregorianChant]</td>\n",
       "    </tr>\n",
       "    <tr>\n",
       "      <th>6035</th>\n",
       "      <th>2009-04-30 22:00:00</th>\n",
       "      <td>0</td>\n",
       "      <td>0</td>\n",
       "      <td>0</td>\n",
       "      <td>0</td>\n",
       "      <td>0</td>\n",
       "      <td>0</td>\n",
       "      <td>0</td>\n",
       "      <td>0</td>\n",
       "      <td>0</td>\n",
       "      <td>0</td>\n",
       "      <td>...</td>\n",
       "      <td>0</td>\n",
       "      <td>0</td>\n",
       "      <td>0</td>\n",
       "      <td>0</td>\n",
       "      <td>0</td>\n",
       "      <td>0</td>\n",
       "      <td>0</td>\n",
       "      <td>0</td>\n",
       "      <td>0</td>\n",
       "      <td>[Ambient, Minimal]</td>\n",
       "    </tr>\n",
       "    <tr>\n",
       "      <th>6052</th>\n",
       "      <th>2009-04-30 22:00:00</th>\n",
       "      <td>0</td>\n",
       "      <td>0</td>\n",
       "      <td>0</td>\n",
       "      <td>0</td>\n",
       "      <td>0</td>\n",
       "      <td>0</td>\n",
       "      <td>0</td>\n",
       "      <td>0</td>\n",
       "      <td>0</td>\n",
       "      <td>0</td>\n",
       "      <td>...</td>\n",
       "      <td>0</td>\n",
       "      <td>0</td>\n",
       "      <td>0</td>\n",
       "      <td>0</td>\n",
       "      <td>0</td>\n",
       "      <td>0</td>\n",
       "      <td>0</td>\n",
       "      <td>0</td>\n",
       "      <td>0</td>\n",
       "      <td>[Chillout, Ambient, Downtempo, Lounge, CafeDel...</td>\n",
       "    </tr>\n",
       "  </tbody>\n",
       "</table>\n",
       "<p>5 rows × 248 columns</p>\n",
       "</div>"
      ],
      "text/plain": [
       "                                     00s  1900  1985  60's  80's  80s  \\\n",
       "UserId ArtistId Datetime                                                \n",
       "0      3818     2009-04-30 22:00:00    0     0     0     0     0    0   \n",
       "       46       2009-03-31 22:00:00    0     0     0     0     0    0   \n",
       "       57       2009-03-31 22:00:00    0     0     0     0     0    0   \n",
       "       6035     2009-04-30 22:00:00    0     0     0     0     0    0   \n",
       "       6052     2009-04-30 22:00:00    0     0     0     0     0    0   \n",
       "\n",
       "                                     80sGarage  80sPop  Abstract  AcidJazz  \\\n",
       "UserId ArtistId Datetime                                                     \n",
       "0      3818     2009-04-30 22:00:00          0       0         0         0   \n",
       "       46       2009-03-31 22:00:00          0       0         0         0   \n",
       "       57       2009-03-31 22:00:00          0       0         0         0   \n",
       "       6035     2009-04-30 22:00:00          0       0         0         0   \n",
       "       6052     2009-04-30 22:00:00          0       0         0         0   \n",
       "\n",
       "                                     ...  Vu-us  Want  WantToSeeLive  \\\n",
       "UserId ArtistId Datetime             ...                               \n",
       "0      3818     2009-04-30 22:00:00  ...      0     0              0   \n",
       "       46       2009-03-31 22:00:00  ...      0     0              0   \n",
       "       57       2009-03-31 22:00:00  ...      0     0              0   \n",
       "       6035     2009-04-30 22:00:00  ...      0     0              0   \n",
       "       6052     2009-04-30 22:00:00  ...      0     0              0   \n",
       "\n",
       "                                     WarMetal  WarpedTour  WhitesnakeCover  \\\n",
       "UserId ArtistId Datetime                                                     \n",
       "0      3818     2009-04-30 22:00:00         0           0                0   \n",
       "       46       2009-03-31 22:00:00         0           0                0   \n",
       "       57       2009-03-31 22:00:00         0           0                0   \n",
       "       6035     2009-04-30 22:00:00         0           0                0   \n",
       "       6052     2009-04-30 22:00:00         0           0                0   \n",
       "\n",
       "                                     Winter  World  WorldMusic  \\\n",
       "UserId ArtistId Datetime                                         \n",
       "0      3818     2009-04-30 22:00:00       0      0           0   \n",
       "       46       2009-03-31 22:00:00       0      0           0   \n",
       "       57       2009-03-31 22:00:00       0      0           0   \n",
       "       6035     2009-04-30 22:00:00       0      0           0   \n",
       "       6052     2009-04-30 22:00:00       0      0           0   \n",
       "\n",
       "                                                                                  Tags  \n",
       "UserId ArtistId Datetime                                                                \n",
       "0      3818     2009-04-30 22:00:00               [NewWave, Avant-garde, Experimental]  \n",
       "       46       2009-03-31 22:00:00  [Chillout, Downtempo, Electronic, Trip-hop, Fe...  \n",
       "       57       2009-03-31 22:00:00        [Chillout, Ambient, NewAge, GregorianChant]  \n",
       "       6035     2009-04-30 22:00:00                                 [Ambient, Minimal]  \n",
       "       6052     2009-04-30 22:00:00  [Chillout, Ambient, Downtempo, Lounge, CafeDel...  \n",
       "\n",
       "[5 rows x 248 columns]"
      ]
     },
     "execution_count": 31,
     "metadata": {},
     "output_type": "execute_result"
    }
   ],
   "source": [
    "df_tag_grouped_datetime.head()"
   ]
  },
  {
   "attachments": {},
   "cell_type": "markdown",
   "metadata": {
    "tags": []
   },
   "source": [
    "## Data Analysis\n",
    "Data Analysis always begins with questions to answer.\n",
    "\n",
    "### Questions\n",
    "1. What is the distribution of ListenTime\n",
    "1. How many artists do users tags on average?\n",
    "2. How many distinct times does a user tag the same artist on average? \n",
    "3. Are the tags the same or different each time?\n",
    "\n",
    "### Concerns\n",
    "- How is it possible to have a friendship that is not bi-directional?\n",
    "- How are friendships developed?"
   ]
  },
  {
   "attachments": {},
   "cell_type": "markdown",
   "metadata": {},
   "source": [
    "#### What is the distribution of ListenTime for each user and Artist?\n",
    "- ListenTime has a very long right tail\n",
    "- Users have spent 36566.583 minutes listening to music on average with standard deviation 48744.552.\n",
    "- Artists have been listened to for 3923.774 minutes on average with standard deviation 34099.342.\n",
    "- Each user listens to more music than each artist is listened to"
   ]
  },
  {
   "cell_type": "code",
   "execution_count": 32,
   "metadata": {
    "execution": {
     "iopub.execute_input": "2022-12-17T19:39:40.060225Z",
     "iopub.status.busy": "2022-12-17T19:39:40.059155Z",
     "iopub.status.idle": "2022-12-17T19:39:40.509154Z",
     "shell.execute_reply": "2022-12-17T19:39:40.508255Z",
     "shell.execute_reply.started": "2022-12-17T19:39:40.060225Z"
    },
    "tags": []
   },
   "outputs": [
    {
     "data": {
      "image/png": "[encoded data removed]",
      "text/plain": [
       "<Figure size 1500x500 with 1 Axes>"
      ]
     },
     "metadata": {},
     "output_type": "display_data"
    }
   ],
   "source": [
    "sns.displot(\n",
    "    data=df_user_artist.groupby(\n",
    "        'UserId',as_index=False\n",
    "    )['ListenTime'].sum().query('ListenTime < 150000'), \n",
    "    x='ListenTime', \n",
    "    aspect=3\n",
    ")\n",
    "plt.title('ListenTime Distribution for Each User < 150000');"
   ]
  },
  {
   "cell_type": "code",
   "execution_count": 33,
   "metadata": {
    "execution": {
     "iopub.execute_input": "2022-12-17T19:39:40.510153Z",
     "iopub.status.busy": "2022-12-17T19:39:40.510153Z",
     "iopub.status.idle": "2022-12-17T19:39:41.198168Z",
     "shell.execute_reply": "2022-12-17T19:39:41.197168Z",
     "shell.execute_reply.started": "2022-12-17T19:39:40.510153Z"
    },
    "tags": []
   },
   "outputs": [
    {
     "data": {
      "image/png": "[encoded data removed]",
      "text/plain": [
       "<Figure size 1500x500 with 1 Axes>"
      ]
     },
     "metadata": {},
     "output_type": "display_data"
    }
   ],
   "source": [
    "sns.displot(\n",
    "    data=df_user_artist.groupby(\n",
    "        'ArtistId',as_index=False\n",
    "    )['ListenTime'].sum().query('ListenTime < 15000'), \n",
    "    x='ListenTime', \n",
    "    aspect=3\n",
    ")\n",
    "plt.title('ListenTime Distribution for Each Artist < 15000');"
   ]
  },
  {
   "cell_type": "code",
   "execution_count": 34,
   "metadata": {
    "execution": {
     "iopub.execute_input": "2022-12-17T19:39:41.200180Z",
     "iopub.status.busy": "2022-12-17T19:39:41.200006Z",
     "iopub.status.idle": "2022-12-17T19:39:41.261204Z",
     "shell.execute_reply": "2022-12-17T19:39:41.260312Z",
     "shell.execute_reply.started": "2022-12-17T19:39:41.200180Z"
    },
    "tags": []
   },
   "outputs": [],
   "source": [
    "listen_mean_user = df_user_artist.groupby(\n",
    "    'UserId'\n",
    ")['ListenTime'].sum().mean().round(3)\n",
    "listen_std_user = round(df_user_artist.groupby(\n",
    "    'UserId'\n",
    ")['ListenTime'].sum().std(), 3)\n",
    "listen_mean_artist = df_user_artist.groupby(\n",
    "    'ArtistId'\n",
    ")['ListenTime'].sum().mean().round(3)\n",
    "listen_std_artist = round(df_user_artist.groupby(\n",
    "    'ArtistId'\n",
    ")['ListenTime'].sum().std(), 3)"
   ]
  },
  {
   "cell_type": "code",
   "execution_count": 35,
   "metadata": {
    "execution": {
     "iopub.execute_input": "2022-12-17T19:39:41.263171Z",
     "iopub.status.busy": "2022-12-17T19:39:41.262198Z",
     "iopub.status.idle": "2022-12-17T19:39:41.276551Z",
     "shell.execute_reply": "2022-12-17T19:39:41.276230Z",
     "shell.execute_reply.started": "2022-12-17T19:39:41.263171Z"
    },
    "tags": []
   },
   "outputs": [
    {
     "name": "stdout",
     "output_type": "stream",
     "text": [
      "\n",
      "- Users have spent 36566.583 minutes listening to music on average with standard deviation 48744.552.\n",
      "- Artists have been listened to for 3923.774 minutes on average with standard deviation 34099.342.\n",
      "\n"
     ]
    }
   ],
   "source": [
    "print(f'''\n",
    "- Users have spent {listen_mean_user} minutes listening to music on average with standard deviation {listen_std_user}.\n",
    "- Artists have been listened to for {listen_mean_artist} minutes on average with standard deviation {listen_std_artist}.\n",
    "''')"
   ]
  },
  {
   "attachments": {},
   "cell_type": "markdown",
   "metadata": {},
   "source": [
    "#### How many distinct artists do users tags on average?\n",
    "- Each users applies a tag to 27.625 artists on average.\n",
    "- There is a large standard deviation of 63.435.\n",
    "- 370 users tag 1 artist.\n",
    "- 1 user tags 794 artists."
   ]
  },
  {
   "cell_type": "code",
   "execution_count": 36,
   "metadata": {
    "execution": {
     "iopub.execute_input": "2022-12-17T19:39:41.279262Z",
     "iopub.status.busy": "2022-12-17T19:39:41.278172Z",
     "iopub.status.idle": "2022-12-17T19:39:41.325052Z",
     "shell.execute_reply": "2022-12-17T19:39:41.324053Z",
     "shell.execute_reply.started": "2022-12-17T19:39:41.279262Z"
    },
    "tags": []
   },
   "outputs": [],
   "source": [
    "user_artist_counts = (\n",
    "    df_tag_grouped_datetime.groupby([\"UserId\", \"ArtistId\"])[\"Tags\"].first().groupby(\"UserId\").count()\n",
    ")\n"
   ]
  },
  {
   "cell_type": "code",
   "execution_count": 37,
   "metadata": {
    "execution": {
     "iopub.execute_input": "2022-12-17T19:39:41.326581Z",
     "iopub.status.busy": "2022-12-17T19:39:41.326056Z",
     "iopub.status.idle": "2022-12-17T19:39:42.327063Z",
     "shell.execute_reply": "2022-12-17T19:39:42.326155Z",
     "shell.execute_reply.started": "2022-12-17T19:39:41.326581Z"
    }
   },
   "outputs": [
    {
     "data": {
      "text/plain": [
       "<seaborn.axisgrid.FacetGrid at 0x22fac202e00>"
      ]
     },
     "execution_count": 37,
     "metadata": {},
     "output_type": "execute_result"
    },
    {
     "data": {
      "image/png": "[encoded data removed]",
      "text/plain": [
       "<Figure size 500x500 with 1 Axes>"
      ]
     },
     "metadata": {},
     "output_type": "display_data"
    },
    {
     "data": {
      "image/png": "[encoded data removed]",
      "text/plain": [
       "<Figure size 500x500 with 1 Axes>"
      ]
     },
     "metadata": {},
     "output_type": "display_data"
    }
   ],
   "source": [
    "sns.displot(user_artist_counts).set(\n",
    "    title=\"Distribution of Artist Tagging\", xlabel=\"Number of Tags\"\n",
    ")\n",
    "sns.displot(user_artist_counts[user_artist_counts <= 10]).set(\n",
    "    title=\"Distribution of Users who tag 10 or less artists\", xlabel=\"Number of Tags\"\n",
    ")\n"
   ]
  },
  {
   "cell_type": "code",
   "execution_count": 38,
   "metadata": {
    "execution": {
     "iopub.execute_input": "2022-12-17T19:39:42.329079Z",
     "iopub.status.busy": "2022-12-17T19:39:42.328055Z",
     "iopub.status.idle": "2022-12-17T19:39:42.343051Z",
     "shell.execute_reply": "2022-12-17T19:39:42.342051Z",
     "shell.execute_reply.started": "2022-12-17T19:39:42.329079Z"
    },
    "tags": []
   },
   "outputs": [
    {
     "name": "stdout",
     "output_type": "stream",
     "text": [
      "\n",
      "- Each users applies a tag to 27.625 artists on average.\n",
      "- There is a large standard deviation of 63.435.\n",
      "- 370 users tag 1 artist.\n",
      "- 1 user tags 794 artists.\n",
      "\n"
     ]
    }
   ],
   "source": [
    "print(\n",
    "    f\"\"\"\n",
    "- Each users applies a tag to {user_artist_counts.mean().round(3)} artists on average.\n",
    "- There is a large standard deviation of {round(user_artist_counts.std(), 3)}.\n",
    "- {user_artist_counts.value_counts()[1]} users tag 1 artist.\n",
    "- 1 user tags {user_artist_counts.max()} artists.\n",
    "\"\"\"\n",
    ")\n"
   ]
  },
  {
   "attachments": {},
   "cell_type": "markdown",
   "metadata": {},
   "source": [
    "#### How many distinct times does a user apply a set of tags to the same artist on average? \n",
    "- A user tags the same artist 1.126 times on average.\n",
    "- Standard deviation is 0.44.\n",
    "- 40469 users have tagged an artist only one time.\n",
    "- 1 user tagged an artist 13 times."
   ]
  },
  {
   "cell_type": "code",
   "execution_count": 39,
   "metadata": {
    "execution": {
     "iopub.execute_input": "2022-12-17T19:39:42.344052Z",
     "iopub.status.busy": "2022-12-17T19:39:42.344052Z",
     "iopub.status.idle": "2022-12-17T19:39:42.390081Z",
     "shell.execute_reply": "2022-12-17T19:39:42.389129Z",
     "shell.execute_reply.started": "2022-12-17T19:39:42.344052Z"
    }
   },
   "outputs": [],
   "source": [
    "user_artist_repeats = df_tag_grouped_datetime.groupby([\"UserId\", \"ArtistId\"])[\"Tags\"].count()\n"
   ]
  },
  {
   "cell_type": "code",
   "execution_count": 40,
   "metadata": {
    "execution": {
     "iopub.execute_input": "2022-12-17T19:39:42.401298Z",
     "iopub.status.busy": "2022-12-17T19:39:42.401298Z",
     "iopub.status.idle": "2022-12-17T19:39:42.769388Z",
     "shell.execute_reply": "2022-12-17T19:39:42.768475Z",
     "shell.execute_reply.started": "2022-12-17T19:39:42.401298Z"
    }
   },
   "outputs": [
    {
     "data": {
      "text/plain": [
       "<seaborn.axisgrid.FacetGrid at 0x22fc1552cb0>"
      ]
     },
     "execution_count": 40,
     "metadata": {},
     "output_type": "execute_result"
    },
    {
     "data": {
      "image/png": "[encoded data removed]",
      "text/plain": [
       "<Figure size 500x500 with 1 Axes>"
      ]
     },
     "metadata": {},
     "output_type": "display_data"
    }
   ],
   "source": [
    "sns.displot(user_artist_repeats).set(\n",
    "    title=\"Distribution of Users Tagging the Same Artist\",\n",
    "    xlabel=\"Number of Times Tagging the Same Artist\",\n",
    ")\n"
   ]
  },
  {
   "cell_type": "code",
   "execution_count": 41,
   "metadata": {
    "execution": {
     "iopub.execute_input": "2022-12-17T19:39:42.770492Z",
     "iopub.status.busy": "2022-12-17T19:39:42.770492Z",
     "iopub.status.idle": "2022-12-17T19:39:42.801390Z",
     "shell.execute_reply": "2022-12-17T19:39:42.800390Z",
     "shell.execute_reply.started": "2022-12-17T19:39:42.770492Z"
    },
    "tags": []
   },
   "outputs": [
    {
     "name": "stdout",
     "output_type": "stream",
     "text": [
      "\n",
      "- A user tags the same artist 1.126 times on average.\n",
      "- Standard deviation is 0.44.\n",
      "- 40469 users have tagged an artist only one time.\n",
      "- 1 user tagged an artist 13 times.\n",
      "\n"
     ]
    }
   ],
   "source": [
    "print(\n",
    "    f\"\"\"\n",
    "- A user tags the same artist {user_artist_repeats.groupby('UserId').mean().mean().round(3)} times on average.\n",
    "- Standard deviation is {round(user_artist_repeats.groupby('UserId').mean().std(), 3)}.\n",
    "- {user_artist_repeats.value_counts()[1]} users have tagged an artist only one time.\n",
    "- 1 user tagged an artist {user_artist_repeats.max()} times.\n",
    "\"\"\"\n",
    ")\n"
   ]
  },
  {
   "attachments": {},
   "cell_type": "markdown",
   "metadata": {},
   "source": [
    "#### Are the tags the same or different each time?\n",
    "- Every time a users adds more tags, they are different from the tags previously applied to that artist."
   ]
  },
  {
   "attachments": {},
   "cell_type": "markdown",
   "metadata": {},
   "source": [
    "For this question, I will make a list called ```repeat_tag_users``` of all (Users Artists) pairs where the user has applied a set of tags to an artist more than once.\n",
    "\n",
    "I will then create ```df_tag_grouped_artist``` dataframe of only users who applied a set of tags to an artist more than once. Each row will represent a ```(UserId, ArtistId)``` pair. There will be a column of all tags a user applied to an artist and a column containing a distinct set of these tags. Using these columns, a percentage of distinct/duplicate tags will be calculated."
   ]
  },
  {
   "cell_type": "code",
   "execution_count": 42,
   "metadata": {
    "execution": {
     "iopub.execute_input": "2022-12-17T19:39:42.802967Z",
     "iopub.status.busy": "2022-12-17T19:39:42.802391Z",
     "iopub.status.idle": "2022-12-17T19:39:42.816389Z",
     "shell.execute_reply": "2022-12-17T19:39:42.815389Z",
     "shell.execute_reply.started": "2022-12-17T19:39:42.802967Z"
    }
   },
   "outputs": [],
   "source": [
    "repeat_tag_users = user_artist_repeats[user_artist_repeats > 1].reset_index()[\n",
    "    [\"UserId\", \"ArtistId\"]\n",
    "]\n"
   ]
  },
  {
   "cell_type": "code",
   "execution_count": 43,
   "metadata": {
    "execution": {
     "iopub.execute_input": "2022-12-17T19:39:42.817391Z",
     "iopub.status.busy": "2022-12-17T19:39:42.817391Z",
     "iopub.status.idle": "2022-12-17T19:39:42.863390Z",
     "shell.execute_reply": "2022-12-17T19:39:42.863131Z",
     "shell.execute_reply.started": "2022-12-17T19:39:42.817391Z"
    }
   },
   "outputs": [],
   "source": [
    "# Creating indexes for filtering dataframes\n",
    "index1 = pd.MultiIndex.from_arrays(\n",
    "    [repeat_tag_users[col] for col in [\"UserId\", \"ArtistId\"]]\n",
    ")\n",
    "index2 = pd.MultiIndex.from_arrays(\n",
    "    [df_tag[col] for col in [\"UserId\", \"ArtistId\"]]\n",
    ")\n"
   ]
  },
  {
   "cell_type": "code",
   "execution_count": 44,
   "metadata": {
    "execution": {
     "iopub.execute_input": "2022-12-17T19:39:42.865391Z",
     "iopub.status.busy": "2022-12-17T19:39:42.865391Z",
     "iopub.status.idle": "2022-12-17T19:39:43.366329Z",
     "shell.execute_reply": "2022-12-17T19:39:43.365428Z",
     "shell.execute_reply.started": "2022-12-17T19:39:42.865391Z"
    }
   },
   "outputs": [],
   "source": [
    "df_tag_grouped_artist = (\n",
    "    df_tag.loc[index2.isin(index1)]\n",
    "    .groupby([\"UserId\", \"ArtistId\"])\n",
    "    .agg(AllTags=(\"Tag\", list), UniqueTags=(\"Tag\", set))\n",
    "    .reset_index()\n",
    ")\n"
   ]
  },
  {
   "cell_type": "code",
   "execution_count": 45,
   "metadata": {
    "execution": {
     "iopub.execute_input": "2022-12-17T19:39:43.368330Z",
     "iopub.status.busy": "2022-12-17T19:39:43.367359Z",
     "iopub.status.idle": "2022-12-17T19:39:43.397853Z",
     "shell.execute_reply": "2022-12-17T19:39:43.396910Z",
     "shell.execute_reply.started": "2022-12-17T19:39:43.368330Z"
    }
   },
   "outputs": [],
   "source": [
    "df_tag_grouped_artist[\"TotalCount\"] = df_tag_grouped_artist.AllTags.transform(len)\n",
    "df_tag_grouped_artist[\"UniqueCount\"] = df_tag_grouped_artist.UniqueTags.transform(len)\n",
    "df_tag_grouped_artist[\"DistinctPercentage\"] = df_tag_grouped_artist.eval(\"UniqueCount / TotalCount\")\n"
   ]
  },
  {
   "cell_type": "code",
   "execution_count": 46,
   "metadata": {
    "execution": {
     "iopub.execute_input": "2022-12-17T19:39:43.399850Z",
     "iopub.status.busy": "2022-12-17T19:39:43.398853Z",
     "iopub.status.idle": "2022-12-17T19:39:43.428853Z",
     "shell.execute_reply": "2022-12-17T19:39:43.427850Z",
     "shell.execute_reply.started": "2022-12-17T19:39:43.399850Z"
    }
   },
   "outputs": [
    {
     "data": {
      "text/html": [
       "<div>\n",
       "<style scoped>\n",
       "    .dataframe tbody tr th:only-of-type {\n",
       "        vertical-align: middle;\n",
       "    }\n",
       "\n",
       "    .dataframe tbody tr th {\n",
       "        vertical-align: top;\n",
       "    }\n",
       "\n",
       "    .dataframe thead th {\n",
       "        text-align: right;\n",
       "    }\n",
       "</style>\n",
       "<table border=\"1\" class=\"dataframe\">\n",
       "  <thead>\n",
       "    <tr style=\"text-align: right;\">\n",
       "      <th></th>\n",
       "      <th>UserId</th>\n",
       "      <th>ArtistId</th>\n",
       "      <th>AllTags</th>\n",
       "      <th>UniqueTags</th>\n",
       "      <th>TotalCount</th>\n",
       "      <th>UniqueCount</th>\n",
       "      <th>DistinctPercentage</th>\n",
       "    </tr>\n",
       "  </thead>\n",
       "  <tbody>\n",
       "    <tr>\n",
       "      <th>0</th>\n",
       "      <td>1</td>\n",
       "      <td>102</td>\n",
       "      <td>[Downtempo, Experimental, Melancholy, Idm, Fem...</td>\n",
       "      <td>{Melancholy, Idm, Downtempo, Experimental, Gre...</td>\n",
       "      <td>6</td>\n",
       "      <td>6</td>\n",
       "      <td>1.000</td>\n",
       "    </tr>\n",
       "    <tr>\n",
       "      <th>1</th>\n",
       "      <td>1</td>\n",
       "      <td>95</td>\n",
       "      <td>[Ambient, Downtempo, Experimental, Glitch, U-c...</td>\n",
       "      <td>{Folktronica, Melancholy, Experimental, U-cove...</td>\n",
       "      <td>23</td>\n",
       "      <td>23</td>\n",
       "      <td>1.000</td>\n",
       "    </tr>\n",
       "    <tr>\n",
       "      <th>2</th>\n",
       "      <td>1</td>\n",
       "      <td>96</td>\n",
       "      <td>[Ambient, Downtempo, Electronic, Experimental,...</td>\n",
       "      <td>{Melancholy, Glitch, Electronic, Downtempo, Ex...</td>\n",
       "      <td>8</td>\n",
       "      <td>8</td>\n",
       "      <td>1.000</td>\n",
       "    </tr>\n",
       "    <tr>\n",
       "      <th>3</th>\n",
       "      <td>10</td>\n",
       "      <td>1604</td>\n",
       "      <td>[Hip-hop, Rap]</td>\n",
       "      <td>{Hip-hop, Rap}</td>\n",
       "      <td>2</td>\n",
       "      <td>2</td>\n",
       "      <td>1.000</td>\n",
       "    </tr>\n",
       "    <tr>\n",
       "      <th>4</th>\n",
       "      <td>10</td>\n",
       "      <td>327</td>\n",
       "      <td>[Pop, Rock]</td>\n",
       "      <td>{Rock, Pop}</td>\n",
       "      <td>2</td>\n",
       "      <td>2</td>\n",
       "      <td>1.000</td>\n",
       "    </tr>\n",
       "  </tbody>\n",
       "</table>\n",
       "</div>"
      ],
      "text/plain": [
       "  UserId ArtistId                                            AllTags  \\\n",
       "0      1      102  [Downtempo, Experimental, Melancholy, Idm, Fem...   \n",
       "1      1       95  [Ambient, Downtempo, Experimental, Glitch, U-c...   \n",
       "2      1       96  [Ambient, Downtempo, Electronic, Experimental,...   \n",
       "3     10     1604                                     [Hip-hop, Rap]   \n",
       "4     10      327                                        [Pop, Rock]   \n",
       "\n",
       "                                          UniqueTags  TotalCount  UniqueCount  \\\n",
       "0  {Melancholy, Idm, Downtempo, Experimental, Gre...           6            6   \n",
       "1  {Folktronica, Melancholy, Experimental, U-cove...          23           23   \n",
       "2  {Melancholy, Glitch, Electronic, Downtempo, Ex...           8            8   \n",
       "3                                     {Hip-hop, Rap}           2            2   \n",
       "4                                        {Rock, Pop}           2            2   \n",
       "\n",
       "   DistinctPercentage  \n",
       "0               1.000  \n",
       "1               1.000  \n",
       "2               1.000  \n",
       "3               1.000  \n",
       "4               1.000  "
      ]
     },
     "execution_count": 46,
     "metadata": {},
     "output_type": "execute_result"
    }
   ],
   "source": [
    "df_tag_grouped_artist.head()\n"
   ]
  },
  {
   "cell_type": "code",
   "execution_count": 47,
   "metadata": {
    "execution": {
     "iopub.execute_input": "2022-12-17T19:39:43.431854Z",
     "iopub.status.busy": "2022-12-17T19:39:43.430856Z",
     "iopub.status.idle": "2022-12-17T19:39:43.444855Z",
     "shell.execute_reply": "2022-12-17T19:39:43.443977Z",
     "shell.execute_reply.started": "2022-12-17T19:39:43.431854Z"
    }
   },
   "outputs": [
    {
     "data": {
      "text/html": [
       "<div>\n",
       "<style scoped>\n",
       "    .dataframe tbody tr th:only-of-type {\n",
       "        vertical-align: middle;\n",
       "    }\n",
       "\n",
       "    .dataframe tbody tr th {\n",
       "        vertical-align: top;\n",
       "    }\n",
       "\n",
       "    .dataframe thead th {\n",
       "        text-align: right;\n",
       "    }\n",
       "</style>\n",
       "<table border=\"1\" class=\"dataframe\">\n",
       "  <thead>\n",
       "    <tr style=\"text-align: right;\">\n",
       "      <th></th>\n",
       "      <th>UserId</th>\n",
       "      <th>ArtistId</th>\n",
       "      <th>AllTags</th>\n",
       "      <th>UniqueTags</th>\n",
       "      <th>TotalCount</th>\n",
       "      <th>UniqueCount</th>\n",
       "      <th>DistinctPercentage</th>\n",
       "    </tr>\n",
       "  </thead>\n",
       "  <tbody>\n",
       "  </tbody>\n",
       "</table>\n",
       "</div>"
      ],
      "text/plain": [
       "Empty DataFrame\n",
       "Columns: [UserId, ArtistId, AllTags, UniqueTags, TotalCount, UniqueCount, DistinctPercentage]\n",
       "Index: []"
      ]
     },
     "execution_count": 47,
     "metadata": {},
     "output_type": "execute_result"
    }
   ],
   "source": [
    "df_tag_grouped_artist[df_tag_grouped_artist.DistinctPercentage < 1]\n"
   ]
  },
  {
   "attachments": {},
   "cell_type": "markdown",
   "metadata": {},
   "source": [
    "## Saving Processed Data to Pickle files and re-Importing (Checkpoint)\n",
    "- This section is used to save the work up to now.\n",
    "- This acts a checkpoint so when rerunning code, you can used the processed code from here rather than running the rest of the notebook."
   ]
  },
  {
   "cell_type": "code",
   "execution_count": 48,
   "metadata": {
    "execution": {
     "iopub.execute_input": "2022-12-17T19:39:43.446606Z",
     "iopub.status.busy": "2022-12-17T19:39:43.445853Z",
     "iopub.status.idle": "2022-12-17T19:39:43.759364Z",
     "shell.execute_reply": "2022-12-17T19:39:43.758526Z",
     "shell.execute_reply.started": "2022-12-17T19:39:43.446606Z"
    }
   },
   "outputs": [],
   "source": [
    "path_artists = '../data/processed/artists.pkl'\n",
    "df_artists.to_pickle(path_artists)\n",
    "\n",
    "path_user_artist = '../data/processed/user_artist.pkl'\n",
    "df_user_artist.to_pickle(path_user_artist)\n",
    "\n",
    "path_tag = '../data/processed/tag.pkl'\n",
    "df_tag.to_pickle(path_tag)\n",
    "\n",
    "path_tag_grouped_datetime = '../data/processed/tag_grouped_datetime.pkl'\n",
    "df_tag_grouped_datetime.to_pickle(path_tag_grouped_datetime)\n",
    "\n",
    "path_tag_grouped_artist = '../data/processed/tags_grouped_artist.pkl'\n",
    "df_tag_grouped_artist.to_pickle(path_tag_grouped_artist)"
   ]
  },
  {
   "cell_type": "code",
   "execution_count": 49,
   "metadata": {
    "execution": {
     "iopub.execute_input": "2022-12-17T19:39:43.761330Z",
     "iopub.status.busy": "2022-12-17T19:39:43.761330Z",
     "iopub.status.idle": "2022-12-17T19:39:43.775360Z",
     "shell.execute_reply": "2022-12-17T19:39:43.774333Z",
     "shell.execute_reply.started": "2022-12-17T19:39:43.761330Z"
    }
   },
   "outputs": [],
   "source": [
    "path_user_artist = '../data/processed/user_artist.pkl'\n",
    "path_tag = '../data/processed/tag.pkl'\n",
    "path_tag_grouped_datetime = '../data/processed/tag_grouped_datetime.pkl'\n",
    "path_tag_grouped_artist = '../data/processed/tags_grouped_artist.pkl'\n",
    "path_artists = '../data/processed/artists.pkl'\n"
   ]
  },
  {
   "cell_type": "code",
   "execution_count": 50,
   "metadata": {
    "execution": {
     "iopub.execute_input": "2022-12-17T19:39:43.778391Z",
     "iopub.status.busy": "2022-12-17T19:39:43.777333Z",
     "iopub.status.idle": "2022-12-17T19:39:44.218845Z",
     "shell.execute_reply": "2022-12-17T19:39:44.217025Z",
     "shell.execute_reply.started": "2022-12-17T19:39:43.778391Z"
    },
    "tags": []
   },
   "outputs": [],
   "source": [
    "df_user_artist = pd.read_pickle(path_user_artist)\n",
    "df_tag = pd.read_pickle(path_tag)\n",
    "df_tag_grouped_datetime = pd.read_pickle(path_tag_grouped_datetime)\n",
    "df_tag_grouped_artist = pd.read_pickle(path_tag_grouped_artist)\n",
    "df_artists = pd.read_pickle(path_artists)"
   ]
  },
  {
   "cell_type": "code",
   "execution_count": 51,
   "metadata": {
    "execution": {
     "iopub.execute_input": "2022-12-17T19:39:44.221613Z",
     "iopub.status.busy": "2022-12-17T19:39:44.220833Z",
     "iopub.status.idle": "2022-12-17T19:39:44.233801Z",
     "shell.execute_reply": "2022-12-17T19:39:44.232805Z",
     "shell.execute_reply.started": "2022-12-17T19:39:44.220833Z"
    },
    "tags": []
   },
   "outputs": [
    {
     "name": "stdout",
     "output_type": "stream",
     "text": [
      "(92834, 6)\n",
      "(87071, 9)\n",
      "(49556, 248)\n",
      "(3758, 7)\n",
      "(17632, 7)\n"
     ]
    }
   ],
   "source": [
    "for df in [df_user_artist, df_tag, df_tag_grouped_datetime, df_tag_grouped_artist, df_artists]:\n",
    "    print(f'{df.shape}')"
   ]
  },
  {
   "cell_type": "code",
   "execution_count": 52,
   "metadata": {
    "execution": {
     "iopub.execute_input": "2022-12-17T19:39:44.235896Z",
     "iopub.status.busy": "2022-12-17T19:39:44.235896Z",
     "iopub.status.idle": "2022-12-17T19:39:44.264799Z",
     "shell.execute_reply": "2022-12-17T19:39:44.263872Z",
     "shell.execute_reply.started": "2022-12-17T19:39:44.235896Z"
    },
    "tags": []
   },
   "outputs": [
    {
     "data": {
      "text/html": [
       "<div>\n",
       "<style scoped>\n",
       "    .dataframe tbody tr th:only-of-type {\n",
       "        vertical-align: middle;\n",
       "    }\n",
       "\n",
       "    .dataframe tbody tr th {\n",
       "        vertical-align: top;\n",
       "    }\n",
       "\n",
       "    .dataframe thead th {\n",
       "        text-align: right;\n",
       "    }\n",
       "</style>\n",
       "<table border=\"1\" class=\"dataframe\">\n",
       "  <thead>\n",
       "    <tr style=\"text-align: right;\">\n",
       "      <th></th>\n",
       "      <th>ArtistId</th>\n",
       "      <th>Name</th>\n",
       "      <th>TopTag</th>\n",
       "      <th>AllTags</th>\n",
       "      <th>TotalListenTime</th>\n",
       "      <th>MeanListenTime</th>\n",
       "      <th>FanCount</th>\n",
       "    </tr>\n",
       "  </thead>\n",
       "  <tbody>\n",
       "    <tr>\n",
       "      <th>0</th>\n",
       "      <td>0</td>\n",
       "      <td>MALICE MIZER</td>\n",
       "      <td>VisualKei</td>\n",
       "      <td>[VisualKei, VisualKei, VisualKei]</td>\n",
       "      <td>771</td>\n",
       "      <td>257.000</td>\n",
       "      <td>3</td>\n",
       "    </tr>\n",
       "    <tr>\n",
       "      <th>1</th>\n",
       "      <td>1</td>\n",
       "      <td>Diary of Dreams</td>\n",
       "      <td>German</td>\n",
       "      <td>[German, SeenLive, Industrial, German, German,...</td>\n",
       "      <td>8012</td>\n",
       "      <td>667.667</td>\n",
       "      <td>12</td>\n",
       "    </tr>\n",
       "    <tr>\n",
       "      <th>2</th>\n",
       "      <td>2</td>\n",
       "      <td>Carpathian Forest</td>\n",
       "      <td>BlackMetal</td>\n",
       "      <td>[BlackMetal, BlackMetal, BlackMetal]</td>\n",
       "      <td>775</td>\n",
       "      <td>258.333</td>\n",
       "      <td>3</td>\n",
       "    </tr>\n",
       "    <tr>\n",
       "      <th>3</th>\n",
       "      <td>3</td>\n",
       "      <td>Moi dix Mois</td>\n",
       "      <td>VisualKei</td>\n",
       "      <td>[VisualKei, Rock, VisualKei, GothicMetal, Visu...</td>\n",
       "      <td>563</td>\n",
       "      <td>281.500</td>\n",
       "      <td>2</td>\n",
       "    </tr>\n",
       "    <tr>\n",
       "      <th>4</th>\n",
       "      <td>4</td>\n",
       "      <td>Bella Morte</td>\n",
       "      <td>GothicRock</td>\n",
       "      <td>[GothicRock]</td>\n",
       "      <td>913</td>\n",
       "      <td>456.500</td>\n",
       "      <td>2</td>\n",
       "    </tr>\n",
       "  </tbody>\n",
       "</table>\n",
       "</div>"
      ],
      "text/plain": [
       "  ArtistId               Name      TopTag  \\\n",
       "0        0       MALICE MIZER   VisualKei   \n",
       "1        1    Diary of Dreams      German   \n",
       "2        2  Carpathian Forest  BlackMetal   \n",
       "3        3       Moi dix Mois   VisualKei   \n",
       "4        4        Bella Morte  GothicRock   \n",
       "\n",
       "                                             AllTags  TotalListenTime  \\\n",
       "0                  [VisualKei, VisualKei, VisualKei]              771   \n",
       "1  [German, SeenLive, Industrial, German, German,...             8012   \n",
       "2               [BlackMetal, BlackMetal, BlackMetal]              775   \n",
       "3  [VisualKei, Rock, VisualKei, GothicMetal, Visu...              563   \n",
       "4                                       [GothicRock]              913   \n",
       "\n",
       "   MeanListenTime  FanCount  \n",
       "0         257.000         3  \n",
       "1         667.667        12  \n",
       "2         258.333         3  \n",
       "3         281.500         2  \n",
       "4         456.500         2  "
      ]
     },
     "execution_count": 52,
     "metadata": {},
     "output_type": "execute_result"
    }
   ],
   "source": [
    "df_artists.head()"
   ]
  },
  {
   "cell_type": "code",
   "execution_count": 53,
   "metadata": {
    "execution": {
     "iopub.execute_input": "2022-12-17T19:39:44.266830Z",
     "iopub.status.busy": "2022-12-17T19:39:44.265797Z",
     "iopub.status.idle": "2022-12-17T19:39:44.279796Z",
     "shell.execute_reply": "2022-12-17T19:39:44.278798Z",
     "shell.execute_reply.started": "2022-12-17T19:39:44.266830Z"
    },
    "tags": []
   },
   "outputs": [
    {
     "data": {
      "text/html": [
       "<div>\n",
       "<style scoped>\n",
       "    .dataframe tbody tr th:only-of-type {\n",
       "        vertical-align: middle;\n",
       "    }\n",
       "\n",
       "    .dataframe tbody tr th {\n",
       "        vertical-align: top;\n",
       "    }\n",
       "\n",
       "    .dataframe thead th {\n",
       "        text-align: right;\n",
       "    }\n",
       "</style>\n",
       "<table border=\"1\" class=\"dataframe\">\n",
       "  <thead>\n",
       "    <tr style=\"text-align: right;\">\n",
       "      <th></th>\n",
       "      <th>UserId</th>\n",
       "      <th>ArtistId</th>\n",
       "      <th>ListenTime</th>\n",
       "      <th>Name</th>\n",
       "      <th>TopTag</th>\n",
       "      <th>AllTags</th>\n",
       "    </tr>\n",
       "  </thead>\n",
       "  <tbody>\n",
       "    <tr>\n",
       "      <th>0</th>\n",
       "      <td>0</td>\n",
       "      <td>45</td>\n",
       "      <td>13883</td>\n",
       "      <td>Duran Duran</td>\n",
       "      <td></td>\n",
       "      <td>[]</td>\n",
       "    </tr>\n",
       "    <tr>\n",
       "      <th>1</th>\n",
       "      <td>0</td>\n",
       "      <td>46</td>\n",
       "      <td>11690</td>\n",
       "      <td>Morcheeba</td>\n",
       "      <td>Chillout</td>\n",
       "      <td>[Chillout, Downtempo, Electronic, Trip-hop, Fe...</td>\n",
       "    </tr>\n",
       "    <tr>\n",
       "      <th>2</th>\n",
       "      <td>0</td>\n",
       "      <td>47</td>\n",
       "      <td>11351</td>\n",
       "      <td>Air</td>\n",
       "      <td></td>\n",
       "      <td>[]</td>\n",
       "    </tr>\n",
       "    <tr>\n",
       "      <th>3</th>\n",
       "      <td>0</td>\n",
       "      <td>48</td>\n",
       "      <td>10300</td>\n",
       "      <td>Hooverphonic</td>\n",
       "      <td></td>\n",
       "      <td>[]</td>\n",
       "    </tr>\n",
       "    <tr>\n",
       "      <th>4</th>\n",
       "      <td>0</td>\n",
       "      <td>49</td>\n",
       "      <td>8983</td>\n",
       "      <td>Kylie Minogue</td>\n",
       "      <td></td>\n",
       "      <td>[]</td>\n",
       "    </tr>\n",
       "  </tbody>\n",
       "</table>\n",
       "</div>"
      ],
      "text/plain": [
       "  UserId ArtistId  ListenTime           Name    TopTag  \\\n",
       "0      0       45       13883    Duran Duran             \n",
       "1      0       46       11690      Morcheeba  Chillout   \n",
       "2      0       47       11351            Air             \n",
       "3      0       48       10300   Hooverphonic             \n",
       "4      0       49        8983  Kylie Minogue             \n",
       "\n",
       "                                             AllTags  \n",
       "0                                                 []  \n",
       "1  [Chillout, Downtempo, Electronic, Trip-hop, Fe...  \n",
       "2                                                 []  \n",
       "3                                                 []  \n",
       "4                                                 []  "
      ]
     },
     "execution_count": 53,
     "metadata": {},
     "output_type": "execute_result"
    }
   ],
   "source": [
    "df_user_artist.head()"
   ]
  },
  {
   "cell_type": "code",
   "execution_count": 54,
   "metadata": {
    "execution": {
     "iopub.execute_input": "2022-12-17T19:39:44.280797Z",
     "iopub.status.busy": "2022-12-17T19:39:44.280797Z",
     "iopub.status.idle": "2022-12-17T19:39:44.295799Z",
     "shell.execute_reply": "2022-12-17T19:39:44.294795Z",
     "shell.execute_reply.started": "2022-12-17T19:39:44.280797Z"
    },
    "tags": []
   },
   "outputs": [
    {
     "data": {
      "text/html": [
       "<div>\n",
       "<style scoped>\n",
       "    .dataframe tbody tr th:only-of-type {\n",
       "        vertical-align: middle;\n",
       "    }\n",
       "\n",
       "    .dataframe tbody tr th {\n",
       "        vertical-align: top;\n",
       "    }\n",
       "\n",
       "    .dataframe thead th {\n",
       "        text-align: right;\n",
       "    }\n",
       "</style>\n",
       "<table border=\"1\" class=\"dataframe\">\n",
       "  <thead>\n",
       "    <tr style=\"text-align: right;\">\n",
       "      <th></th>\n",
       "      <th>UserId</th>\n",
       "      <th>ArtistId</th>\n",
       "      <th>TagId</th>\n",
       "      <th>Day</th>\n",
       "      <th>Month</th>\n",
       "      <th>Year</th>\n",
       "      <th>Timestamp</th>\n",
       "      <th>Tag</th>\n",
       "      <th>Datetime</th>\n",
       "    </tr>\n",
       "  </thead>\n",
       "  <tbody>\n",
       "    <tr>\n",
       "      <th>0</th>\n",
       "      <td>0</td>\n",
       "      <td>46</td>\n",
       "      <td>13</td>\n",
       "      <td>1</td>\n",
       "      <td>4</td>\n",
       "      <td>2009</td>\n",
       "      <td>1238536800.000</td>\n",
       "      <td>Chillout</td>\n",
       "      <td>2009-03-31 22:00:00</td>\n",
       "    </tr>\n",
       "    <tr>\n",
       "      <th>1</th>\n",
       "      <td>0</td>\n",
       "      <td>46</td>\n",
       "      <td>15</td>\n",
       "      <td>1</td>\n",
       "      <td>4</td>\n",
       "      <td>2009</td>\n",
       "      <td>1238536800.000</td>\n",
       "      <td>Downtempo</td>\n",
       "      <td>2009-03-31 22:00:00</td>\n",
       "    </tr>\n",
       "    <tr>\n",
       "      <th>2</th>\n",
       "      <td>0</td>\n",
       "      <td>46</td>\n",
       "      <td>18</td>\n",
       "      <td>1</td>\n",
       "      <td>4</td>\n",
       "      <td>2009</td>\n",
       "      <td>1238536800.000</td>\n",
       "      <td>Electronic</td>\n",
       "      <td>2009-03-31 22:00:00</td>\n",
       "    </tr>\n",
       "    <tr>\n",
       "      <th>3</th>\n",
       "      <td>0</td>\n",
       "      <td>46</td>\n",
       "      <td>21</td>\n",
       "      <td>1</td>\n",
       "      <td>4</td>\n",
       "      <td>2009</td>\n",
       "      <td>1238536800.000</td>\n",
       "      <td>Trip-hop</td>\n",
       "      <td>2009-03-31 22:00:00</td>\n",
       "    </tr>\n",
       "    <tr>\n",
       "      <th>4</th>\n",
       "      <td>0</td>\n",
       "      <td>46</td>\n",
       "      <td>41</td>\n",
       "      <td>1</td>\n",
       "      <td>4</td>\n",
       "      <td>2009</td>\n",
       "      <td>1238536800.000</td>\n",
       "      <td>FemaleVovalists</td>\n",
       "      <td>2009-03-31 22:00:00</td>\n",
       "    </tr>\n",
       "  </tbody>\n",
       "</table>\n",
       "</div>"
      ],
      "text/plain": [
       "  UserId ArtistId  TagId  Day  Month  Year      Timestamp              Tag  \\\n",
       "0      0       46     13    1      4  2009 1238536800.000         Chillout   \n",
       "1      0       46     15    1      4  2009 1238536800.000        Downtempo   \n",
       "2      0       46     18    1      4  2009 1238536800.000       Electronic   \n",
       "3      0       46     21    1      4  2009 1238536800.000         Trip-hop   \n",
       "4      0       46     41    1      4  2009 1238536800.000  FemaleVovalists   \n",
       "\n",
       "             Datetime  \n",
       "0 2009-03-31 22:00:00  \n",
       "1 2009-03-31 22:00:00  \n",
       "2 2009-03-31 22:00:00  \n",
       "3 2009-03-31 22:00:00  \n",
       "4 2009-03-31 22:00:00  "
      ]
     },
     "execution_count": 54,
     "metadata": {},
     "output_type": "execute_result"
    }
   ],
   "source": [
    "df_tag.head()"
   ]
  },
  {
   "cell_type": "code",
   "execution_count": 55,
   "metadata": {
    "execution": {
     "iopub.execute_input": "2022-12-17T19:39:44.297797Z",
     "iopub.status.busy": "2022-12-17T19:39:44.297797Z",
     "iopub.status.idle": "2022-12-17T19:39:44.326826Z",
     "shell.execute_reply": "2022-12-17T19:39:44.325921Z",
     "shell.execute_reply.started": "2022-12-17T19:39:44.297797Z"
    },
    "tags": []
   },
   "outputs": [
    {
     "data": {
      "text/html": [
       "<div>\n",
       "<style scoped>\n",
       "    .dataframe tbody tr th:only-of-type {\n",
       "        vertical-align: middle;\n",
       "    }\n",
       "\n",
       "    .dataframe tbody tr th {\n",
       "        vertical-align: top;\n",
       "    }\n",
       "\n",
       "    .dataframe thead th {\n",
       "        text-align: right;\n",
       "    }\n",
       "</style>\n",
       "<table border=\"1\" class=\"dataframe\">\n",
       "  <thead>\n",
       "    <tr style=\"text-align: right;\">\n",
       "      <th></th>\n",
       "      <th>UserId</th>\n",
       "      <th>ArtistId</th>\n",
       "      <th>AllTags</th>\n",
       "      <th>UniqueTags</th>\n",
       "      <th>TotalCount</th>\n",
       "      <th>UniqueCount</th>\n",
       "      <th>DistinctPercentage</th>\n",
       "    </tr>\n",
       "  </thead>\n",
       "  <tbody>\n",
       "    <tr>\n",
       "      <th>0</th>\n",
       "      <td>1</td>\n",
       "      <td>102</td>\n",
       "      <td>[Downtempo, Experimental, Melancholy, Idm, Fem...</td>\n",
       "      <td>{Melancholy, Idm, Downtempo, Experimental, Gre...</td>\n",
       "      <td>6</td>\n",
       "      <td>6</td>\n",
       "      <td>1.000</td>\n",
       "    </tr>\n",
       "    <tr>\n",
       "      <th>1</th>\n",
       "      <td>1</td>\n",
       "      <td>95</td>\n",
       "      <td>[Ambient, Downtempo, Experimental, Glitch, U-c...</td>\n",
       "      <td>{Folktronica, Melancholy, Experimental, U-cove...</td>\n",
       "      <td>23</td>\n",
       "      <td>23</td>\n",
       "      <td>1.000</td>\n",
       "    </tr>\n",
       "    <tr>\n",
       "      <th>2</th>\n",
       "      <td>1</td>\n",
       "      <td>96</td>\n",
       "      <td>[Ambient, Downtempo, Electronic, Experimental,...</td>\n",
       "      <td>{Melancholy, Glitch, Electronic, Downtempo, Ex...</td>\n",
       "      <td>8</td>\n",
       "      <td>8</td>\n",
       "      <td>1.000</td>\n",
       "    </tr>\n",
       "    <tr>\n",
       "      <th>3</th>\n",
       "      <td>10</td>\n",
       "      <td>1604</td>\n",
       "      <td>[Hip-hop, Rap]</td>\n",
       "      <td>{Hip-hop, Rap}</td>\n",
       "      <td>2</td>\n",
       "      <td>2</td>\n",
       "      <td>1.000</td>\n",
       "    </tr>\n",
       "    <tr>\n",
       "      <th>4</th>\n",
       "      <td>10</td>\n",
       "      <td>327</td>\n",
       "      <td>[Pop, Rock]</td>\n",
       "      <td>{Rock, Pop}</td>\n",
       "      <td>2</td>\n",
       "      <td>2</td>\n",
       "      <td>1.000</td>\n",
       "    </tr>\n",
       "  </tbody>\n",
       "</table>\n",
       "</div>"
      ],
      "text/plain": [
       "  UserId ArtistId                                            AllTags  \\\n",
       "0      1      102  [Downtempo, Experimental, Melancholy, Idm, Fem...   \n",
       "1      1       95  [Ambient, Downtempo, Experimental, Glitch, U-c...   \n",
       "2      1       96  [Ambient, Downtempo, Electronic, Experimental,...   \n",
       "3     10     1604                                     [Hip-hop, Rap]   \n",
       "4     10      327                                        [Pop, Rock]   \n",
       "\n",
       "                                          UniqueTags  TotalCount  UniqueCount  \\\n",
       "0  {Melancholy, Idm, Downtempo, Experimental, Gre...           6            6   \n",
       "1  {Folktronica, Melancholy, Experimental, U-cove...          23           23   \n",
       "2  {Melancholy, Glitch, Electronic, Downtempo, Ex...           8            8   \n",
       "3                                     {Hip-hop, Rap}           2            2   \n",
       "4                                        {Rock, Pop}           2            2   \n",
       "\n",
       "   DistinctPercentage  \n",
       "0               1.000  \n",
       "1               1.000  \n",
       "2               1.000  \n",
       "3               1.000  \n",
       "4               1.000  "
      ]
     },
     "execution_count": 55,
     "metadata": {},
     "output_type": "execute_result"
    }
   ],
   "source": [
    "df_tag_grouped_artist.head()"
   ]
  },
  {
   "attachments": {},
   "cell_type": "markdown",
   "metadata": {},
   "source": [
    "### Create df_user_artists\n",
    "- This is the data frame used for the softmax deep learning model\n",
    "- It groups all artists for each user"
   ]
  },
  {
   "cell_type": "code",
   "execution_count": 56,
   "metadata": {
    "execution": {
     "iopub.execute_input": "2022-12-17T19:39:44.327800Z",
     "iopub.status.busy": "2022-12-17T19:39:44.327800Z",
     "iopub.status.idle": "2022-12-17T19:39:44.438800Z",
     "shell.execute_reply": "2022-12-17T19:39:44.437862Z",
     "shell.execute_reply.started": "2022-12-17T19:39:44.327800Z"
    },
    "tags": []
   },
   "outputs": [],
   "source": [
    "df_user_artists = (\n",
    "    df_user_artist[[\"UserId\", \"ArtistId\"]]\n",
    "    .groupby(\"UserId\", as_index=False)\n",
    "    .aggregate(lambda x: list(x))\n",
    ")"
   ]
  },
  {
   "cell_type": "code",
   "execution_count": 57,
   "metadata": {
    "execution": {
     "iopub.execute_input": "2022-12-17T19:39:44.439801Z",
     "iopub.status.busy": "2022-12-17T19:39:44.439801Z",
     "iopub.status.idle": "2022-12-17T19:39:44.454994Z",
     "shell.execute_reply": "2022-12-17T19:39:44.453794Z",
     "shell.execute_reply.started": "2022-12-17T19:39:44.439801Z"
    },
    "tags": []
   },
   "outputs": [
    {
     "data": {
      "text/html": [
       "<div>\n",
       "<style scoped>\n",
       "    .dataframe tbody tr th:only-of-type {\n",
       "        vertical-align: middle;\n",
       "    }\n",
       "\n",
       "    .dataframe tbody tr th {\n",
       "        vertical-align: top;\n",
       "    }\n",
       "\n",
       "    .dataframe thead th {\n",
       "        text-align: right;\n",
       "    }\n",
       "</style>\n",
       "<table border=\"1\" class=\"dataframe\">\n",
       "  <thead>\n",
       "    <tr style=\"text-align: right;\">\n",
       "      <th></th>\n",
       "      <th>UserId</th>\n",
       "      <th>ArtistId</th>\n",
       "    </tr>\n",
       "  </thead>\n",
       "  <tbody>\n",
       "    <tr>\n",
       "      <th>0</th>\n",
       "      <td>0</td>\n",
       "      <td>[45, 46, 47, 48, 49, 50, 51, 52, 53, 54, 55, 5...</td>\n",
       "    </tr>\n",
       "    <tr>\n",
       "      <th>1</th>\n",
       "      <td>1</td>\n",
       "      <td>[95, 96, 97, 98, 99, 100, 101, 102, 103, 104, ...</td>\n",
       "    </tr>\n",
       "    <tr>\n",
       "      <th>2</th>\n",
       "      <td>10</td>\n",
       "      <td>[66, 183, 185, 224, 282, 294, 327, 338, 371, 3...</td>\n",
       "    </tr>\n",
       "    <tr>\n",
       "      <th>3</th>\n",
       "      <td>100</td>\n",
       "      <td>[597, 610, 735, 739, 744, 746, 747, 763, 769, ...</td>\n",
       "    </tr>\n",
       "    <tr>\n",
       "      <th>4</th>\n",
       "      <td>1000</td>\n",
       "      <td>[49, 50, 58, 59, 61, 65, 83, 251, 282, 283, 28...</td>\n",
       "    </tr>\n",
       "  </tbody>\n",
       "</table>\n",
       "</div>"
      ],
      "text/plain": [
       "  UserId                                           ArtistId\n",
       "0      0  [45, 46, 47, 48, 49, 50, 51, 52, 53, 54, 55, 5...\n",
       "1      1  [95, 96, 97, 98, 99, 100, 101, 102, 103, 104, ...\n",
       "2     10  [66, 183, 185, 224, 282, 294, 327, 338, 371, 3...\n",
       "3    100  [597, 610, 735, 739, 744, 746, 747, 763, 769, ...\n",
       "4   1000  [49, 50, 58, 59, 61, 65, 83, 251, 282, 283, 28..."
      ]
     },
     "execution_count": 57,
     "metadata": {},
     "output_type": "execute_result"
    }
   ],
   "source": [
    "# Since UserId is a string, it is sorted alphanumerically\n",
    "df_user_artists.head()"
   ]
  },
  {
   "attachments": {},
   "cell_type": "markdown",
   "metadata": {
    "tags": []
   },
   "source": [
    "## Model Development Functions"
   ]
  },
  {
   "attachments": {},
   "cell_type": "markdown",
   "metadata": {},
   "source": [
    "### Split Dataframe"
   ]
  },
  {
   "cell_type": "code",
   "execution_count": 58,
   "metadata": {
    "execution": {
     "iopub.execute_input": "2022-12-17T19:39:44.456796Z",
     "iopub.status.busy": "2022-12-17T19:39:44.455796Z",
     "iopub.status.idle": "2022-12-17T19:39:44.469795Z",
     "shell.execute_reply": "2022-12-17T19:39:44.468891Z",
     "shell.execute_reply.started": "2022-12-17T19:39:44.456796Z"
    },
    "tags": []
   },
   "outputs": [],
   "source": [
    "def split_dataframe(df, holdout_fraction=0.1):\n",
    "    \"\"\"Splits a DataFrame into training and test sets.\n",
    "    Args:\n",
    "    df: a dataframe.\n",
    "    holdout_fraction: fraction of dataframe rows to use in the test set.\n",
    "    Returns:\n",
    "    train: dataframe for training\n",
    "    test: dataframe for testing\n",
    "    \"\"\"\n",
    "    test = df.sample(frac=holdout_fraction, replace=False)\n",
    "    train = df[~df.index.isin(test.index)]\n",
    "    return train, test\n"
   ]
  },
  {
   "attachments": {},
   "cell_type": "markdown",
   "metadata": {},
   "source": [
    "### Build Listen Sparse Tensor"
   ]
  },
  {
   "cell_type": "code",
   "execution_count": 59,
   "metadata": {
    "execution": {
     "iopub.execute_input": "2022-12-17T19:39:44.470872Z",
     "iopub.status.busy": "2022-12-17T19:39:44.470872Z",
     "iopub.status.idle": "2022-12-17T19:39:44.484861Z",
     "shell.execute_reply": "2022-12-17T19:39:44.484861Z",
     "shell.execute_reply.started": "2022-12-17T19:39:44.470872Z"
    }
   },
   "outputs": [],
   "source": [
    "def build_listen_sparse_tensor(df_user_artist, n_users, n_artists):\n",
    "    \"\"\"\n",
    "    Args:\n",
    "    df_user_artist: a pd.DataFrame with `UserId`, `ArtistId` and `ListenTime` columns.\n",
    "    Returns:\n",
    "    a tf.SparseTensor representing the ratings matrix.\n",
    "    \"\"\"\n",
    "    indices = df_user_artist[[\"UserId\", \"ArtistId\"]].values\n",
    "    values = df_user_artist[\"ListenTime\"].values\n",
    "    return tf.SparseTensor(\n",
    "        indices=indices,\n",
    "        values=values,\n",
    "        dense_shape=[n_users, n_artists],\n",
    "    )\n"
   ]
  },
  {
   "attachments": {},
   "cell_type": "markdown",
   "metadata": {},
   "source": [
    "### Mean Square Error"
   ]
  },
  {
   "cell_type": "code",
   "execution_count": 60,
   "metadata": {
    "execution": {
     "iopub.execute_input": "2022-12-17T19:39:44.486953Z",
     "iopub.status.busy": "2022-12-17T19:39:44.485795Z",
     "iopub.status.idle": "2022-12-17T19:39:44.500998Z",
     "shell.execute_reply": "2022-12-17T19:39:44.499964Z",
     "shell.execute_reply.started": "2022-12-17T19:39:44.486953Z"
    }
   },
   "outputs": [],
   "source": [
    "def sparse_mean_square_error(sparse_listens, user_embeddings, artist_embeddings):\n",
    "    \"\"\"\n",
    "    Args:\n",
    "    sparse_ratings: A SparseTensor listen matrix, of dense_shape [N, M]\n",
    "    user_embeddings: A dense Tensor U of shape [N, k] where k is the embedding\n",
    "      dimension, such that U_i is the embedding of user i.\n",
    "    artist_embeddings: A dense Tensor V of shape [M, k] where k is the embedding\n",
    "      dimension, such that V_j is the embedding of artist j.\n",
    "    Returns:\n",
    "    A scalar Tensor representing the MSE between the true listens and the\n",
    "      model's predictions.\n",
    "    \"\"\"\n",
    "    predictions = tf.reduce_sum(\n",
    "        tf.gather(user_embeddings, sparse_listens.indices[:, 0])\n",
    "        * tf.gather(artist_embeddings, sparse_listens.indices[:, 1]),\n",
    "        axis=1,\n",
    "    )\n",
    "    loss = tf.losses.mean_squared_error(sparse_listens.values, predictions)\n",
    "    return loss\n"
   ]
  },
  {
   "attachments": {},
   "cell_type": "markdown",
   "metadata": {},
   "source": [
    "###  Collaborative Filtering Model"
   ]
  },
  {
   "cell_type": "code",
   "execution_count": 61,
   "metadata": {
    "execution": {
     "iopub.execute_input": "2022-12-17T19:39:44.502963Z",
     "iopub.status.busy": "2022-12-17T19:39:44.501963Z",
     "iopub.status.idle": "2022-12-17T19:39:44.531965Z",
     "shell.execute_reply": "2022-12-17T19:39:44.530965Z",
     "shell.execute_reply.started": "2022-12-17T19:39:44.502963Z"
    }
   },
   "outputs": [],
   "source": [
    "class CFModel(object):\n",
    "    \"\"\"Simple class that represents a collaborative filtering model\"\"\"\n",
    "\n",
    "    def __init__(self, embedding_vars, loss, metrics=None):\n",
    "        \"\"\"Initializes a CFModel.\n",
    "        Args:\n",
    "          embedding_vars: A dictionary of tf.Variables.\n",
    "          loss: A float Tensor. The loss to optimize.\n",
    "          metrics: optional list of dictionaries of Tensors. The metrics in each\n",
    "            dictionary will be plotted in a separate figure during training.\n",
    "        \"\"\"\n",
    "        self._embedding_vars = embedding_vars\n",
    "        self._loss = loss\n",
    "        self._metrics = metrics\n",
    "        self._embeddings = {k: None for k in embedding_vars}\n",
    "        self._session = None\n",
    "\n",
    "    @property\n",
    "    def embeddings(self):\n",
    "        \"\"\"The embeddings dictionary.\"\"\"\n",
    "        return self._embeddings\n",
    "\n",
    "    def train(self, num_iterations=100, learning_rate=1.0, plot_results=True,\n",
    "              optimizer=tf.train.GradientDescentOptimizer):\n",
    "        \"\"\"Trains the model.\n",
    "        Args:\n",
    "          iterations: number of iterations to run.\n",
    "          learning_rate: optimizer learning rate.\n",
    "          plot_results: whether to plot the results at the end of training.\n",
    "          optimizer: the optimizer to use. Default to GradientDescentOptimizer.\n",
    "        Returns:\n",
    "          The metrics dictionary evaluated at the last iteration.\n",
    "        \"\"\"\n",
    "        with self._loss.graph.as_default():\n",
    "            opt = optimizer(learning_rate)\n",
    "            train_op = opt.minimize(self._loss)\n",
    "            local_init_op = tf.group(\n",
    "                tf.variables_initializer(opt.variables()),\n",
    "                tf.local_variables_initializer())\n",
    "            if self._session is None:\n",
    "                self._session = tf.Session()\n",
    "                with self._session.as_default():\n",
    "                    self._session.run(tf.global_variables_initializer())\n",
    "                    self._session.run(tf.tables_initializer())\n",
    "                    tf.train.start_queue_runners()\n",
    "\n",
    "        with self._session.as_default():\n",
    "            local_init_op.run()\n",
    "            iterations = []\n",
    "            metrics = self._metrics or ({},)\n",
    "            metrics_vals = [collections.defaultdict(list) for _ in self._metrics]\n",
    "\n",
    "            # Train and append results.\n",
    "            for i in range(num_iterations + 1):\n",
    "                _, results = self._session.run((train_op, metrics))\n",
    "                if (i % 10 == 0) or i == num_iterations:\n",
    "                    print(\"\\r iteration %d: \" % i + \", \".join(\n",
    "                        [\"%s=%f\" % (k, v) for r in results for k, v in r.items()]),\n",
    "                          end='')\n",
    "                    iterations.append(i)\n",
    "                    for metric_val, result in zip(metrics_vals, results):\n",
    "                        for k, v in result.items():\n",
    "                            metric_val[k].append(v)\n",
    "\n",
    "            for k, v in self._embedding_vars.items():\n",
    "                self._embeddings[k] = v.eval()\n",
    "\n",
    "            if plot_results:\n",
    "                # Plot the metrics.\n",
    "                num_subplots = len(metrics) + 1\n",
    "                fig = plt.figure()\n",
    "                fig.set_size_inches(num_subplots * 10, 8)\n",
    "                for i, metric_vals in enumerate(metrics_vals):\n",
    "                    ax = fig.add_subplot(1, num_subplots, i + 1)\n",
    "                    for k, v in metric_vals.items():\n",
    "                        ax.plot(iterations, v, label=k)\n",
    "                    ax.set_xlim([1, num_iterations])\n",
    "                    ax.legend()\n",
    "            return results"
   ]
  },
  {
   "attachments": {},
   "cell_type": "markdown",
   "metadata": {},
   "source": [
    "### Build Model"
   ]
  },
  {
   "cell_type": "code",
   "execution_count": 62,
   "metadata": {
    "execution": {
     "iopub.execute_input": "2022-12-17T19:39:44.533803Z",
     "iopub.status.busy": "2022-12-17T19:39:44.532963Z",
     "iopub.status.idle": "2022-12-17T19:39:44.547962Z",
     "shell.execute_reply": "2022-12-17T19:39:44.547035Z",
     "shell.execute_reply.started": "2022-12-17T19:39:44.532963Z"
    }
   },
   "outputs": [],
   "source": [
    "def build_model(df_user_artist, embedding_dim=3, init_stddev=1.0):\n",
    "    \"\"\"\n",
    "    Args:\n",
    "    df_user_artist: a DataFrame of the listening time for each user artist pair\n",
    "    embedding_dim: the dimension of the embedding vectors.\n",
    "    init_stddev: float, the standard deviation of the random initial embeddings.\n",
    "    Returns:\n",
    "    model: a CFModel.\n",
    "    \"\"\"\n",
    "    # Creating number of users and artists variables\n",
    "    n_users, n_artists = (\n",
    "        df_user_artist.UserId.nunique(),\n",
    "        df_user_artist.ArtistId.nunique(),\n",
    "    )\n",
    "\n",
    "    # Split the ratings DataFrame into train and test.\n",
    "    train_listens, test_listens = split_dataframe(df_user_artist)\n",
    "\n",
    "    # SparseTensor representation of the train and test datasets.\n",
    "    A_train = build_listen_sparse_tensor(train_listens, n_users, n_artists)\n",
    "    A_test = build_listen_sparse_tensor(test_listens, n_users, n_artists)\n",
    "\n",
    "    # Initialize the embeddings using a normal distribution.\n",
    "    U = tf.Variable(\n",
    "        tf.random_normal([A_train.dense_shape[0], embedding_dim], stddev=init_stddev)\n",
    "    )\n",
    "    V = tf.Variable(\n",
    "        tf.random_normal([A_train.dense_shape[1], embedding_dim], stddev=init_stddev)\n",
    "    )\n",
    "    train_loss = sparse_mean_square_error(A_train, U, V)\n",
    "    test_loss = sparse_mean_square_error(A_test, U, V)\n",
    "    metrics = {\"train_error\": train_loss, \"test_error\": test_loss}\n",
    "    embeddings = {\"UserId\": U, \"ArtistId\": V}\n",
    "    return CFModel(embeddings, train_loss, [metrics])\n"
   ]
  },
  {
   "attachments": {},
   "cell_type": "markdown",
   "metadata": {},
   "source": [
    "## Model Evaluation Functions"
   ]
  },
  {
   "attachments": {},
   "cell_type": "markdown",
   "metadata": {},
   "source": [
    "### Compute Scores"
   ]
  },
  {
   "cell_type": "code",
   "execution_count": 63,
   "metadata": {
    "execution": {
     "iopub.execute_input": "2022-12-17T19:39:44.549417Z",
     "iopub.status.busy": "2022-12-17T19:39:44.548962Z",
     "iopub.status.idle": "2022-12-17T19:39:44.561973Z",
     "shell.execute_reply": "2022-12-17T19:39:44.561973Z",
     "shell.execute_reply.started": "2022-12-17T19:39:44.549417Z"
    },
    "tags": []
   },
   "outputs": [],
   "source": [
    "def compute_scores(query_embedding, item_embeddings, measure=\"dot\"):\n",
    "    \"\"\"Computes the scores of the candidates given a query.\n",
    "    Args:\n",
    "      query_embedding: a vector of shape [k], representing the query embedding.\n",
    "      item_embeddings: a matrix of shape [N, k], such that row i is the embedding\n",
    "        of item i.\n",
    "      measure: a string specifying the similarity measure to be used. Can be\n",
    "        either DOT or COSINE.\n",
    "    Returns:\n",
    "      scores: a vector of shape [N], such that scores[i] is the score of item i.\n",
    "    \"\"\"\n",
    "    u = query_embedding\n",
    "    V = item_embeddings\n",
    "    if measure == \"cosine\":\n",
    "        V = V / np.linalg.norm(V, axis=1, keepdims=True)\n",
    "        u = u / np.linalg.norm(u)\n",
    "    scores = u.dot(V.T)\n",
    "    return scores"
   ]
  },
  {
   "attachments": {},
   "cell_type": "markdown",
   "metadata": {},
   "source": [
    "### User Recommendations"
   ]
  },
  {
   "cell_type": "code",
   "execution_count": 64,
   "metadata": {
    "execution": {
     "iopub.execute_input": "2022-12-17T19:39:44.564338Z",
     "iopub.status.busy": "2022-12-17T19:39:44.563965Z",
     "iopub.status.idle": "2022-12-17T19:39:44.577962Z",
     "shell.execute_reply": "2022-12-17T19:39:44.577962Z",
     "shell.execute_reply.started": "2022-12-17T19:39:44.564338Z"
    }
   },
   "outputs": [],
   "source": [
    "def user_recommendations(model, measure='dot', UserId=0, exclude_rated=False, k=6):\n",
    "    scores = compute_scores(\n",
    "        model.embeddings[\"UserId\"][UserId], model.embeddings[\"ArtistId\"], measure\n",
    "    )\n",
    "    score_key = measure + \" score\"\n",
    "    df = pd.DataFrame(\n",
    "        {\n",
    "            score_key: list(scores),\n",
    "            \"ArtistId\": df_artists[\"ArtistId\"]\n",
    "            ,\"Name\": df_artists[\"Name\"]\n",
    "            ,'TopTag': df_artists['TopTag']\n",
    "            ,'AllTags': df_artists['AllTags']\n",
    "        }\n",
    "    )\n",
    "\n",
    "    if exclude_rated:\n",
    "        # remove artists that are already rated\n",
    "        rated_artists = ratings[ratings.UserId == \"1892\"][\"ArtistId\"].values\n",
    "        df = df[df.ArtistId.apply(lambda ArtistId: ArtistId not in rated_artists)]\n",
    "    display.display(df.sort_values([score_key], ascending=False).head(k))\n",
    "\n"
   ]
  },
  {
   "attachments": {},
   "cell_type": "markdown",
   "metadata": {},
   "source": [
    "### Artist Neighbors"
   ]
  },
  {
   "cell_type": "code",
   "execution_count": 65,
   "metadata": {
    "execution": {
     "iopub.execute_input": "2022-12-17T19:39:44.579962Z",
     "iopub.status.busy": "2022-12-17T19:39:44.579962Z",
     "iopub.status.idle": "2022-12-17T19:39:44.592742Z",
     "shell.execute_reply": "2022-12-17T19:39:44.592742Z",
     "shell.execute_reply.started": "2022-12-17T19:39:44.579962Z"
    },
    "tags": []
   },
   "outputs": [],
   "source": [
    "def artist_neighbors(model, name_substring='Kanye', measure='dot', k=6):\n",
    "    # Search for artists that match the given substring.\n",
    "    ids =  df_artists.loc[df_artists['Name'].str.contains(name_substring), 'ArtistId'].astype('int').values\n",
    "    names = df_artists.Name[ids]\n",
    "    if len(names) == 0:\n",
    "        raise ValueError(f\"Found no artists with name {name_substring}\")\n",
    "    print(f\"Nearest neighbors of : {names.iloc[0]}.\")\n",
    "\n",
    "    if len(names) > 1:\n",
    "        print(f\"Found more than one matching artist. Other candidates: {', '.join(names.iloc[1:])}\")\n",
    "    artist = names.iloc[0]\n",
    "    scores = compute_scores(\n",
    "        model.embeddings[\"ArtistId\"][ids[0]], model.embeddings[\"ArtistId\"],\n",
    "        measure)\n",
    "    score_key = measure + ' score'\n",
    "    df = pd.DataFrame({\n",
    "        score_key: list(scores)\n",
    "        ,'Name': df_artists['Name']\n",
    "        ,'TopTag': df_artists['TopTag']\n",
    "        ,'AllTags': df_artists['AllTags']\n",
    "    })\n",
    "    display.display(df.sort_values(score_key, ascending=False).head(k))"
   ]
  },
  {
   "attachments": {},
   "cell_type": "markdown",
   "metadata": {},
   "source": [
    "### Personalized Recommendations\n",
    "For personalised recommendations create a dictionary of your favourite artists and estimated total listening time.\n",
    "\n",
    "For example \n",
    "```\n",
    "{\n",
    "    'Chris Brown': 4000,\n",
    "    'Justin Timberlake': 6000,\n",
    "    'David Guetta': 500,\n",
    "    'Kanye West': 100,\n",
    "    'Drake': 200\n",
    "}\n",
    "```"
   ]
  },
  {
   "cell_type": "code",
   "execution_count": 66,
   "metadata": {
    "execution": {
     "iopub.execute_input": "2022-12-17T19:39:44.594744Z",
     "iopub.status.busy": "2022-12-17T19:39:44.594744Z",
     "iopub.status.idle": "2022-12-17T19:39:44.608745Z",
     "shell.execute_reply": "2022-12-17T19:39:44.608745Z",
     "shell.execute_reply.started": "2022-12-17T19:39:44.594744Z"
    },
    "tags": []
   },
   "outputs": [],
   "source": [
    "def next_user_id():\n",
    "    '''\n",
    "    Finds the next user id from df_user_artist for inserting into the dataframe\n",
    "    '''\n",
    "    return df_user_artist.UserId.nunique()"
   ]
  },
  {
   "cell_type": "code",
   "execution_count": 67,
   "metadata": {
    "execution": {
     "iopub.execute_input": "2022-12-17T19:39:44.610743Z",
     "iopub.status.busy": "2022-12-17T19:39:44.610743Z",
     "iopub.status.idle": "2022-12-17T19:39:44.625748Z",
     "shell.execute_reply": "2022-12-17T19:39:44.624744Z",
     "shell.execute_reply.started": "2022-12-17T19:39:44.610743Z"
    }
   },
   "outputs": [],
   "source": [
    "def next_index():\n",
    "    '''\n",
    "    Finds the next index in df_user_artist for inserting into the dataframe\n",
    "    '''\n",
    "    return len(df_user_artist)"
   ]
  },
  {
   "cell_type": "code",
   "execution_count": 68,
   "metadata": {
    "execution": {
     "iopub.execute_input": "2022-12-17T19:39:44.627744Z",
     "iopub.status.busy": "2022-12-17T19:39:44.626743Z",
     "iopub.status.idle": "2022-12-17T19:39:44.671743Z",
     "shell.execute_reply": "2022-12-17T19:39:44.671108Z",
     "shell.execute_reply.started": "2022-12-17T19:39:44.627744Z"
    },
    "tags": []
   },
   "outputs": [],
   "source": [
    "# Create dictionary to map name to id for adding preferences\n",
    "dict_artist_to_id = dict(zip(df_user_artist['Name'], df_user_artist['ArtistId']))"
   ]
  },
  {
   "attachments": {},
   "cell_type": "markdown",
   "metadata": {},
   "source": [
    "### Add Preferences"
   ]
  },
  {
   "cell_type": "code",
   "execution_count": 69,
   "metadata": {
    "execution": {
     "iopub.execute_input": "2022-12-17T19:39:44.673748Z",
     "iopub.status.busy": "2022-12-17T19:39:44.672744Z",
     "iopub.status.idle": "2022-12-17T19:39:44.686796Z",
     "shell.execute_reply": "2022-12-17T19:39:44.686796Z",
     "shell.execute_reply.started": "2022-12-17T19:39:44.673748Z"
    }
   },
   "outputs": [],
   "source": [
    "def add_preferences(df, preferences):\n",
    "    '''\n",
    "    This function allows a user to add their preferences to the dataframe.\n",
    "    Returns the dataframe df, an updated grouped version of df and the user id my_user_id.\n",
    "\n",
    "    Arguments:\n",
    "    df : dataframe that will be appended to. (df_user_artist)\n",
    "    preferences : a dictionary contain artist and total listening time as (key, value) pairs.\n",
    "    \n",
    "    Example:\n",
    "    preferences = {\n",
    "        'One Republic': 400\n",
    "    }\n",
    "    df, df_grouped, my_user_id = add_preferences(df, preferences)\n",
    "    '''\n",
    "    # Setting variable values\n",
    "    top_tag = \"\"\n",
    "    all_tags = []\n",
    "    my_user_id = str(next_user_id())\n",
    "    for artist, listen_time in preferences.items():\n",
    "        # Using a try except to capture invalid names\n",
    "        try:\n",
    "            artist_id = str(dict_artist_to_id[artist])\n",
    "            row = [\n",
    "                my_user_id,\n",
    "                artist_id,\n",
    "                listen_time,\n",
    "                artist,\n",
    "                top_tag,\n",
    "                all_tags,\n",
    "            ]\n",
    "            df.loc[next_index()] = row\n",
    "        except(KeyError):\n",
    "            print(artist, 'is not in df_user_artist. They will be skipped.')\n",
    "    \n",
    "    # Updating the grouped version of df\n",
    "    df_grouped = (df[[\"UserId\", \"ArtistId\"]]\n",
    "    .groupby(\"UserId\", as_index=False)\n",
    "    .aggregate(lambda x: list(x))\n",
    "    )\n",
    "    return df, df_grouped, my_user_id"
   ]
  },
  {
   "attachments": {},
   "cell_type": "markdown",
   "metadata": {},
   "source": [
    "### Remove Preferences"
   ]
  },
  {
   "cell_type": "code",
   "execution_count": 70,
   "metadata": {
    "execution": {
     "iopub.execute_input": "2022-12-17T19:39:44.688805Z",
     "iopub.status.busy": "2022-12-17T19:39:44.688805Z",
     "iopub.status.idle": "2022-12-17T19:39:44.703806Z",
     "shell.execute_reply": "2022-12-17T19:39:44.702887Z",
     "shell.execute_reply.started": "2022-12-17T19:39:44.688805Z"
    }
   },
   "outputs": [],
   "source": [
    "def remove_preferences(df, my_user_id):\n",
    "    '''\n",
    "    This function removes the records for a specified UserId in df.\n",
    "    Arguments:\n",
    "    - df : dataframe to be updated.\n",
    "    - my_user_id : user id to be removed from df.\n",
    "    '''\n",
    "    return df.loc[df.UserId != my_user_id]"
   ]
  },
  {
   "cell_type": "code",
   "execution_count": 71,
   "metadata": {
    "execution": {
     "iopub.execute_input": "2022-12-17T19:39:44.704804Z",
     "iopub.status.busy": "2022-12-17T19:39:44.704804Z",
     "iopub.status.idle": "2022-12-17T19:39:44.719806Z",
     "shell.execute_reply": "2022-12-17T19:39:44.718803Z",
     "shell.execute_reply.started": "2022-12-17T19:39:44.704804Z"
    }
   },
   "outputs": [],
   "source": [
    "preferences1 = {\n",
    "    'Chris Brown': 4000,\n",
    "    'Justin Timberlake': 6000,\n",
    "    'David Guetta': 500,\n",
    "    'Kanye West': 100,\n",
    "    'Drake': 200\n",
    "}\n",
    "preferences2 = {\n",
    "    'Black Eyed Peas': 1000,\n",
    "    'Katy Perry': 2050,\n",
    "    'Jennifer Lopez': 2500,\n",
    "    'Beyoncé': 3570,\n",
    "    'Leona Lewis': 2660\n",
    "}"
   ]
  },
  {
   "cell_type": "code",
   "execution_count": 72,
   "metadata": {
    "execution": {
     "iopub.execute_input": "2022-12-17T19:39:44.720877Z",
     "iopub.status.busy": "2022-12-17T19:39:44.720877Z",
     "iopub.status.idle": "2022-12-17T19:39:44.910808Z",
     "shell.execute_reply": "2022-12-17T19:39:44.909820Z",
     "shell.execute_reply.started": "2022-12-17T19:39:44.720877Z"
    }
   },
   "outputs": [],
   "source": [
    "df_user_artist, df_user_artists, my_user_id1 = add_preferences(df_user_artist, preferences1)"
   ]
  },
  {
   "cell_type": "code",
   "execution_count": 73,
   "metadata": {
    "execution": {
     "iopub.execute_input": "2022-12-17T19:39:44.912989Z",
     "iopub.status.busy": "2022-12-17T19:39:44.911803Z",
     "iopub.status.idle": "2022-12-17T19:39:44.941835Z",
     "shell.execute_reply": "2022-12-17T19:39:44.940927Z",
     "shell.execute_reply.started": "2022-12-17T19:39:44.912989Z"
    }
   },
   "outputs": [
    {
     "data": {
      "text/html": [
       "<div>\n",
       "<style scoped>\n",
       "    .dataframe tbody tr th:only-of-type {\n",
       "        vertical-align: middle;\n",
       "    }\n",
       "\n",
       "    .dataframe tbody tr th {\n",
       "        vertical-align: top;\n",
       "    }\n",
       "\n",
       "    .dataframe thead th {\n",
       "        text-align: right;\n",
       "    }\n",
       "</style>\n",
       "<table border=\"1\" class=\"dataframe\">\n",
       "  <thead>\n",
       "    <tr style=\"text-align: right;\">\n",
       "      <th></th>\n",
       "      <th>UserId</th>\n",
       "      <th>ArtistId</th>\n",
       "      <th>ListenTime</th>\n",
       "      <th>Name</th>\n",
       "      <th>TopTag</th>\n",
       "      <th>AllTags</th>\n",
       "    </tr>\n",
       "  </thead>\n",
       "  <tbody>\n",
       "    <tr>\n",
       "      <th>92834</th>\n",
       "      <td>1892</td>\n",
       "      <td>321</td>\n",
       "      <td>4000</td>\n",
       "      <td>Chris Brown</td>\n",
       "      <td></td>\n",
       "      <td>[]</td>\n",
       "    </tr>\n",
       "    <tr>\n",
       "      <th>92835</th>\n",
       "      <td>1892</td>\n",
       "      <td>323</td>\n",
       "      <td>6000</td>\n",
       "      <td>Justin Timberlake</td>\n",
       "      <td></td>\n",
       "      <td>[]</td>\n",
       "    </tr>\n",
       "    <tr>\n",
       "      <th>92836</th>\n",
       "      <td>1892</td>\n",
       "      <td>322</td>\n",
       "      <td>500</td>\n",
       "      <td>David Guetta</td>\n",
       "      <td></td>\n",
       "      <td>[]</td>\n",
       "    </tr>\n",
       "    <tr>\n",
       "      <th>92837</th>\n",
       "      <td>1892</td>\n",
       "      <td>325</td>\n",
       "      <td>100</td>\n",
       "      <td>Kanye West</td>\n",
       "      <td></td>\n",
       "      <td>[]</td>\n",
       "    </tr>\n",
       "    <tr>\n",
       "      <th>92838</th>\n",
       "      <td>1892</td>\n",
       "      <td>3280</td>\n",
       "      <td>200</td>\n",
       "      <td>Drake</td>\n",
       "      <td></td>\n",
       "      <td>[]</td>\n",
       "    </tr>\n",
       "  </tbody>\n",
       "</table>\n",
       "</div>"
      ],
      "text/plain": [
       "      UserId ArtistId  ListenTime               Name TopTag AllTags\n",
       "92834   1892      321        4000        Chris Brown             []\n",
       "92835   1892      323        6000  Justin Timberlake             []\n",
       "92836   1892      322         500       David Guetta             []\n",
       "92837   1892      325         100         Kanye West             []\n",
       "92838   1892     3280         200              Drake             []"
      ]
     },
     "execution_count": 73,
     "metadata": {},
     "output_type": "execute_result"
    }
   ],
   "source": [
    "# Below you can see the preferences have been added\n",
    "df_user_artist.tail()"
   ]
  },
  {
   "cell_type": "code",
   "execution_count": 74,
   "metadata": {
    "execution": {
     "iopub.execute_input": "2022-12-17T19:39:44.943411Z",
     "iopub.status.busy": "2022-12-17T19:39:44.942835Z",
     "iopub.status.idle": "2022-12-17T19:39:44.972807Z",
     "shell.execute_reply": "2022-12-17T19:39:44.971807Z",
     "shell.execute_reply.started": "2022-12-17T19:39:44.943411Z"
    }
   },
   "outputs": [
    {
     "data": {
      "text/html": [
       "<div>\n",
       "<style scoped>\n",
       "    .dataframe tbody tr th:only-of-type {\n",
       "        vertical-align: middle;\n",
       "    }\n",
       "\n",
       "    .dataframe tbody tr th {\n",
       "        vertical-align: top;\n",
       "    }\n",
       "\n",
       "    .dataframe thead th {\n",
       "        text-align: right;\n",
       "    }\n",
       "</style>\n",
       "<table border=\"1\" class=\"dataframe\">\n",
       "  <thead>\n",
       "    <tr style=\"text-align: right;\">\n",
       "      <th></th>\n",
       "      <th>UserId</th>\n",
       "      <th>ArtistId</th>\n",
       "      <th>ListenTime</th>\n",
       "      <th>Name</th>\n",
       "      <th>TopTag</th>\n",
       "      <th>AllTags</th>\n",
       "    </tr>\n",
       "  </thead>\n",
       "  <tbody>\n",
       "    <tr>\n",
       "      <th>92829</th>\n",
       "      <td>1891</td>\n",
       "      <td>17615</td>\n",
       "      <td>337</td>\n",
       "      <td>Nyktalgia</td>\n",
       "      <td></td>\n",
       "      <td>[]</td>\n",
       "    </tr>\n",
       "    <tr>\n",
       "      <th>92830</th>\n",
       "      <td>1891</td>\n",
       "      <td>17616</td>\n",
       "      <td>297</td>\n",
       "      <td>Atsakau  niekadA</td>\n",
       "      <td></td>\n",
       "      <td>[]</td>\n",
       "    </tr>\n",
       "    <tr>\n",
       "      <th>92831</th>\n",
       "      <td>1891</td>\n",
       "      <td>17617</td>\n",
       "      <td>281</td>\n",
       "      <td>Domantas Razauskas</td>\n",
       "      <td></td>\n",
       "      <td>[]</td>\n",
       "    </tr>\n",
       "    <tr>\n",
       "      <th>92832</th>\n",
       "      <td>1891</td>\n",
       "      <td>17618</td>\n",
       "      <td>280</td>\n",
       "      <td>Atalyja</td>\n",
       "      <td></td>\n",
       "      <td>[]</td>\n",
       "    </tr>\n",
       "    <tr>\n",
       "      <th>92833</th>\n",
       "      <td>1891</td>\n",
       "      <td>17619</td>\n",
       "      <td>263</td>\n",
       "      <td>Les Chants de Nihil</td>\n",
       "      <td></td>\n",
       "      <td>[]</td>\n",
       "    </tr>\n",
       "  </tbody>\n",
       "</table>\n",
       "</div>"
      ],
      "text/plain": [
       "      UserId ArtistId  ListenTime                 Name TopTag AllTags\n",
       "92829   1891    17615         337            Nyktalgia             []\n",
       "92830   1891    17616         297     Atsakau  niekadA             []\n",
       "92831   1891    17617         281   Domantas Razauskas             []\n",
       "92832   1891    17618         280              Atalyja             []\n",
       "92833   1891    17619         263  Les Chants de Nihil             []"
      ]
     },
     "execution_count": 74,
     "metadata": {},
     "output_type": "execute_result"
    }
   ],
   "source": [
    "# If I want to remove those preferences, the output shows how they are now removed\n",
    "df_user_artist = remove_preferences(df_user_artist, my_user_id1)\n",
    "df_user_artist.tail()"
   ]
  },
  {
   "cell_type": "code",
   "execution_count": 75,
   "metadata": {
    "execution": {
     "iopub.execute_input": "2022-12-17T19:39:44.974809Z",
     "iopub.status.busy": "2022-12-17T19:39:44.973809Z",
     "iopub.status.idle": "2022-12-17T19:39:45.332186Z",
     "shell.execute_reply": "2022-12-17T19:39:45.331288Z",
     "shell.execute_reply.started": "2022-12-17T19:39:44.974809Z"
    }
   },
   "outputs": [],
   "source": [
    "# Adding them back in along with other preferences\n",
    "df_user_artist, df_user_artists, my_user_id1 = add_preferences(df_user_artist, preferences1)\n",
    "df_user_artist, df_user_artists, my_user_id2 = add_preferences(df_user_artist, preferences2)"
   ]
  },
  {
   "cell_type": "code",
   "execution_count": 76,
   "metadata": {
    "execution": {
     "iopub.execute_input": "2022-12-17T19:39:45.333155Z",
     "iopub.status.busy": "2022-12-17T19:39:45.333155Z",
     "iopub.status.idle": "2022-12-17T19:39:45.348185Z",
     "shell.execute_reply": "2022-12-17T19:39:45.347289Z",
     "shell.execute_reply.started": "2022-12-17T19:39:45.333155Z"
    }
   },
   "outputs": [
    {
     "data": {
      "text/plain": [
       "('1892', '1893')"
      ]
     },
     "execution_count": 76,
     "metadata": {},
     "output_type": "execute_result"
    }
   ],
   "source": [
    "# Checking my_user_id\n",
    "my_user_id1, my_user_id2"
   ]
  },
  {
   "attachments": {},
   "cell_type": "markdown",
   "metadata": {
    "tags": []
   },
   "source": [
    "## Model Embedding Inspection Functions"
   ]
  },
  {
   "attachments": {},
   "cell_type": "markdown",
   "metadata": {},
   "source": [
    "### Artist Embedding Norm"
   ]
  },
  {
   "cell_type": "code",
   "execution_count": 77,
   "metadata": {
    "execution": {
     "iopub.execute_input": "2022-12-17T19:39:45.349183Z",
     "iopub.status.busy": "2022-12-17T19:39:45.349183Z",
     "iopub.status.idle": "2022-12-17T19:39:45.364151Z",
     "shell.execute_reply": "2022-12-17T19:39:45.363208Z",
     "shell.execute_reply.started": "2022-12-17T19:39:45.349183Z"
    },
    "tags": []
   },
   "outputs": [],
   "source": [
    "def artist_embedding_norm(models):\n",
    "    \"\"\"Visualizes the norm and number of ratings of the artist embeddings.\n",
    "    Args:\n",
    "      model: A MFModel object.\n",
    "    \"\"\"\n",
    "    if not isinstance(models, list):\n",
    "        models = [models]\n",
    "    df = df_artists[['Name', 'TopTag', 'FanCount']]\n",
    "    charts = []\n",
    "    brush = alt.selection_interval()\n",
    "    for i, model in enumerate(models):\n",
    "        norm_key = \"norm\" + str(i)\n",
    "        df[norm_key] = np.linalg.norm(model.embeddings[\"ArtistId\"], axis=1)\n",
    "        nearest = alt.selection(\n",
    "            type=\"single\",\n",
    "            encodings=[\"x\", \"y\"],\n",
    "            on=\"mouseover\",\n",
    "            nearest=True,\n",
    "            empty=\"none\",\n",
    "        )\n",
    "        base = (\n",
    "            alt.Chart()\n",
    "            .mark_circle()\n",
    "            .encode(\n",
    "                x=\"FanCount\",\n",
    "                y=norm_key,\n",
    "                color=alt.condition(\n",
    "                    brush, alt.value(\"#4c78a8\"), alt.value(\"lightgray\")\n",
    "                ),\n",
    "            )\n",
    "            .properties(selection=nearest)\n",
    "            .add_selection(brush)\n",
    "        )\n",
    "        text = (\n",
    "            alt.Chart()\n",
    "            .mark_text(align=\"center\", dx=5, dy=-5)\n",
    "            .encode(\n",
    "                x=\"FanCount\",\n",
    "                y=norm_key,\n",
    "                text=alt.condition(nearest, \"Name\", alt.value(\"\")),\n",
    "            )\n",
    "        )\n",
    "        charts.append(alt.layer(base, text))\n",
    "    return alt.hconcat(*charts, data=df)\n"
   ]
  },
  {
   "attachments": {},
   "cell_type": "markdown",
   "metadata": {},
   "source": [
    "### Visualize Artist Embedding"
   ]
  },
  {
   "cell_type": "code",
   "execution_count": 78,
   "metadata": {
    "execution": {
     "iopub.execute_input": "2022-12-17T19:39:45.365703Z",
     "iopub.status.busy": "2022-12-17T19:39:45.365181Z",
     "iopub.status.idle": "2022-12-17T19:39:45.489188Z",
     "shell.execute_reply": "2022-12-17T19:39:45.488367Z",
     "shell.execute_reply.started": "2022-12-17T19:39:45.365181Z"
    }
   },
   "outputs": [],
   "source": [
    "tag_filter = alt.selection_multi(fields=['TopTag'])\n",
    "tag_chart = alt.Chart().mark_bar().encode(\n",
    "    x=\"count()\",\n",
    "    y=alt.Y('TopTag'),\n",
    "    color=alt.condition(\n",
    "        tag_filter,\n",
    "        alt.Color(\"Tag:N\"),\n",
    "        alt.value('lightgray'))\n",
    ").properties(height=300, selection=tag_filter)"
   ]
  },
  {
   "cell_type": "code",
   "execution_count": 79,
   "metadata": {
    "execution": {
     "iopub.execute_input": "2022-12-17T19:39:45.491356Z",
     "iopub.status.busy": "2022-12-17T19:39:45.490186Z",
     "iopub.status.idle": "2022-12-17T19:39:45.505181Z",
     "shell.execute_reply": "2022-12-17T19:39:45.504251Z",
     "shell.execute_reply.started": "2022-12-17T19:39:45.491356Z"
    }
   },
   "outputs": [],
   "source": [
    "def visualize_artist_embeddings(data, x, y):\n",
    "  nearest = alt.selection(\n",
    "      type='single', encodings=['x', 'y'], on='mouseover', nearest=True,\n",
    "      empty='none')\n",
    "  base = alt.Chart().mark_circle().encode(\n",
    "      x=x,\n",
    "      y=y,\n",
    "      color=alt.condition(tag_filter, \"TopTag\", alt.value(\"whitesmoke\")),\n",
    "  ).properties(\n",
    "      width=600,\n",
    "      height=600,\n",
    "      selection=nearest)\n",
    "  text = alt.Chart().mark_text(align='left', dx=5, dy=-5).encode(\n",
    "      x=x,\n",
    "      y=y,\n",
    "      text=alt.condition(nearest, 'Name', alt.value('')))\n",
    "  return alt.hconcat(alt.layer(base, text), tag_chart, data=data)"
   ]
  },
  {
   "attachments": {},
   "cell_type": "markdown",
   "metadata": {},
   "source": [
    "### T-SNE Artist Embeddings"
   ]
  },
  {
   "cell_type": "code",
   "execution_count": 80,
   "metadata": {
    "execution": {
     "iopub.execute_input": "2022-12-17T19:39:45.507182Z",
     "iopub.status.busy": "2022-12-17T19:39:45.506189Z",
     "iopub.status.idle": "2022-12-17T19:39:45.521153Z",
     "shell.execute_reply": "2022-12-17T19:39:45.520235Z",
     "shell.execute_reply.started": "2022-12-17T19:39:45.507182Z"
    },
    "tags": []
   },
   "outputs": [],
   "source": [
    "def tsne_artist_embeddings(model):\n",
    "  \"\"\"Visualizes the artist embeddings, projected using t-SNE with Cosine measure.\n",
    "  Args:\n",
    "    model: A MFModel object.\n",
    "  \"\"\"\n",
    "  tsne = sklearn.manifold.TSNE(\n",
    "      n_components=2, perplexity=40, metric='cosine', early_exaggeration=10.0,\n",
    "      init='pca', n_iter=400)\n",
    "\n",
    "  print('Running t-SNE...')\n",
    "  V_proj = tsne.fit_transform(model.embeddings[\"ArtistId\"])\n",
    "  df_artists.loc[:,'x'] = V_proj[:, 0]\n",
    "  df_artists.loc[:,'y'] = V_proj[:, 1]\n",
    "  return visualize_artist_embeddings(df_artists, 'x', 'y')"
   ]
  },
  {
   "attachments": {},
   "cell_type": "markdown",
   "metadata": {},
   "source": [
    "## First Model Run and Evaluation"
   ]
  },
  {
   "cell_type": "code",
   "execution_count": 81,
   "metadata": {
    "execution": {
     "iopub.execute_input": "2022-12-17T19:39:45.522153Z",
     "iopub.status.busy": "2022-12-17T19:39:45.522153Z",
     "iopub.status.idle": "2022-12-17T19:40:03.983545Z",
     "shell.execute_reply": "2022-12-17T19:40:03.982631Z",
     "shell.execute_reply.started": "2022-12-17T19:39:45.522153Z"
    }
   },
   "outputs": [
    {
     "name": "stdout",
     "output_type": "stream",
     "text": [
      " iteration 1000: train_error=212884.703125, test_error=20998804.000000"
     ]
    },
    {
     "data": {
      "text/plain": [
       "[{'train_error': 212884.7, 'test_error': 20998804.0}]"
      ]
     },
     "execution_count": 81,
     "metadata": {},
     "output_type": "execute_result"
    },
    {
     "data": {
      "image/png": "[encoded data removed]",
      "text/plain": [
       "<Figure size 2000x800 with 1 Axes>"
      ]
     },
     "metadata": {},
     "output_type": "display_data"
    }
   ],
   "source": [
    "model = build_model(df_user_artist, embedding_dim=50, init_stddev=0.25)\n",
    "model.train(num_iterations=1000, learning_rate=0.01)\n"
   ]
  },
  {
   "attachments": {},
   "cell_type": "markdown",
   "metadata": {},
   "source": [
    "##### Model evaluations\n",
    "- From the graph above, the model is definitely overfitting and it is not capturing the underlying patterns in the data.\n",
    "- The test error increases while the train error decreases.\n",
    "\n",
    "Let's take a look at the user recommendations below"
   ]
  },
  {
   "cell_type": "code",
   "execution_count": 82,
   "metadata": {
    "execution": {
     "iopub.execute_input": "2022-12-17T19:40:03.984915Z",
     "iopub.status.busy": "2022-12-17T19:40:03.984515Z",
     "iopub.status.idle": "2022-12-17T19:40:04.061514Z",
     "shell.execute_reply": "2022-12-17T19:40:04.060593Z",
     "shell.execute_reply.started": "2022-12-17T19:40:03.984915Z"
    }
   },
   "outputs": [
    {
     "data": {
      "text/html": [
       "<div>\n",
       "<style scoped>\n",
       "    .dataframe tbody tr th:only-of-type {\n",
       "        vertical-align: middle;\n",
       "    }\n",
       "\n",
       "    .dataframe tbody tr th {\n",
       "        vertical-align: top;\n",
       "    }\n",
       "\n",
       "    .dataframe thead th {\n",
       "        text-align: right;\n",
       "    }\n",
       "</style>\n",
       "<table border=\"1\" class=\"dataframe\">\n",
       "  <thead>\n",
       "    <tr style=\"text-align: right;\">\n",
       "      <th></th>\n",
       "      <th>dot score</th>\n",
       "      <th>ArtistId</th>\n",
       "      <th>Name</th>\n",
       "      <th>TopTag</th>\n",
       "      <th>AllTags</th>\n",
       "    </tr>\n",
       "  </thead>\n",
       "  <tbody>\n",
       "    <tr>\n",
       "      <th>469</th>\n",
       "      <td>6000.488</td>\n",
       "      <td>469</td>\n",
       "      <td>Eminem</td>\n",
       "      <td>Rap</td>\n",
       "      <td>[Hip-hop, Rap, Pop, Hip-hop, Rap, HipHop, Rap,...</td>\n",
       "    </tr>\n",
       "    <tr>\n",
       "      <th>7594</th>\n",
       "      <td>5357.874</td>\n",
       "      <td>7594</td>\n",
       "      <td>Bushido</td>\n",
       "      <td>German</td>\n",
       "      <td>[80s, Synthpop, German, Hiphop, German, German]</td>\n",
       "    </tr>\n",
       "    <tr>\n",
       "      <th>695</th>\n",
       "      <td>4440.155</td>\n",
       "      <td>695</td>\n",
       "      <td>Shakira</td>\n",
       "      <td>Pop</td>\n",
       "      <td>[SpecialsTo3mmey, Pop, Rock, Pop, Dance, Rock,...</td>\n",
       "    </tr>\n",
       "    <tr>\n",
       "      <th>66</th>\n",
       "      <td>4334.703</td>\n",
       "      <td>66</td>\n",
       "      <td>Depeche Mode</td>\n",
       "      <td>Electronic</td>\n",
       "      <td>[Electronic, Electronic, Industrial, NewWave, ...</td>\n",
       "    </tr>\n",
       "    <tr>\n",
       "      <th>286</th>\n",
       "      <td>4249.982</td>\n",
       "      <td>286</td>\n",
       "      <td>Christina Aguilera</td>\n",
       "      <td>Pop</td>\n",
       "      <td>[Pop, Legend, Electronic, Pop, Dance, FemaleVo...</td>\n",
       "    </tr>\n",
       "    <tr>\n",
       "      <th>283</th>\n",
       "      <td>4035.331</td>\n",
       "      <td>283</td>\n",
       "      <td>Britney Spears</td>\n",
       "      <td>Pop</td>\n",
       "      <td>[Pop, Dance, Pop, Dance, Rock, Alternative, Se...</td>\n",
       "    </tr>\n",
       "  </tbody>\n",
       "</table>\n",
       "</div>"
      ],
      "text/plain": [
       "      dot score ArtistId                Name      TopTag  \\\n",
       "469    6000.488      469              Eminem         Rap   \n",
       "7594   5357.874     7594             Bushido      German   \n",
       "695    4440.155      695             Shakira         Pop   \n",
       "66     4334.703       66        Depeche Mode  Electronic   \n",
       "286    4249.982      286  Christina Aguilera         Pop   \n",
       "283    4035.331      283      Britney Spears         Pop   \n",
       "\n",
       "                                                AllTags  \n",
       "469   [Hip-hop, Rap, Pop, Hip-hop, Rap, HipHop, Rap,...  \n",
       "7594    [80s, Synthpop, German, Hiphop, German, German]  \n",
       "695   [SpecialsTo3mmey, Pop, Rock, Pop, Dance, Rock,...  \n",
       "66    [Electronic, Electronic, Industrial, NewWave, ...  \n",
       "286   [Pop, Legend, Electronic, Pop, Dance, FemaleVo...  \n",
       "283   [Pop, Dance, Pop, Dance, Rock, Alternative, Se...  "
      ]
     },
     "metadata": {},
     "output_type": "display_data"
    },
    {
     "data": {
      "text/html": [
       "<div>\n",
       "<style scoped>\n",
       "    .dataframe tbody tr th:only-of-type {\n",
       "        vertical-align: middle;\n",
       "    }\n",
       "\n",
       "    .dataframe tbody tr th {\n",
       "        vertical-align: top;\n",
       "    }\n",
       "\n",
       "    .dataframe thead th {\n",
       "        text-align: right;\n",
       "    }\n",
       "</style>\n",
       "<table border=\"1\" class=\"dataframe\">\n",
       "  <thead>\n",
       "    <tr style=\"text-align: right;\">\n",
       "      <th></th>\n",
       "      <th>cosine score</th>\n",
       "      <th>ArtistId</th>\n",
       "      <th>Name</th>\n",
       "      <th>TopTag</th>\n",
       "      <th>AllTags</th>\n",
       "    </tr>\n",
       "  </thead>\n",
       "  <tbody>\n",
       "    <tr>\n",
       "      <th>323</th>\n",
       "      <td>0.919</td>\n",
       "      <td>323</td>\n",
       "      <td>Justin Timberlake</td>\n",
       "      <td>Pop</td>\n",
       "      <td>[Pop, Legend, Pop, Pop, HipHop, Pop, Rnb, Pop,...</td>\n",
       "    </tr>\n",
       "    <tr>\n",
       "      <th>693</th>\n",
       "      <td>0.873</td>\n",
       "      <td>693</td>\n",
       "      <td>Esmée Denters</td>\n",
       "      <td>Rnb</td>\n",
       "      <td>[Rnb, Amazing, Rnb]</td>\n",
       "    </tr>\n",
       "    <tr>\n",
       "      <th>9454</th>\n",
       "      <td>0.784</td>\n",
       "      <td>9454</td>\n",
       "      <td>Absolute Beginner</td>\n",
       "      <td>German</td>\n",
       "      <td>[German, Hiphop]</td>\n",
       "    </tr>\n",
       "    <tr>\n",
       "      <th>9445</th>\n",
       "      <td>0.769</td>\n",
       "      <td>9445</td>\n",
       "      <td>Pyranja</td>\n",
       "      <td>German</td>\n",
       "      <td>[German, SeenLive]</td>\n",
       "    </tr>\n",
       "    <tr>\n",
       "      <th>7594</th>\n",
       "      <td>0.765</td>\n",
       "      <td>7594</td>\n",
       "      <td>Bushido</td>\n",
       "      <td>German</td>\n",
       "      <td>[80s, Synthpop, German, Hiphop, German, German]</td>\n",
       "    </tr>\n",
       "    <tr>\n",
       "      <th>5132</th>\n",
       "      <td>0.762</td>\n",
       "      <td>5132</td>\n",
       "      <td>Falco</td>\n",
       "      <td>80s</td>\n",
       "      <td>[NewWave, 80s, Pop, 80's, 80s, 80sPop, 80s, 80...</td>\n",
       "    </tr>\n",
       "  </tbody>\n",
       "</table>\n",
       "</div>"
      ],
      "text/plain": [
       "      cosine score ArtistId               Name  TopTag  \\\n",
       "323          0.919      323  Justin Timberlake     Pop   \n",
       "693          0.873      693      Esmée Denters     Rnb   \n",
       "9454         0.784     9454  Absolute Beginner  German   \n",
       "9445         0.769     9445            Pyranja  German   \n",
       "7594         0.765     7594            Bushido  German   \n",
       "5132         0.762     5132              Falco     80s   \n",
       "\n",
       "                                                AllTags  \n",
       "323   [Pop, Legend, Pop, Pop, HipHop, Pop, Rnb, Pop,...  \n",
       "693                                 [Rnb, Amazing, Rnb]  \n",
       "9454                                   [German, Hiphop]  \n",
       "9445                                 [German, SeenLive]  \n",
       "7594    [80s, Synthpop, German, Hiphop, German, German]  \n",
       "5132  [NewWave, 80s, Pop, 80's, 80s, 80sPop, 80s, 80...  "
      ]
     },
     "metadata": {},
     "output_type": "display_data"
    }
   ],
   "source": [
    "user_recommendations(model, 'dot', UserId=int(my_user_id1))\n",
    "user_recommendations(model, 'cosine', UserId=int(my_user_id1))"
   ]
  },
  {
   "attachments": {},
   "cell_type": "markdown",
   "metadata": {},
   "source": [
    "##### Male Artists Recommendations\n",
    "*Dot*\n",
    "\n",
    "The top recommendations are very strange, as the preferences were Chris Brown, Justin Timberlake, David Guetta, Kanye West and Drake.\n",
    "It is strange this user Britney Spears or Taylor Swift. This needs to be improved.\n",
    "\n",
    "*Cosine*\n",
    "\n",
    "The cosine scores are more appropriate. Jay Sean an Robin are two artists I also enjoy. However, I don't know who Tarkan is and Justin Timberlake is someone I already listen to."
   ]
  },
  {
   "cell_type": "code",
   "execution_count": 83,
   "metadata": {
    "execution": {
     "iopub.execute_input": "2022-12-17T19:40:04.063511Z",
     "iopub.status.busy": "2022-12-17T19:40:04.062638Z",
     "iopub.status.idle": "2022-12-17T19:40:04.124558Z",
     "shell.execute_reply": "2022-12-17T19:40:04.124558Z",
     "shell.execute_reply.started": "2022-12-17T19:40:04.063511Z"
    }
   },
   "outputs": [
    {
     "data": {
      "text/html": [
       "<div>\n",
       "<style scoped>\n",
       "    .dataframe tbody tr th:only-of-type {\n",
       "        vertical-align: middle;\n",
       "    }\n",
       "\n",
       "    .dataframe tbody tr th {\n",
       "        vertical-align: top;\n",
       "    }\n",
       "\n",
       "    .dataframe thead th {\n",
       "        text-align: right;\n",
       "    }\n",
       "</style>\n",
       "<table border=\"1\" class=\"dataframe\">\n",
       "  <thead>\n",
       "    <tr style=\"text-align: right;\">\n",
       "      <th></th>\n",
       "      <th>dot score</th>\n",
       "      <th>ArtistId</th>\n",
       "      <th>Name</th>\n",
       "      <th>TopTag</th>\n",
       "      <th>AllTags</th>\n",
       "    </tr>\n",
       "  </thead>\n",
       "  <tbody>\n",
       "    <tr>\n",
       "      <th>695</th>\n",
       "      <td>6078.900</td>\n",
       "      <td>695</td>\n",
       "      <td>Shakira</td>\n",
       "      <td>Pop</td>\n",
       "      <td>[SpecialsTo3mmey, Pop, Rock, Pop, Dance, Rock,...</td>\n",
       "    </tr>\n",
       "    <tr>\n",
       "      <th>283</th>\n",
       "      <td>4166.506</td>\n",
       "      <td>283</td>\n",
       "      <td>Britney Spears</td>\n",
       "      <td>Pop</td>\n",
       "      <td>[Pop, Dance, Pop, Dance, Rock, Alternative, Se...</td>\n",
       "    </tr>\n",
       "    <tr>\n",
       "      <th>2528</th>\n",
       "      <td>3570.116</td>\n",
       "      <td>2528</td>\n",
       "      <td>Wanessa</td>\n",
       "      <td>Pop</td>\n",
       "      <td>[Pop, FemaleVocalists, Pop, Dance, PopDance, F...</td>\n",
       "    </tr>\n",
       "    <tr>\n",
       "      <th>289</th>\n",
       "      <td>3485.721</td>\n",
       "      <td>289</td>\n",
       "      <td>Beyoncé</td>\n",
       "      <td>Rnb</td>\n",
       "      <td>[Legend, Rnb, HipHop, Pop, Pop, Legend, Girls,...</td>\n",
       "    </tr>\n",
       "    <tr>\n",
       "      <th>338</th>\n",
       "      <td>3159.124</td>\n",
       "      <td>338</td>\n",
       "      <td>Taylor Swift</td>\n",
       "      <td>FemaleVocalists</td>\n",
       "      <td>[Pop, FemaleVocalists, Pop, Amazing, Awesome, ...</td>\n",
       "    </tr>\n",
       "    <tr>\n",
       "      <th>286</th>\n",
       "      <td>2781.674</td>\n",
       "      <td>286</td>\n",
       "      <td>Christina Aguilera</td>\n",
       "      <td>Pop</td>\n",
       "      <td>[Pop, Legend, Electronic, Pop, Dance, FemaleVo...</td>\n",
       "    </tr>\n",
       "  </tbody>\n",
       "</table>\n",
       "</div>"
      ],
      "text/plain": [
       "      dot score ArtistId                Name           TopTag  \\\n",
       "695    6078.900      695             Shakira              Pop   \n",
       "283    4166.506      283      Britney Spears              Pop   \n",
       "2528   3570.116     2528             Wanessa              Pop   \n",
       "289    3485.721      289             Beyoncé              Rnb   \n",
       "338    3159.124      338        Taylor Swift  FemaleVocalists   \n",
       "286    2781.674      286  Christina Aguilera              Pop   \n",
       "\n",
       "                                                AllTags  \n",
       "695   [SpecialsTo3mmey, Pop, Rock, Pop, Dance, Rock,...  \n",
       "283   [Pop, Dance, Pop, Dance, Rock, Alternative, Se...  \n",
       "2528  [Pop, FemaleVocalists, Pop, Dance, PopDance, F...  \n",
       "289   [Legend, Rnb, HipHop, Pop, Pop, Legend, Girls,...  \n",
       "338   [Pop, FemaleVocalists, Pop, Amazing, Awesome, ...  \n",
       "286   [Pop, Legend, Electronic, Pop, Dance, FemaleVo...  "
      ]
     },
     "metadata": {},
     "output_type": "display_data"
    },
    {
     "data": {
      "text/html": [
       "<div>\n",
       "<style scoped>\n",
       "    .dataframe tbody tr th:only-of-type {\n",
       "        vertical-align: middle;\n",
       "    }\n",
       "\n",
       "    .dataframe tbody tr th {\n",
       "        vertical-align: top;\n",
       "    }\n",
       "\n",
       "    .dataframe thead th {\n",
       "        text-align: right;\n",
       "    }\n",
       "</style>\n",
       "<table border=\"1\" class=\"dataframe\">\n",
       "  <thead>\n",
       "    <tr style=\"text-align: right;\">\n",
       "      <th></th>\n",
       "      <th>cosine score</th>\n",
       "      <th>ArtistId</th>\n",
       "      <th>Name</th>\n",
       "      <th>TopTag</th>\n",
       "      <th>AllTags</th>\n",
       "    </tr>\n",
       "  </thead>\n",
       "  <tbody>\n",
       "    <tr>\n",
       "      <th>316</th>\n",
       "      <td>0.872</td>\n",
       "      <td>316</td>\n",
       "      <td>Ashanti</td>\n",
       "      <td>Rnb</td>\n",
       "      <td>[FemaleVocalists, Rnb, HipHop, FemaleVocalist,...</td>\n",
       "    </tr>\n",
       "    <tr>\n",
       "      <th>6257</th>\n",
       "      <td>0.868</td>\n",
       "      <td>6257</td>\n",
       "      <td>Robin Thicke</td>\n",
       "      <td>Rnb</td>\n",
       "      <td>[SeenLive, Rnb, FemaleVocalist, 00s, American,...</td>\n",
       "    </tr>\n",
       "    <tr>\n",
       "      <th>1587</th>\n",
       "      <td>0.859</td>\n",
       "      <td>1587</td>\n",
       "      <td>Christina Milian</td>\n",
       "      <td>Rnb</td>\n",
       "      <td>[Rnb, Chillout, Amazing, Rnb, FemaleVocalists,...</td>\n",
       "    </tr>\n",
       "    <tr>\n",
       "      <th>4609</th>\n",
       "      <td>0.858</td>\n",
       "      <td>4609</td>\n",
       "      <td>Teairra Mari</td>\n",
       "      <td>Hip-hop</td>\n",
       "      <td>[Hip-hop, Rnb, Pop, Hip-hop, Rap, FemaleVocali...</td>\n",
       "    </tr>\n",
       "    <tr>\n",
       "      <th>4592</th>\n",
       "      <td>0.858</td>\n",
       "      <td>4592</td>\n",
       "      <td>The-Dream</td>\n",
       "      <td>Rnb</td>\n",
       "      <td>[Alternative, Hip-hop, Amazing, Rnb, Rnb]</td>\n",
       "    </tr>\n",
       "    <tr>\n",
       "      <th>2763</th>\n",
       "      <td>0.857</td>\n",
       "      <td>2763</td>\n",
       "      <td>Lenny Kravitz</td>\n",
       "      <td>Rock</td>\n",
       "      <td>[Pop, Funk, Rock, AlternativeRock, Rock, Rock,...</td>\n",
       "    </tr>\n",
       "  </tbody>\n",
       "</table>\n",
       "</div>"
      ],
      "text/plain": [
       "      cosine score ArtistId              Name   TopTag  \\\n",
       "316          0.872      316           Ashanti      Rnb   \n",
       "6257         0.868     6257      Robin Thicke      Rnb   \n",
       "1587         0.859     1587  Christina Milian      Rnb   \n",
       "4609         0.858     4609      Teairra Mari  Hip-hop   \n",
       "4592         0.858     4592         The-Dream      Rnb   \n",
       "2763         0.857     2763     Lenny Kravitz     Rock   \n",
       "\n",
       "                                                AllTags  \n",
       "316   [FemaleVocalists, Rnb, HipHop, FemaleVocalist,...  \n",
       "6257  [SeenLive, Rnb, FemaleVocalist, 00s, American,...  \n",
       "1587  [Rnb, Chillout, Amazing, Rnb, FemaleVocalists,...  \n",
       "4609  [Hip-hop, Rnb, Pop, Hip-hop, Rap, FemaleVocali...  \n",
       "4592          [Alternative, Hip-hop, Amazing, Rnb, Rnb]  \n",
       "2763  [Pop, Funk, Rock, AlternativeRock, Rock, Rock,...  "
      ]
     },
     "metadata": {},
     "output_type": "display_data"
    }
   ],
   "source": [
    "user_recommendations(model, 'dot', UserId=int(my_user_id2))\n",
    "user_recommendations(model, 'cosine', UserId=int(my_user_id2))"
   ]
  },
  {
   "attachments": {},
   "cell_type": "markdown",
   "metadata": {},
   "source": [
    "##### Female Artist Recommendations \n",
    "*Dot*\n",
    "\n",
    "These the user who listens to Beyoncé, Jennifer Lopez, Leona Lewis, Katy Perry and the Black Eyed Peas. The top recommendations are spot on. Shakira, Britney Spears and Taylor Swift are brilliant suggestions.\n",
    "\n",
    "*Cosine*\n",
    "\n",
    "This are not so good. The top artist Lee Ryan has a tag of sad which is the opposite of what the user likes. The user wants to see more uplifting music primary from women. Therefore, Christina Milian is good recommendation but she needs to be higher on the list."
   ]
  },
  {
   "attachments": {},
   "cell_type": "markdown",
   "metadata": {},
   "source": [
    "##### Artist Neighbors\n",
    "Below are neightbors of Kanye West. Lil Wayne is the best example here. Avril Lavigne is a bad recommendation because she produced a different style of pop music."
   ]
  },
  {
   "cell_type": "code",
   "execution_count": 84,
   "metadata": {
    "execution": {
     "iopub.execute_input": "2022-12-17T19:40:04.126719Z",
     "iopub.status.busy": "2022-12-17T19:40:04.126512Z",
     "iopub.status.idle": "2022-12-17T19:40:04.172559Z",
     "shell.execute_reply": "2022-12-17T19:40:04.172559Z",
     "shell.execute_reply.started": "2022-12-17T19:40:04.126719Z"
    }
   },
   "outputs": [
    {
     "name": "stdout",
     "output_type": "stream",
     "text": [
      "Nearest neighbors of : Kanye West.\n",
      "Found more than one matching artist. Other candidates: Kanye West & Jay-Z, Kanye West, Beyoncé & Charlie Wilson, Kanye West feat. Pusha T MpTri.Net, Eminem feat. Drake, Kanye West, Lil Wayne, The-Dream f. Kanye West, Jamie Foxx feat. Kanye West and The-Dream\n"
     ]
    },
    {
     "data": {
      "text/html": [
       "<div>\n",
       "<style scoped>\n",
       "    .dataframe tbody tr th:only-of-type {\n",
       "        vertical-align: middle;\n",
       "    }\n",
       "\n",
       "    .dataframe tbody tr th {\n",
       "        vertical-align: top;\n",
       "    }\n",
       "\n",
       "    .dataframe thead th {\n",
       "        text-align: right;\n",
       "    }\n",
       "</style>\n",
       "<table border=\"1\" class=\"dataframe\">\n",
       "  <thead>\n",
       "    <tr style=\"text-align: right;\">\n",
       "      <th></th>\n",
       "      <th>dot score</th>\n",
       "      <th>Name</th>\n",
       "      <th>TopTag</th>\n",
       "      <th>AllTags</th>\n",
       "    </tr>\n",
       "  </thead>\n",
       "  <tbody>\n",
       "    <tr>\n",
       "      <th>372</th>\n",
       "      <td>21492.125</td>\n",
       "      <td>Evanescence</td>\n",
       "      <td>Rock</td>\n",
       "      <td>[Alternative, GothicRock, Rock, AlternativeRoc...</td>\n",
       "    </tr>\n",
       "    <tr>\n",
       "      <th>83</th>\n",
       "      <td>17889.234</td>\n",
       "      <td>Lady Gaga</td>\n",
       "      <td>Pop</td>\n",
       "      <td>[Pop, Electronic, Pop, Dance, Electronic, Pop,...</td>\n",
       "    </tr>\n",
       "    <tr>\n",
       "      <th>45</th>\n",
       "      <td>16350.589</td>\n",
       "      <td>Duran Duran</td>\n",
       "      <td>80s</td>\n",
       "      <td>[NewWave, 80s, NewWave, 80s, NewWave, SynthPop...</td>\n",
       "    </tr>\n",
       "    <tr>\n",
       "      <th>505</th>\n",
       "      <td>16128.189</td>\n",
       "      <td>U2</td>\n",
       "      <td>Rock</td>\n",
       "      <td>[Pop, Rock, Rock, Awesome, Rock, 80s, Rock, Ro...</td>\n",
       "    </tr>\n",
       "    <tr>\n",
       "      <th>325</th>\n",
       "      <td>14392.098</td>\n",
       "      <td>Kanye West</td>\n",
       "      <td>Hip-hop</td>\n",
       "      <td>[Hip-hop, Rap, Rnb, Rap, HipHop, Favorite, Rap...</td>\n",
       "    </tr>\n",
       "    <tr>\n",
       "      <th>783</th>\n",
       "      <td>13090.000</td>\n",
       "      <td>Thalía</td>\n",
       "      <td>FemaleVocalists</td>\n",
       "      <td>[Electronic, Pop, FemaleVocalist, FemaleVocali...</td>\n",
       "    </tr>\n",
       "  </tbody>\n",
       "</table>\n",
       "</div>"
      ],
      "text/plain": [
       "     dot score         Name           TopTag  \\\n",
       "372  21492.125  Evanescence             Rock   \n",
       "83   17889.234    Lady Gaga              Pop   \n",
       "45   16350.589  Duran Duran              80s   \n",
       "505  16128.189           U2             Rock   \n",
       "325  14392.098   Kanye West          Hip-hop   \n",
       "783  13090.000       Thalía  FemaleVocalists   \n",
       "\n",
       "                                               AllTags  \n",
       "372  [Alternative, GothicRock, Rock, AlternativeRoc...  \n",
       "83   [Pop, Electronic, Pop, Dance, Electronic, Pop,...  \n",
       "45   [NewWave, 80s, NewWave, 80s, NewWave, SynthPop...  \n",
       "505  [Pop, Rock, Rock, Awesome, Rock, 80s, Rock, Ro...  \n",
       "325  [Hip-hop, Rap, Rnb, Rap, HipHop, Favorite, Rap...  \n",
       "783  [Electronic, Pop, FemaleVocalist, FemaleVocali...  "
      ]
     },
     "metadata": {},
     "output_type": "display_data"
    }
   ],
   "source": [
    "artist_neighbors(model)"
   ]
  },
  {
   "attachments": {},
   "cell_type": "markdown",
   "metadata": {},
   "source": [
    "##### Artist Embeddings\n",
    "- The FanCount or popularity of an artist is slightly correlated with the embedding norm"
   ]
  },
  {
   "cell_type": "code",
   "execution_count": 85,
   "metadata": {
    "execution": {
     "iopub.execute_input": "2022-12-17T19:40:04.174714Z",
     "iopub.status.busy": "2022-12-17T19:40:04.174714Z",
     "iopub.status.idle": "2022-12-17T19:40:04.735557Z",
     "shell.execute_reply": "2022-12-17T19:40:04.734940Z",
     "shell.execute_reply.started": "2022-12-17T19:40:04.174714Z"
    }
   },
   "outputs": [
    {
     "ename": "MaxRowsError",
     "evalue": "The number of rows in your dataset is greater than the maximum allowed (5000). For information on how to plot larger datasets in Altair, see the documentation",
     "output_type": "error",
     "traceback": [
      "\u001b[1;31m---------------------------------------------------------------------------\u001b[0m",
      "\u001b[1;31mMaxRowsError\u001b[0m                              Traceback (most recent call last)",
      "File \u001b[1;32mc:\\Users\\Diarmuid\\anaconda3\\envs\\RecSys\\lib\\site-packages\\altair\\vegalite\\v4\\api.py:374\u001b[0m, in \u001b[0;36mTopLevelMixin.to_dict\u001b[1;34m(self, *args, **kwargs)\u001b[0m\n\u001b[0;32m    372\u001b[0m copy \u001b[38;5;241m=\u001b[39m \u001b[38;5;28mself\u001b[39m\u001b[38;5;241m.\u001b[39mcopy(deep\u001b[38;5;241m=\u001b[39m\u001b[38;5;28;01mFalse\u001b[39;00m)\n\u001b[0;32m    373\u001b[0m original_data \u001b[38;5;241m=\u001b[39m \u001b[38;5;28mgetattr\u001b[39m(copy, \u001b[38;5;124m\"\u001b[39m\u001b[38;5;124mdata\u001b[39m\u001b[38;5;124m\"\u001b[39m, Undefined)\n\u001b[1;32m--> 374\u001b[0m copy\u001b[38;5;241m.\u001b[39mdata \u001b[38;5;241m=\u001b[39m \u001b[43m_prepare_data\u001b[49m\u001b[43m(\u001b[49m\u001b[43moriginal_data\u001b[49m\u001b[43m,\u001b[49m\u001b[43m \u001b[49m\u001b[43mcontext\u001b[49m\u001b[43m)\u001b[49m\n\u001b[0;32m    376\u001b[0m \u001b[38;5;28;01mif\u001b[39;00m original_data \u001b[38;5;129;01mis\u001b[39;00m \u001b[38;5;129;01mnot\u001b[39;00m Undefined:\n\u001b[0;32m    377\u001b[0m     context[\u001b[38;5;124m\"\u001b[39m\u001b[38;5;124mdata\u001b[39m\u001b[38;5;124m\"\u001b[39m] \u001b[38;5;241m=\u001b[39m original_data\n",
      "File \u001b[1;32mc:\\Users\\Diarmuid\\anaconda3\\envs\\RecSys\\lib\\site-packages\\altair\\vegalite\\v4\\api.py:89\u001b[0m, in \u001b[0;36m_prepare_data\u001b[1;34m(data, context)\u001b[0m\n\u001b[0;32m     87\u001b[0m \u001b[38;5;66;03m# convert dataframes  or objects with __geo_interface__ to dict\u001b[39;00m\n\u001b[0;32m     88\u001b[0m \u001b[38;5;28;01mif\u001b[39;00m \u001b[38;5;28misinstance\u001b[39m(data, pd\u001b[38;5;241m.\u001b[39mDataFrame) \u001b[38;5;129;01mor\u001b[39;00m \u001b[38;5;28mhasattr\u001b[39m(data, \u001b[38;5;124m\"\u001b[39m\u001b[38;5;124m__geo_interface__\u001b[39m\u001b[38;5;124m\"\u001b[39m):\n\u001b[1;32m---> 89\u001b[0m     data \u001b[38;5;241m=\u001b[39m \u001b[43m_pipe\u001b[49m\u001b[43m(\u001b[49m\u001b[43mdata\u001b[49m\u001b[43m,\u001b[49m\u001b[43m \u001b[49m\u001b[43mdata_transformers\u001b[49m\u001b[38;5;241;43m.\u001b[39;49m\u001b[43mget\u001b[49m\u001b[43m(\u001b[49m\u001b[43m)\u001b[49m\u001b[43m)\u001b[49m\n\u001b[0;32m     91\u001b[0m \u001b[38;5;66;03m# convert string input to a URLData\u001b[39;00m\n\u001b[0;32m     92\u001b[0m \u001b[38;5;28;01mif\u001b[39;00m \u001b[38;5;28misinstance\u001b[39m(data, \u001b[38;5;28mstr\u001b[39m):\n",
      "File \u001b[1;32mc:\\Users\\Diarmuid\\anaconda3\\envs\\RecSys\\lib\\site-packages\\toolz\\functoolz.py:628\u001b[0m, in \u001b[0;36mpipe\u001b[1;34m(data, *funcs)\u001b[0m\n\u001b[0;32m    608\u001b[0m \u001b[38;5;124;03m\"\"\" Pipe a value through a sequence of functions\u001b[39;00m\n\u001b[0;32m    609\u001b[0m \n\u001b[0;32m    610\u001b[0m \u001b[38;5;124;03mI.e. ``pipe(data, f, g, h)`` is equivalent to ``h(g(f(data)))``\u001b[39;00m\n\u001b[1;32m   (...)\u001b[0m\n\u001b[0;32m    625\u001b[0m \u001b[38;5;124;03m    thread_last\u001b[39;00m\n\u001b[0;32m    626\u001b[0m \u001b[38;5;124;03m\"\"\"\u001b[39;00m\n\u001b[0;32m    627\u001b[0m \u001b[38;5;28;01mfor\u001b[39;00m func \u001b[38;5;129;01min\u001b[39;00m funcs:\n\u001b[1;32m--> 628\u001b[0m     data \u001b[38;5;241m=\u001b[39m \u001b[43mfunc\u001b[49m\u001b[43m(\u001b[49m\u001b[43mdata\u001b[49m\u001b[43m)\u001b[49m\n\u001b[0;32m    629\u001b[0m \u001b[38;5;28;01mreturn\u001b[39;00m data\n",
      "File \u001b[1;32mc:\\Users\\Diarmuid\\anaconda3\\envs\\RecSys\\lib\\site-packages\\toolz\\functoolz.py:304\u001b[0m, in \u001b[0;36mcurry.__call__\u001b[1;34m(self, *args, **kwargs)\u001b[0m\n\u001b[0;32m    302\u001b[0m \u001b[38;5;28;01mdef\u001b[39;00m \u001b[38;5;21m__call__\u001b[39m(\u001b[38;5;28mself\u001b[39m, \u001b[38;5;241m*\u001b[39margs, \u001b[38;5;241m*\u001b[39m\u001b[38;5;241m*\u001b[39mkwargs):\n\u001b[0;32m    303\u001b[0m     \u001b[38;5;28;01mtry\u001b[39;00m:\n\u001b[1;32m--> 304\u001b[0m         \u001b[38;5;28;01mreturn\u001b[39;00m \u001b[38;5;28mself\u001b[39m\u001b[38;5;241m.\u001b[39m_partial(\u001b[38;5;241m*\u001b[39margs, \u001b[38;5;241m*\u001b[39m\u001b[38;5;241m*\u001b[39mkwargs)\n\u001b[0;32m    305\u001b[0m     \u001b[38;5;28;01mexcept\u001b[39;00m \u001b[38;5;167;01mTypeError\u001b[39;00m \u001b[38;5;28;01mas\u001b[39;00m exc:\n\u001b[0;32m    306\u001b[0m         \u001b[38;5;28;01mif\u001b[39;00m \u001b[38;5;28mself\u001b[39m\u001b[38;5;241m.\u001b[39m_should_curry(args, kwargs, exc):\n",
      "File \u001b[1;32mc:\\Users\\Diarmuid\\anaconda3\\envs\\RecSys\\lib\\site-packages\\altair\\vegalite\\data.py:19\u001b[0m, in \u001b[0;36mdefault_data_transformer\u001b[1;34m(data, max_rows)\u001b[0m\n\u001b[0;32m     17\u001b[0m \u001b[38;5;129m@curried\u001b[39m\u001b[38;5;241m.\u001b[39mcurry\n\u001b[0;32m     18\u001b[0m \u001b[38;5;28;01mdef\u001b[39;00m \u001b[38;5;21mdefault_data_transformer\u001b[39m(data, max_rows\u001b[38;5;241m=\u001b[39m\u001b[38;5;241m5000\u001b[39m):\n\u001b[1;32m---> 19\u001b[0m     \u001b[38;5;28;01mreturn\u001b[39;00m \u001b[43mcurried\u001b[49m\u001b[38;5;241;43m.\u001b[39;49m\u001b[43mpipe\u001b[49m\u001b[43m(\u001b[49m\u001b[43mdata\u001b[49m\u001b[43m,\u001b[49m\u001b[43m \u001b[49m\u001b[43mlimit_rows\u001b[49m\u001b[43m(\u001b[49m\u001b[43mmax_rows\u001b[49m\u001b[38;5;241;43m=\u001b[39;49m\u001b[43mmax_rows\u001b[49m\u001b[43m)\u001b[49m\u001b[43m,\u001b[49m\u001b[43m \u001b[49m\u001b[43mto_values\u001b[49m\u001b[43m)\u001b[49m\n",
      "File \u001b[1;32mc:\\Users\\Diarmuid\\anaconda3\\envs\\RecSys\\lib\\site-packages\\toolz\\functoolz.py:628\u001b[0m, in \u001b[0;36mpipe\u001b[1;34m(data, *funcs)\u001b[0m\n\u001b[0;32m    608\u001b[0m \u001b[38;5;124;03m\"\"\" Pipe a value through a sequence of functions\u001b[39;00m\n\u001b[0;32m    609\u001b[0m \n\u001b[0;32m    610\u001b[0m \u001b[38;5;124;03mI.e. ``pipe(data, f, g, h)`` is equivalent to ``h(g(f(data)))``\u001b[39;00m\n\u001b[1;32m   (...)\u001b[0m\n\u001b[0;32m    625\u001b[0m \u001b[38;5;124;03m    thread_last\u001b[39;00m\n\u001b[0;32m    626\u001b[0m \u001b[38;5;124;03m\"\"\"\u001b[39;00m\n\u001b[0;32m    627\u001b[0m \u001b[38;5;28;01mfor\u001b[39;00m func \u001b[38;5;129;01min\u001b[39;00m funcs:\n\u001b[1;32m--> 628\u001b[0m     data \u001b[38;5;241m=\u001b[39m \u001b[43mfunc\u001b[49m\u001b[43m(\u001b[49m\u001b[43mdata\u001b[49m\u001b[43m)\u001b[49m\n\u001b[0;32m    629\u001b[0m \u001b[38;5;28;01mreturn\u001b[39;00m data\n",
      "File \u001b[1;32mc:\\Users\\Diarmuid\\anaconda3\\envs\\RecSys\\lib\\site-packages\\toolz\\functoolz.py:304\u001b[0m, in \u001b[0;36mcurry.__call__\u001b[1;34m(self, *args, **kwargs)\u001b[0m\n\u001b[0;32m    302\u001b[0m \u001b[38;5;28;01mdef\u001b[39;00m \u001b[38;5;21m__call__\u001b[39m(\u001b[38;5;28mself\u001b[39m, \u001b[38;5;241m*\u001b[39margs, \u001b[38;5;241m*\u001b[39m\u001b[38;5;241m*\u001b[39mkwargs):\n\u001b[0;32m    303\u001b[0m     \u001b[38;5;28;01mtry\u001b[39;00m:\n\u001b[1;32m--> 304\u001b[0m         \u001b[38;5;28;01mreturn\u001b[39;00m \u001b[38;5;28mself\u001b[39m\u001b[38;5;241m.\u001b[39m_partial(\u001b[38;5;241m*\u001b[39margs, \u001b[38;5;241m*\u001b[39m\u001b[38;5;241m*\u001b[39mkwargs)\n\u001b[0;32m    305\u001b[0m     \u001b[38;5;28;01mexcept\u001b[39;00m \u001b[38;5;167;01mTypeError\u001b[39;00m \u001b[38;5;28;01mas\u001b[39;00m exc:\n\u001b[0;32m    306\u001b[0m         \u001b[38;5;28;01mif\u001b[39;00m \u001b[38;5;28mself\u001b[39m\u001b[38;5;241m.\u001b[39m_should_curry(args, kwargs, exc):\n",
      "File \u001b[1;32mc:\\Users\\Diarmuid\\anaconda3\\envs\\RecSys\\lib\\site-packages\\altair\\utils\\data.py:80\u001b[0m, in \u001b[0;36mlimit_rows\u001b[1;34m(data, max_rows)\u001b[0m\n\u001b[0;32m     78\u001b[0m         \u001b[38;5;28;01mreturn\u001b[39;00m data\n\u001b[0;32m     79\u001b[0m \u001b[38;5;28;01mif\u001b[39;00m max_rows \u001b[38;5;129;01mis\u001b[39;00m \u001b[38;5;129;01mnot\u001b[39;00m \u001b[38;5;28;01mNone\u001b[39;00m \u001b[38;5;129;01mand\u001b[39;00m \u001b[38;5;28mlen\u001b[39m(values) \u001b[38;5;241m>\u001b[39m max_rows:\n\u001b[1;32m---> 80\u001b[0m     \u001b[38;5;28;01mraise\u001b[39;00m MaxRowsError(\n\u001b[0;32m     81\u001b[0m         \u001b[38;5;124m\"\u001b[39m\u001b[38;5;124mThe number of rows in your dataset is greater \u001b[39m\u001b[38;5;124m\"\u001b[39m\n\u001b[0;32m     82\u001b[0m         \u001b[38;5;124m\"\u001b[39m\u001b[38;5;124mthan the maximum allowed (\u001b[39m\u001b[38;5;132;01m{}\u001b[39;00m\u001b[38;5;124m). \u001b[39m\u001b[38;5;124m\"\u001b[39m\n\u001b[0;32m     83\u001b[0m         \u001b[38;5;124m\"\u001b[39m\u001b[38;5;124mFor information on how to plot larger datasets \u001b[39m\u001b[38;5;124m\"\u001b[39m\n\u001b[0;32m     84\u001b[0m         \u001b[38;5;124m\"\u001b[39m\u001b[38;5;124min Altair, see the documentation\u001b[39m\u001b[38;5;124m\"\u001b[39m\u001b[38;5;241m.\u001b[39mformat(max_rows)\n\u001b[0;32m     85\u001b[0m     )\n\u001b[0;32m     86\u001b[0m \u001b[38;5;28;01mreturn\u001b[39;00m data\n",
      "\u001b[1;31mMaxRowsError\u001b[0m: The number of rows in your dataset is greater than the maximum allowed (5000). For information on how to plot larger datasets in Altair, see the documentation"
     ]
    },
    {
     "data": {
      "text/plain": [
       "alt.HConcatChart(...)"
      ]
     },
     "execution_count": 85,
     "metadata": {},
     "output_type": "execute_result"
    }
   ],
   "source": [
    "artist_embedding_norm(model)"
   ]
  },
  {
   "attachments": {},
   "cell_type": "markdown",
   "metadata": {},
   "source": [
    "##### t-SNE Embeddings"
   ]
  },
  {
   "cell_type": "code",
   "execution_count": 86,
   "metadata": {
    "execution": {
     "iopub.execute_input": "2022-12-17T19:40:04.737626Z",
     "iopub.status.busy": "2022-12-17T19:40:04.736557Z",
     "iopub.status.idle": "2022-12-17T19:41:34.178001Z",
     "shell.execute_reply": "2022-12-17T19:41:34.176999Z",
     "shell.execute_reply.started": "2022-12-17T19:40:04.737626Z"
    }
   },
   "outputs": [
    {
     "name": "stdout",
     "output_type": "stream",
     "text": [
      "Running t-SNE...\n"
     ]
    },
    {
     "ename": "MaxRowsError",
     "evalue": "The number of rows in your dataset is greater than the maximum allowed (5000). For information on how to plot larger datasets in Altair, see the documentation",
     "output_type": "error",
     "traceback": [
      "\u001b[1;31m---------------------------------------------------------------------------\u001b[0m",
      "\u001b[1;31mMaxRowsError\u001b[0m                              Traceback (most recent call last)",
      "File \u001b[1;32mc:\\Users\\Diarmuid\\anaconda3\\envs\\RecSys\\lib\\site-packages\\altair\\vegalite\\v4\\api.py:374\u001b[0m, in \u001b[0;36mTopLevelMixin.to_dict\u001b[1;34m(self, *args, **kwargs)\u001b[0m\n\u001b[0;32m    372\u001b[0m copy \u001b[38;5;241m=\u001b[39m \u001b[38;5;28mself\u001b[39m\u001b[38;5;241m.\u001b[39mcopy(deep\u001b[38;5;241m=\u001b[39m\u001b[38;5;28;01mFalse\u001b[39;00m)\n\u001b[0;32m    373\u001b[0m original_data \u001b[38;5;241m=\u001b[39m \u001b[38;5;28mgetattr\u001b[39m(copy, \u001b[38;5;124m\"\u001b[39m\u001b[38;5;124mdata\u001b[39m\u001b[38;5;124m\"\u001b[39m, Undefined)\n\u001b[1;32m--> 374\u001b[0m copy\u001b[38;5;241m.\u001b[39mdata \u001b[38;5;241m=\u001b[39m \u001b[43m_prepare_data\u001b[49m\u001b[43m(\u001b[49m\u001b[43moriginal_data\u001b[49m\u001b[43m,\u001b[49m\u001b[43m \u001b[49m\u001b[43mcontext\u001b[49m\u001b[43m)\u001b[49m\n\u001b[0;32m    376\u001b[0m \u001b[38;5;28;01mif\u001b[39;00m original_data \u001b[38;5;129;01mis\u001b[39;00m \u001b[38;5;129;01mnot\u001b[39;00m Undefined:\n\u001b[0;32m    377\u001b[0m     context[\u001b[38;5;124m\"\u001b[39m\u001b[38;5;124mdata\u001b[39m\u001b[38;5;124m\"\u001b[39m] \u001b[38;5;241m=\u001b[39m original_data\n",
      "File \u001b[1;32mc:\\Users\\Diarmuid\\anaconda3\\envs\\RecSys\\lib\\site-packages\\altair\\vegalite\\v4\\api.py:89\u001b[0m, in \u001b[0;36m_prepare_data\u001b[1;34m(data, context)\u001b[0m\n\u001b[0;32m     87\u001b[0m \u001b[38;5;66;03m# convert dataframes  or objects with __geo_interface__ to dict\u001b[39;00m\n\u001b[0;32m     88\u001b[0m \u001b[38;5;28;01mif\u001b[39;00m \u001b[38;5;28misinstance\u001b[39m(data, pd\u001b[38;5;241m.\u001b[39mDataFrame) \u001b[38;5;129;01mor\u001b[39;00m \u001b[38;5;28mhasattr\u001b[39m(data, \u001b[38;5;124m\"\u001b[39m\u001b[38;5;124m__geo_interface__\u001b[39m\u001b[38;5;124m\"\u001b[39m):\n\u001b[1;32m---> 89\u001b[0m     data \u001b[38;5;241m=\u001b[39m \u001b[43m_pipe\u001b[49m\u001b[43m(\u001b[49m\u001b[43mdata\u001b[49m\u001b[43m,\u001b[49m\u001b[43m \u001b[49m\u001b[43mdata_transformers\u001b[49m\u001b[38;5;241;43m.\u001b[39;49m\u001b[43mget\u001b[49m\u001b[43m(\u001b[49m\u001b[43m)\u001b[49m\u001b[43m)\u001b[49m\n\u001b[0;32m     91\u001b[0m \u001b[38;5;66;03m# convert string input to a URLData\u001b[39;00m\n\u001b[0;32m     92\u001b[0m \u001b[38;5;28;01mif\u001b[39;00m \u001b[38;5;28misinstance\u001b[39m(data, \u001b[38;5;28mstr\u001b[39m):\n",
      "File \u001b[1;32mc:\\Users\\Diarmuid\\anaconda3\\envs\\RecSys\\lib\\site-packages\\toolz\\functoolz.py:628\u001b[0m, in \u001b[0;36mpipe\u001b[1;34m(data, *funcs)\u001b[0m\n\u001b[0;32m    608\u001b[0m \u001b[38;5;124;03m\"\"\" Pipe a value through a sequence of functions\u001b[39;00m\n\u001b[0;32m    609\u001b[0m \n\u001b[0;32m    610\u001b[0m \u001b[38;5;124;03mI.e. ``pipe(data, f, g, h)`` is equivalent to ``h(g(f(data)))``\u001b[39;00m\n\u001b[1;32m   (...)\u001b[0m\n\u001b[0;32m    625\u001b[0m \u001b[38;5;124;03m    thread_last\u001b[39;00m\n\u001b[0;32m    626\u001b[0m \u001b[38;5;124;03m\"\"\"\u001b[39;00m\n\u001b[0;32m    627\u001b[0m \u001b[38;5;28;01mfor\u001b[39;00m func \u001b[38;5;129;01min\u001b[39;00m funcs:\n\u001b[1;32m--> 628\u001b[0m     data \u001b[38;5;241m=\u001b[39m \u001b[43mfunc\u001b[49m\u001b[43m(\u001b[49m\u001b[43mdata\u001b[49m\u001b[43m)\u001b[49m\n\u001b[0;32m    629\u001b[0m \u001b[38;5;28;01mreturn\u001b[39;00m data\n",
      "File \u001b[1;32mc:\\Users\\Diarmuid\\anaconda3\\envs\\RecSys\\lib\\site-packages\\toolz\\functoolz.py:304\u001b[0m, in \u001b[0;36mcurry.__call__\u001b[1;34m(self, *args, **kwargs)\u001b[0m\n\u001b[0;32m    302\u001b[0m \u001b[38;5;28;01mdef\u001b[39;00m \u001b[38;5;21m__call__\u001b[39m(\u001b[38;5;28mself\u001b[39m, \u001b[38;5;241m*\u001b[39margs, \u001b[38;5;241m*\u001b[39m\u001b[38;5;241m*\u001b[39mkwargs):\n\u001b[0;32m    303\u001b[0m     \u001b[38;5;28;01mtry\u001b[39;00m:\n\u001b[1;32m--> 304\u001b[0m         \u001b[38;5;28;01mreturn\u001b[39;00m \u001b[38;5;28mself\u001b[39m\u001b[38;5;241m.\u001b[39m_partial(\u001b[38;5;241m*\u001b[39margs, \u001b[38;5;241m*\u001b[39m\u001b[38;5;241m*\u001b[39mkwargs)\n\u001b[0;32m    305\u001b[0m     \u001b[38;5;28;01mexcept\u001b[39;00m \u001b[38;5;167;01mTypeError\u001b[39;00m \u001b[38;5;28;01mas\u001b[39;00m exc:\n\u001b[0;32m    306\u001b[0m         \u001b[38;5;28;01mif\u001b[39;00m \u001b[38;5;28mself\u001b[39m\u001b[38;5;241m.\u001b[39m_should_curry(args, kwargs, exc):\n",
      "File \u001b[1;32mc:\\Users\\Diarmuid\\anaconda3\\envs\\RecSys\\lib\\site-packages\\altair\\vegalite\\data.py:19\u001b[0m, in \u001b[0;36mdefault_data_transformer\u001b[1;34m(data, max_rows)\u001b[0m\n\u001b[0;32m     17\u001b[0m \u001b[38;5;129m@curried\u001b[39m\u001b[38;5;241m.\u001b[39mcurry\n\u001b[0;32m     18\u001b[0m \u001b[38;5;28;01mdef\u001b[39;00m \u001b[38;5;21mdefault_data_transformer\u001b[39m(data, max_rows\u001b[38;5;241m=\u001b[39m\u001b[38;5;241m5000\u001b[39m):\n\u001b[1;32m---> 19\u001b[0m     \u001b[38;5;28;01mreturn\u001b[39;00m \u001b[43mcurried\u001b[49m\u001b[38;5;241;43m.\u001b[39;49m\u001b[43mpipe\u001b[49m\u001b[43m(\u001b[49m\u001b[43mdata\u001b[49m\u001b[43m,\u001b[49m\u001b[43m \u001b[49m\u001b[43mlimit_rows\u001b[49m\u001b[43m(\u001b[49m\u001b[43mmax_rows\u001b[49m\u001b[38;5;241;43m=\u001b[39;49m\u001b[43mmax_rows\u001b[49m\u001b[43m)\u001b[49m\u001b[43m,\u001b[49m\u001b[43m \u001b[49m\u001b[43mto_values\u001b[49m\u001b[43m)\u001b[49m\n",
      "File \u001b[1;32mc:\\Users\\Diarmuid\\anaconda3\\envs\\RecSys\\lib\\site-packages\\toolz\\functoolz.py:628\u001b[0m, in \u001b[0;36mpipe\u001b[1;34m(data, *funcs)\u001b[0m\n\u001b[0;32m    608\u001b[0m \u001b[38;5;124;03m\"\"\" Pipe a value through a sequence of functions\u001b[39;00m\n\u001b[0;32m    609\u001b[0m \n\u001b[0;32m    610\u001b[0m \u001b[38;5;124;03mI.e. ``pipe(data, f, g, h)`` is equivalent to ``h(g(f(data)))``\u001b[39;00m\n\u001b[1;32m   (...)\u001b[0m\n\u001b[0;32m    625\u001b[0m \u001b[38;5;124;03m    thread_last\u001b[39;00m\n\u001b[0;32m    626\u001b[0m \u001b[38;5;124;03m\"\"\"\u001b[39;00m\n\u001b[0;32m    627\u001b[0m \u001b[38;5;28;01mfor\u001b[39;00m func \u001b[38;5;129;01min\u001b[39;00m funcs:\n\u001b[1;32m--> 628\u001b[0m     data \u001b[38;5;241m=\u001b[39m \u001b[43mfunc\u001b[49m\u001b[43m(\u001b[49m\u001b[43mdata\u001b[49m\u001b[43m)\u001b[49m\n\u001b[0;32m    629\u001b[0m \u001b[38;5;28;01mreturn\u001b[39;00m data\n",
      "File \u001b[1;32mc:\\Users\\Diarmuid\\anaconda3\\envs\\RecSys\\lib\\site-packages\\toolz\\functoolz.py:304\u001b[0m, in \u001b[0;36mcurry.__call__\u001b[1;34m(self, *args, **kwargs)\u001b[0m\n\u001b[0;32m    302\u001b[0m \u001b[38;5;28;01mdef\u001b[39;00m \u001b[38;5;21m__call__\u001b[39m(\u001b[38;5;28mself\u001b[39m, \u001b[38;5;241m*\u001b[39margs, \u001b[38;5;241m*\u001b[39m\u001b[38;5;241m*\u001b[39mkwargs):\n\u001b[0;32m    303\u001b[0m     \u001b[38;5;28;01mtry\u001b[39;00m:\n\u001b[1;32m--> 304\u001b[0m         \u001b[38;5;28;01mreturn\u001b[39;00m \u001b[38;5;28mself\u001b[39m\u001b[38;5;241m.\u001b[39m_partial(\u001b[38;5;241m*\u001b[39margs, \u001b[38;5;241m*\u001b[39m\u001b[38;5;241m*\u001b[39mkwargs)\n\u001b[0;32m    305\u001b[0m     \u001b[38;5;28;01mexcept\u001b[39;00m \u001b[38;5;167;01mTypeError\u001b[39;00m \u001b[38;5;28;01mas\u001b[39;00m exc:\n\u001b[0;32m    306\u001b[0m         \u001b[38;5;28;01mif\u001b[39;00m \u001b[38;5;28mself\u001b[39m\u001b[38;5;241m.\u001b[39m_should_curry(args, kwargs, exc):\n",
      "File \u001b[1;32mc:\\Users\\Diarmuid\\anaconda3\\envs\\RecSys\\lib\\site-packages\\altair\\utils\\data.py:80\u001b[0m, in \u001b[0;36mlimit_rows\u001b[1;34m(data, max_rows)\u001b[0m\n\u001b[0;32m     78\u001b[0m         \u001b[38;5;28;01mreturn\u001b[39;00m data\n\u001b[0;32m     79\u001b[0m \u001b[38;5;28;01mif\u001b[39;00m max_rows \u001b[38;5;129;01mis\u001b[39;00m \u001b[38;5;129;01mnot\u001b[39;00m \u001b[38;5;28;01mNone\u001b[39;00m \u001b[38;5;129;01mand\u001b[39;00m \u001b[38;5;28mlen\u001b[39m(values) \u001b[38;5;241m>\u001b[39m max_rows:\n\u001b[1;32m---> 80\u001b[0m     \u001b[38;5;28;01mraise\u001b[39;00m MaxRowsError(\n\u001b[0;32m     81\u001b[0m         \u001b[38;5;124m\"\u001b[39m\u001b[38;5;124mThe number of rows in your dataset is greater \u001b[39m\u001b[38;5;124m\"\u001b[39m\n\u001b[0;32m     82\u001b[0m         \u001b[38;5;124m\"\u001b[39m\u001b[38;5;124mthan the maximum allowed (\u001b[39m\u001b[38;5;132;01m{}\u001b[39;00m\u001b[38;5;124m). \u001b[39m\u001b[38;5;124m\"\u001b[39m\n\u001b[0;32m     83\u001b[0m         \u001b[38;5;124m\"\u001b[39m\u001b[38;5;124mFor information on how to plot larger datasets \u001b[39m\u001b[38;5;124m\"\u001b[39m\n\u001b[0;32m     84\u001b[0m         \u001b[38;5;124m\"\u001b[39m\u001b[38;5;124min Altair, see the documentation\u001b[39m\u001b[38;5;124m\"\u001b[39m\u001b[38;5;241m.\u001b[39mformat(max_rows)\n\u001b[0;32m     85\u001b[0m     )\n\u001b[0;32m     86\u001b[0m \u001b[38;5;28;01mreturn\u001b[39;00m data\n",
      "\u001b[1;31mMaxRowsError\u001b[0m: The number of rows in your dataset is greater than the maximum allowed (5000). For information on how to plot larger datasets in Altair, see the documentation"
     ]
    },
    {
     "data": {
      "text/plain": [
       "alt.HConcatChart(...)"
      ]
     },
     "execution_count": 86,
     "metadata": {},
     "output_type": "execute_result"
    }
   ],
   "source": [
    "tsne_artist_embeddings(model)"
   ]
  },
  {
   "attachments": {},
   "cell_type": "markdown",
   "metadata": {
    "tags": []
   },
   "source": [
    "## Regularization Functions\n",
    "- To regularize the model we will use a gravity function"
   ]
  },
  {
   "attachments": {},
   "cell_type": "markdown",
   "metadata": {},
   "source": [
    "### Gravity\n"
   ]
  },
  {
   "cell_type": "code",
   "execution_count": 87,
   "metadata": {
    "execution": {
     "iopub.execute_input": "2022-12-17T19:41:34.179461Z",
     "iopub.status.busy": "2022-12-17T19:41:34.179002Z",
     "iopub.status.idle": "2022-12-17T19:41:34.194002Z",
     "shell.execute_reply": "2022-12-17T19:41:34.193079Z",
     "shell.execute_reply.started": "2022-12-17T19:41:34.179461Z"
    }
   },
   "outputs": [],
   "source": [
    "def gravity(U, V):\n",
    "    \"\"\"Creates a gravity loss given two embedding matrices.\"\"\"\n",
    "    return 1. / (U.shape[0].value*V.shape[0].value) * tf.reduce_sum(\n",
    "        tf.matmul(U, U, transpose_a=True) * tf.matmul(V, V, transpose_a=True))"
   ]
  },
  {
   "attachments": {},
   "cell_type": "markdown",
   "metadata": {},
   "source": [
    "### Build Regularized Model"
   ]
  },
  {
   "cell_type": "code",
   "execution_count": 88,
   "metadata": {
    "execution": {
     "iopub.execute_input": "2022-12-17T19:41:34.195192Z",
     "iopub.status.busy": "2022-12-17T19:41:34.195192Z",
     "iopub.status.idle": "2022-12-17T19:41:34.209002Z",
     "shell.execute_reply": "2022-12-17T19:41:34.208081Z",
     "shell.execute_reply.started": "2022-12-17T19:41:34.195192Z"
    }
   },
   "outputs": [],
   "source": [
    "def build_regularized_model(\n",
    "    ratings,\n",
    "    embedding_dim=3,\n",
    "    regularization_coeff=0.1,\n",
    "    gravity_coeff=1.0,\n",
    "    init_stddev=0.1,\n",
    "):\n",
    "    \"\"\"\n",
    "    Args:\n",
    "      ratings: the DataFrame of artist ratings.\n",
    "      embedding_dim: The dimension of the embedding space.\n",
    "      regularization_coeff: The regularization coefficient lambda.\n",
    "      gravity_coeff: The gravity regularization coefficient lambda_g.\n",
    "    Returns:\n",
    "      A CFModel object that uses a regularized loss.\n",
    "    \"\"\"\n",
    "\n",
    "    # Creating number of users and artists variables\n",
    "    n_users, n_artists = (\n",
    "        df_user_artist.UserId.nunique(),\n",
    "        df_user_artist.ArtistId.nunique(),\n",
    "    )\n",
    "\n",
    "    # Split the ratings DataFrame into train and test.\n",
    "    train_listens, test_listens = split_dataframe(ratings)\n",
    "\n",
    "    # SparseTensor representation of the train and test datasets.\n",
    "    A_train = build_listen_sparse_tensor(train_listens, n_users, n_artists)\n",
    "    A_test = build_listen_sparse_tensor(test_listens, n_users, n_artists)\n",
    "    U = tf.Variable(\n",
    "        tf.random_normal([A_train.dense_shape[0], embedding_dim], stddev=init_stddev)\n",
    "    )\n",
    "    V = tf.Variable(\n",
    "        tf.random_normal([A_train.dense_shape[1], embedding_dim], stddev=init_stddev)\n",
    "    )\n",
    "\n",
    "    error_train = sparse_mean_square_error(A_train, U, V)\n",
    "    error_test = sparse_mean_square_error(A_test, U, V)\n",
    "    gravity_loss = gravity_coeff * gravity(U, V)\n",
    "    regularization_loss = regularization_coeff * (\n",
    "        tf.reduce_sum(U * U) / U.shape[0].value\n",
    "        + tf.reduce_sum(V * V) / V.shape[0].value\n",
    "    )\n",
    "    total_loss = error_train + regularization_loss + gravity_loss\n",
    "    losses = {\n",
    "        \"train_error_observed\": error_train,\n",
    "        \"test_error_observed\": error_test,\n",
    "    }\n",
    "    loss_components = {\n",
    "        \"observed_loss\": error_train,\n",
    "        \"regularization_loss\": regularization_loss,\n",
    "        \"gravity_loss\": gravity_loss,\n",
    "    }\n",
    "    embeddings = {\"UserId\": U, \"ArtistId\": V}\n",
    "\n",
    "    return CFModel(embeddings, total_loss, [losses, loss_components])\n"
   ]
  },
  {
   "attachments": {},
   "cell_type": "markdown",
   "metadata": {},
   "source": [
    "## Running Regularization Model"
   ]
  },
  {
   "cell_type": "code",
   "execution_count": 89,
   "metadata": {
    "execution": {
     "iopub.execute_input": "2022-12-17T19:41:34.210094Z",
     "iopub.status.busy": "2022-12-17T19:41:34.210094Z",
     "iopub.status.idle": "2022-12-17T19:43:14.303262Z",
     "shell.execute_reply": "2022-12-17T19:43:14.302254Z",
     "shell.execute_reply.started": "2022-12-17T19:41:34.210094Z"
    }
   },
   "outputs": [
    {
     "name": "stdout",
     "output_type": "stream",
     "text": [
      " iteration 2000: train_error_observed=10200.655273, test_error_observed=14218981.000000, observed_loss=10200.655273, regularization_loss=676.088501, gravity_loss=120400.03906208"
     ]
    },
    {
     "data": {
      "text/plain": [
       "[{'train_error_observed': 10200.655, 'test_error_observed': 14218981.0},\n",
       " {'observed_loss': 10200.655,\n",
       "  'regularization_loss': 676.0885,\n",
       "  'gravity_loss': 120400.04}]"
      ]
     },
     "execution_count": 89,
     "metadata": {},
     "output_type": "execute_result"
    },
    {
     "data": {
      "image/png": "[encoded data removed]",
      "text/plain": [
       "<Figure size 3000x800 with 2 Axes>"
      ]
     },
     "metadata": {},
     "output_type": "display_data"
    }
   ],
   "source": [
    "reg_model = build_regularized_model(\n",
    "    df_user_artist, regularization_coeff=0.1, gravity_coeff=1.0, embedding_dim=35,\n",
    "    init_stddev=.05)\n",
    "reg_model.train(num_iterations=2000, learning_rate=0.1)"
   ]
  },
  {
   "attachments": {},
   "cell_type": "markdown",
   "metadata": {},
   "source": [
    "##### Model Performance\n",
    "- Despite introducing regularization the model is still clearly overfitting. This is exacerbated by more iterations.\n",
    "- There needs to be a more effective approach to work with this data."
   ]
  },
  {
   "attachments": {},
   "cell_type": "markdown",
   "metadata": {},
   "source": [
    "##### Male Artist Recommendations\n",
    "*Dot*\n",
    "\n",
    "- Justin Timberlake and Chris Brown are included here but they should be excluded.\n",
    "- Eminem is a great recommendations as they coud expand the users interests from Drake and Kanye West.\n",
    "\n",
    "*Cosine*\n",
    "- These are poor recommendations except for Robin Thick which should be higher up"
   ]
  },
  {
   "cell_type": "code",
   "execution_count": 90,
   "metadata": {
    "execution": {
     "iopub.execute_input": "2022-12-17T19:43:14.305226Z",
     "iopub.status.busy": "2022-12-17T19:43:14.304226Z",
     "iopub.status.idle": "2022-12-17T19:43:14.382079Z",
     "shell.execute_reply": "2022-12-17T19:43:14.381139Z",
     "shell.execute_reply.started": "2022-12-17T19:43:14.305226Z"
    }
   },
   "outputs": [
    {
     "data": {
      "text/html": [
       "<div>\n",
       "<style scoped>\n",
       "    .dataframe tbody tr th:only-of-type {\n",
       "        vertical-align: middle;\n",
       "    }\n",
       "\n",
       "    .dataframe tbody tr th {\n",
       "        vertical-align: top;\n",
       "    }\n",
       "\n",
       "    .dataframe thead th {\n",
       "        text-align: right;\n",
       "    }\n",
       "</style>\n",
       "<table border=\"1\" class=\"dataframe\">\n",
       "  <thead>\n",
       "    <tr style=\"text-align: right;\">\n",
       "      <th></th>\n",
       "      <th>dot score</th>\n",
       "      <th>ArtistId</th>\n",
       "      <th>Name</th>\n",
       "      <th>TopTag</th>\n",
       "      <th>AllTags</th>\n",
       "    </tr>\n",
       "  </thead>\n",
       "  <tbody>\n",
       "    <tr>\n",
       "      <th>197</th>\n",
       "      <td>8727.167</td>\n",
       "      <td>197</td>\n",
       "      <td>Blur</td>\n",
       "      <td>Rock</td>\n",
       "      <td>[Alternative, Alternative, British, Alternativ...</td>\n",
       "    </tr>\n",
       "    <tr>\n",
       "      <th>783</th>\n",
       "      <td>7066.646</td>\n",
       "      <td>783</td>\n",
       "      <td>Thalía</td>\n",
       "      <td>FemaleVocalists</td>\n",
       "      <td>[Electronic, Pop, FemaleVocalist, FemaleVocali...</td>\n",
       "    </tr>\n",
       "    <tr>\n",
       "      <th>288</th>\n",
       "      <td>6673.880</td>\n",
       "      <td>288</td>\n",
       "      <td>Leona Lewis</td>\n",
       "      <td>FemaleVocalists</td>\n",
       "      <td>[Rnb, Pop, FemaleVocalists, Rnb, Pop, FemaleVo...</td>\n",
       "    </tr>\n",
       "    <tr>\n",
       "      <th>2164</th>\n",
       "      <td>5749.309</td>\n",
       "      <td>2164</td>\n",
       "      <td>50 Cent</td>\n",
       "      <td>Rap</td>\n",
       "      <td>[Hip-hop, Hip-hop, Rap, GangstaRap, Hip-hop, R...</td>\n",
       "    </tr>\n",
       "    <tr>\n",
       "      <th>323</th>\n",
       "      <td>5732.716</td>\n",
       "      <td>323</td>\n",
       "      <td>Justin Timberlake</td>\n",
       "      <td>Pop</td>\n",
       "      <td>[Pop, Legend, Pop, Pop, HipHop, Pop, Rnb, Pop,...</td>\n",
       "    </tr>\n",
       "    <tr>\n",
       "      <th>505</th>\n",
       "      <td>5139.571</td>\n",
       "      <td>505</td>\n",
       "      <td>U2</td>\n",
       "      <td>Rock</td>\n",
       "      <td>[Pop, Rock, Rock, Awesome, Rock, 80s, Rock, Ro...</td>\n",
       "    </tr>\n",
       "  </tbody>\n",
       "</table>\n",
       "</div>"
      ],
      "text/plain": [
       "      dot score ArtistId               Name           TopTag  \\\n",
       "197    8727.167      197               Blur             Rock   \n",
       "783    7066.646      783             Thalía  FemaleVocalists   \n",
       "288    6673.880      288        Leona Lewis  FemaleVocalists   \n",
       "2164   5749.309     2164            50 Cent              Rap   \n",
       "323    5732.716      323  Justin Timberlake              Pop   \n",
       "505    5139.571      505                 U2             Rock   \n",
       "\n",
       "                                                AllTags  \n",
       "197   [Alternative, Alternative, British, Alternativ...  \n",
       "783   [Electronic, Pop, FemaleVocalist, FemaleVocali...  \n",
       "288   [Rnb, Pop, FemaleVocalists, Rnb, Pop, FemaleVo...  \n",
       "2164  [Hip-hop, Hip-hop, Rap, GangstaRap, Hip-hop, R...  \n",
       "323   [Pop, Legend, Pop, Pop, HipHop, Pop, Rnb, Pop,...  \n",
       "505   [Pop, Rock, Rock, Awesome, Rock, 80s, Rock, Ro...  "
      ]
     },
     "metadata": {},
     "output_type": "display_data"
    },
    {
     "data": {
      "text/html": [
       "<div>\n",
       "<style scoped>\n",
       "    .dataframe tbody tr th:only-of-type {\n",
       "        vertical-align: middle;\n",
       "    }\n",
       "\n",
       "    .dataframe tbody tr th {\n",
       "        vertical-align: top;\n",
       "    }\n",
       "\n",
       "    .dataframe thead th {\n",
       "        text-align: right;\n",
       "    }\n",
       "</style>\n",
       "<table border=\"1\" class=\"dataframe\">\n",
       "  <thead>\n",
       "    <tr style=\"text-align: right;\">\n",
       "      <th></th>\n",
       "      <th>cosine score</th>\n",
       "      <th>ArtistId</th>\n",
       "      <th>Name</th>\n",
       "      <th>TopTag</th>\n",
       "      <th>AllTags</th>\n",
       "    </tr>\n",
       "  </thead>\n",
       "  <tbody>\n",
       "    <tr>\n",
       "      <th>321</th>\n",
       "      <td>0.812</td>\n",
       "      <td>321</td>\n",
       "      <td>Chris Brown</td>\n",
       "      <td>Rnb</td>\n",
       "      <td>[Hip-hop, Rap, Rnb, Hip-hop, Rap, Rnb, HipHop,...</td>\n",
       "    </tr>\n",
       "    <tr>\n",
       "      <th>323</th>\n",
       "      <td>0.767</td>\n",
       "      <td>323</td>\n",
       "      <td>Justin Timberlake</td>\n",
       "      <td>Pop</td>\n",
       "      <td>[Pop, Legend, Pop, Pop, HipHop, Pop, Rnb, Pop,...</td>\n",
       "    </tr>\n",
       "    <tr>\n",
       "      <th>15677</th>\n",
       "      <td>0.702</td>\n",
       "      <td>15677</td>\n",
       "      <td>Kate Hudson</td>\n",
       "      <td>FemaleVocalists</td>\n",
       "      <td>[FemaleVocalists, FemaleVocalists]</td>\n",
       "    </tr>\n",
       "    <tr>\n",
       "      <th>10320</th>\n",
       "      <td>0.653</td>\n",
       "      <td>10320</td>\n",
       "      <td>Mario</td>\n",
       "      <td>Rnb</td>\n",
       "      <td>[Hip-hop, Rnb, Rnb, Hip-hop, Rap, Rnb, HipHop,...</td>\n",
       "    </tr>\n",
       "    <tr>\n",
       "      <th>3281</th>\n",
       "      <td>0.649</td>\n",
       "      <td>3281</td>\n",
       "      <td>Trey Songz</td>\n",
       "      <td>Rnb</td>\n",
       "      <td>[Rnb, Hip-hop, Amazing, Freestyle, HipHop, Hip...</td>\n",
       "    </tr>\n",
       "    <tr>\n",
       "      <th>693</th>\n",
       "      <td>0.634</td>\n",
       "      <td>693</td>\n",
       "      <td>Esmée Denters</td>\n",
       "      <td>Rnb</td>\n",
       "      <td>[Rnb, Amazing, Rnb]</td>\n",
       "    </tr>\n",
       "  </tbody>\n",
       "</table>\n",
       "</div>"
      ],
      "text/plain": [
       "       cosine score ArtistId               Name           TopTag  \\\n",
       "321           0.812      321        Chris Brown              Rnb   \n",
       "323           0.767      323  Justin Timberlake              Pop   \n",
       "15677         0.702    15677        Kate Hudson  FemaleVocalists   \n",
       "10320         0.653    10320              Mario              Rnb   \n",
       "3281          0.649     3281         Trey Songz              Rnb   \n",
       "693           0.634      693      Esmée Denters              Rnb   \n",
       "\n",
       "                                                 AllTags  \n",
       "321    [Hip-hop, Rap, Rnb, Hip-hop, Rap, Rnb, HipHop,...  \n",
       "323    [Pop, Legend, Pop, Pop, HipHop, Pop, Rnb, Pop,...  \n",
       "15677                 [FemaleVocalists, FemaleVocalists]  \n",
       "10320  [Hip-hop, Rnb, Rnb, Hip-hop, Rap, Rnb, HipHop,...  \n",
       "3281   [Rnb, Hip-hop, Amazing, Freestyle, HipHop, Hip...  \n",
       "693                                  [Rnb, Amazing, Rnb]  "
      ]
     },
     "metadata": {},
     "output_type": "display_data"
    }
   ],
   "source": [
    "user_recommendations(reg_model, 'dot', UserId=int(my_user_id1))\n",
    "user_recommendations(reg_model, 'cosine', UserId=int(my_user_id1))"
   ]
  },
  {
   "attachments": {},
   "cell_type": "markdown",
   "metadata": {},
   "source": [
    "##### Female Artist Recommendations\n",
    "*Dot*\n",
    "\n",
    "- Once again Taylor Swift is a good choice however, the user already listens to Beyoncé and Leona Lewis. \n",
    "- My Chemical Romance is an interesting recommendation and perhaps could offer something different for the user.\n",
    "\n",
    "*Cosine*\n",
    "\n",
    "- These recommendations are incomprehensible.\n",
    "- A more effective method must be found"
   ]
  },
  {
   "cell_type": "code",
   "execution_count": 91,
   "metadata": {
    "execution": {
     "iopub.execute_input": "2022-12-17T19:43:14.384115Z",
     "iopub.status.busy": "2022-12-17T19:43:14.383078Z",
     "iopub.status.idle": "2022-12-17T19:43:14.459122Z",
     "shell.execute_reply": "2022-12-17T19:43:14.458220Z",
     "shell.execute_reply.started": "2022-12-17T19:43:14.384115Z"
    }
   },
   "outputs": [
    {
     "data": {
      "text/html": [
       "<div>\n",
       "<style scoped>\n",
       "    .dataframe tbody tr th:only-of-type {\n",
       "        vertical-align: middle;\n",
       "    }\n",
       "\n",
       "    .dataframe tbody tr th {\n",
       "        vertical-align: top;\n",
       "    }\n",
       "\n",
       "    .dataframe thead th {\n",
       "        text-align: right;\n",
       "    }\n",
       "</style>\n",
       "<table border=\"1\" class=\"dataframe\">\n",
       "  <thead>\n",
       "    <tr style=\"text-align: right;\">\n",
       "      <th></th>\n",
       "      <th>dot score</th>\n",
       "      <th>ArtistId</th>\n",
       "      <th>Name</th>\n",
       "      <th>TopTag</th>\n",
       "      <th>AllTags</th>\n",
       "    </tr>\n",
       "  </thead>\n",
       "  <tbody>\n",
       "    <tr>\n",
       "      <th>338</th>\n",
       "      <td>4521.132</td>\n",
       "      <td>338</td>\n",
       "      <td>Taylor Swift</td>\n",
       "      <td>FemaleVocalists</td>\n",
       "      <td>[Pop, FemaleVocalists, Pop, Amazing, Awesome, ...</td>\n",
       "    </tr>\n",
       "    <tr>\n",
       "      <th>288</th>\n",
       "      <td>2616.665</td>\n",
       "      <td>288</td>\n",
       "      <td>Leona Lewis</td>\n",
       "      <td>FemaleVocalists</td>\n",
       "      <td>[Rnb, Pop, FemaleVocalists, Rnb, Pop, FemaleVo...</td>\n",
       "    </tr>\n",
       "    <tr>\n",
       "      <th>197</th>\n",
       "      <td>2497.536</td>\n",
       "      <td>197</td>\n",
       "      <td>Blur</td>\n",
       "      <td>Rock</td>\n",
       "      <td>[Alternative, Alternative, British, Alternativ...</td>\n",
       "    </tr>\n",
       "    <tr>\n",
       "      <th>189</th>\n",
       "      <td>2437.046</td>\n",
       "      <td>189</td>\n",
       "      <td>Bright Eyes</td>\n",
       "      <td>Indie</td>\n",
       "      <td>[IndieRock, Beautiful, Sad, Rock, Indie, Rock,...</td>\n",
       "    </tr>\n",
       "    <tr>\n",
       "      <th>293</th>\n",
       "      <td>2392.578</td>\n",
       "      <td>293</td>\n",
       "      <td>Jennifer Lopez</td>\n",
       "      <td>Pop</td>\n",
       "      <td>[Pop, Dance, Rnb, Pop, Dance, Rock, FemaleVoca...</td>\n",
       "    </tr>\n",
       "    <tr>\n",
       "      <th>319</th>\n",
       "      <td>2017.697</td>\n",
       "      <td>319</td>\n",
       "      <td>Ashley Tisdale</td>\n",
       "      <td>Pop</td>\n",
       "      <td>[Pop, Dance, Pop, FemaleVocalists, Awesome, Po...</td>\n",
       "    </tr>\n",
       "  </tbody>\n",
       "</table>\n",
       "</div>"
      ],
      "text/plain": [
       "     dot score ArtistId            Name           TopTag  \\\n",
       "338   4521.132      338    Taylor Swift  FemaleVocalists   \n",
       "288   2616.665      288     Leona Lewis  FemaleVocalists   \n",
       "197   2497.536      197            Blur             Rock   \n",
       "189   2437.046      189     Bright Eyes            Indie   \n",
       "293   2392.578      293  Jennifer Lopez              Pop   \n",
       "319   2017.697      319  Ashley Tisdale              Pop   \n",
       "\n",
       "                                               AllTags  \n",
       "338  [Pop, FemaleVocalists, Pop, Amazing, Awesome, ...  \n",
       "288  [Rnb, Pop, FemaleVocalists, Rnb, Pop, FemaleVo...  \n",
       "197  [Alternative, Alternative, British, Alternativ...  \n",
       "189  [IndieRock, Beautiful, Sad, Rock, Indie, Rock,...  \n",
       "293  [Pop, Dance, Rnb, Pop, Dance, Rock, FemaleVoca...  \n",
       "319  [Pop, Dance, Pop, FemaleVocalists, Awesome, Po...  "
      ]
     },
     "metadata": {},
     "output_type": "display_data"
    },
    {
     "data": {
      "text/html": [
       "<div>\n",
       "<style scoped>\n",
       "    .dataframe tbody tr th:only-of-type {\n",
       "        vertical-align: middle;\n",
       "    }\n",
       "\n",
       "    .dataframe tbody tr th {\n",
       "        vertical-align: top;\n",
       "    }\n",
       "\n",
       "    .dataframe thead th {\n",
       "        text-align: right;\n",
       "    }\n",
       "</style>\n",
       "<table border=\"1\" class=\"dataframe\">\n",
       "  <thead>\n",
       "    <tr style=\"text-align: right;\">\n",
       "      <th></th>\n",
       "      <th>cosine score</th>\n",
       "      <th>ArtistId</th>\n",
       "      <th>Name</th>\n",
       "      <th>TopTag</th>\n",
       "      <th>AllTags</th>\n",
       "    </tr>\n",
       "  </thead>\n",
       "  <tbody>\n",
       "    <tr>\n",
       "      <th>293</th>\n",
       "      <td>0.814</td>\n",
       "      <td>293</td>\n",
       "      <td>Jennifer Lopez</td>\n",
       "      <td>Pop</td>\n",
       "      <td>[Pop, Dance, Rnb, Pop, Dance, Rock, FemaleVoca...</td>\n",
       "    </tr>\n",
       "    <tr>\n",
       "      <th>12797</th>\n",
       "      <td>0.769</td>\n",
       "      <td>12797</td>\n",
       "      <td>Teresa Salgueiro</td>\n",
       "      <td></td>\n",
       "      <td>[]</td>\n",
       "    </tr>\n",
       "    <tr>\n",
       "      <th>12799</th>\n",
       "      <td>0.768</td>\n",
       "      <td>12799</td>\n",
       "      <td>Oz Bambaz</td>\n",
       "      <td>Brazil</td>\n",
       "      <td>[Brazil]</td>\n",
       "    </tr>\n",
       "    <tr>\n",
       "      <th>12795</th>\n",
       "      <td>0.768</td>\n",
       "      <td>12795</td>\n",
       "      <td>Parangolé</td>\n",
       "      <td></td>\n",
       "      <td>[]</td>\n",
       "    </tr>\n",
       "    <tr>\n",
       "      <th>12796</th>\n",
       "      <td>0.767</td>\n",
       "      <td>12796</td>\n",
       "      <td>PSIRICO</td>\n",
       "      <td></td>\n",
       "      <td>[]</td>\n",
       "    </tr>\n",
       "    <tr>\n",
       "      <th>12794</th>\n",
       "      <td>0.767</td>\n",
       "      <td>12794</td>\n",
       "      <td>Companhia do Calypso</td>\n",
       "      <td></td>\n",
       "      <td>[]</td>\n",
       "    </tr>\n",
       "  </tbody>\n",
       "</table>\n",
       "</div>"
      ],
      "text/plain": [
       "       cosine score ArtistId                  Name  TopTag  \\\n",
       "293           0.814      293        Jennifer Lopez     Pop   \n",
       "12797         0.769    12797      Teresa Salgueiro           \n",
       "12799         0.768    12799             Oz Bambaz  Brazil   \n",
       "12795         0.768    12795             Parangolé           \n",
       "12796         0.767    12796               PSIRICO           \n",
       "12794         0.767    12794  Companhia do Calypso           \n",
       "\n",
       "                                                 AllTags  \n",
       "293    [Pop, Dance, Rnb, Pop, Dance, Rock, FemaleVoca...  \n",
       "12797                                                 []  \n",
       "12799                                           [Brazil]  \n",
       "12795                                                 []  \n",
       "12796                                                 []  \n",
       "12794                                                 []  "
      ]
     },
     "metadata": {},
     "output_type": "display_data"
    }
   ],
   "source": [
    "user_recommendations(reg_model, 'dot', UserId=int(my_user_id2))\n",
    "user_recommendations(reg_model, 'cosine', UserId=int(my_user_id2))"
   ]
  },
  {
   "attachments": {},
   "cell_type": "markdown",
   "metadata": {},
   "source": [
    "##### Artist Neighbors\n",
    "*Dot*\n",
    "\n",
    "- Akon is an interesting recommendation as is known for Rap, Hip-Hop and Pop all similar tags for Kanye.\n",
    "- Taylor Swift is not a good recommendation here.\n",
    "\n",
    "*Cosine*\n",
    "\n",
    "- Tinie Tempah is a fresh recommendation. Something I would really enjoy seeing considering my interests include Drake and Kanye West.\n",
    "- Busta Rhymes is a very recommendation very similar to Kanye. \n",
    "- However, there are no similar recommendations for David Guetta."
   ]
  },
  {
   "cell_type": "code",
   "execution_count": 92,
   "metadata": {
    "execution": {
     "iopub.execute_input": "2022-12-17T19:43:14.461177Z",
     "iopub.status.busy": "2022-12-17T19:43:14.461177Z",
     "iopub.status.idle": "2022-12-17T19:43:14.553158Z",
     "shell.execute_reply": "2022-12-17T19:43:14.552229Z",
     "shell.execute_reply.started": "2022-12-17T19:43:14.461177Z"
    }
   },
   "outputs": [
    {
     "name": "stdout",
     "output_type": "stream",
     "text": [
      "Nearest neighbors of : Kanye West.\n",
      "Found more than one matching artist. Other candidates: Kanye West & Jay-Z, Kanye West, Beyoncé & Charlie Wilson, Kanye West feat. Pusha T MpTri.Net, Eminem feat. Drake, Kanye West, Lil Wayne, The-Dream f. Kanye West, Jamie Foxx feat. Kanye West and The-Dream\n"
     ]
    },
    {
     "data": {
      "text/html": [
       "<div>\n",
       "<style scoped>\n",
       "    .dataframe tbody tr th:only-of-type {\n",
       "        vertical-align: middle;\n",
       "    }\n",
       "\n",
       "    .dataframe tbody tr th {\n",
       "        vertical-align: top;\n",
       "    }\n",
       "\n",
       "    .dataframe thead th {\n",
       "        text-align: right;\n",
       "    }\n",
       "</style>\n",
       "<table border=\"1\" class=\"dataframe\">\n",
       "  <thead>\n",
       "    <tr style=\"text-align: right;\">\n",
       "      <th></th>\n",
       "      <th>dot score</th>\n",
       "      <th>Name</th>\n",
       "      <th>TopTag</th>\n",
       "      <th>AllTags</th>\n",
       "    </tr>\n",
       "  </thead>\n",
       "  <tbody>\n",
       "    <tr>\n",
       "      <th>1435</th>\n",
       "      <td>16497.564</td>\n",
       "      <td>Akon</td>\n",
       "      <td>Hip-hop</td>\n",
       "      <td>[Pop, Hip-hop, Rnb, Rap, Rap, Rnb, HipHop, Pop...</td>\n",
       "    </tr>\n",
       "    <tr>\n",
       "      <th>325</th>\n",
       "      <td>12757.730</td>\n",
       "      <td>Kanye West</td>\n",
       "      <td>Hip-hop</td>\n",
       "      <td>[Hip-hop, Rap, Rnb, Rap, HipHop, Favorite, Rap...</td>\n",
       "    </tr>\n",
       "    <tr>\n",
       "      <th>338</th>\n",
       "      <td>9553.946</td>\n",
       "      <td>Taylor Swift</td>\n",
       "      <td>FemaleVocalists</td>\n",
       "      <td>[Pop, FemaleVocalists, Pop, Amazing, Awesome, ...</td>\n",
       "    </tr>\n",
       "    <tr>\n",
       "      <th>521</th>\n",
       "      <td>9192.328</td>\n",
       "      <td>Lil' Wayne</td>\n",
       "      <td>Rap</td>\n",
       "      <td>[Hip-hop, Rap, Hip-hop, HipHop, Hip-hop, Rap, ...</td>\n",
       "    </tr>\n",
       "    <tr>\n",
       "      <th>293</th>\n",
       "      <td>9020.482</td>\n",
       "      <td>Jennifer Lopez</td>\n",
       "      <td>Pop</td>\n",
       "      <td>[Pop, Dance, Rnb, Pop, Dance, Rock, FemaleVoca...</td>\n",
       "    </tr>\n",
       "    <tr>\n",
       "      <th>2899</th>\n",
       "      <td>8357.791</td>\n",
       "      <td>Busta Rhymes</td>\n",
       "      <td>Hip-hop</td>\n",
       "      <td>[HipHop, HipHop, Hip-hop, Rap, 00s, American, ...</td>\n",
       "    </tr>\n",
       "  </tbody>\n",
       "</table>\n",
       "</div>"
      ],
      "text/plain": [
       "      dot score            Name           TopTag  \\\n",
       "1435  16497.564            Akon          Hip-hop   \n",
       "325   12757.730      Kanye West          Hip-hop   \n",
       "338    9553.946    Taylor Swift  FemaleVocalists   \n",
       "521    9192.328      Lil' Wayne              Rap   \n",
       "293    9020.482  Jennifer Lopez              Pop   \n",
       "2899   8357.791    Busta Rhymes          Hip-hop   \n",
       "\n",
       "                                                AllTags  \n",
       "1435  [Pop, Hip-hop, Rnb, Rap, Rap, Rnb, HipHop, Pop...  \n",
       "325   [Hip-hop, Rap, Rnb, Rap, HipHop, Favorite, Rap...  \n",
       "338   [Pop, FemaleVocalists, Pop, Amazing, Awesome, ...  \n",
       "521   [Hip-hop, Rap, Hip-hop, HipHop, Hip-hop, Rap, ...  \n",
       "293   [Pop, Dance, Rnb, Pop, Dance, Rock, FemaleVoca...  \n",
       "2899  [HipHop, HipHop, Hip-hop, Rap, 00s, American, ...  "
      ]
     },
     "metadata": {},
     "output_type": "display_data"
    },
    {
     "name": "stdout",
     "output_type": "stream",
     "text": [
      "Nearest neighbors of : Kanye West.\n",
      "Found more than one matching artist. Other candidates: Kanye West & Jay-Z, Kanye West, Beyoncé & Charlie Wilson, Kanye West feat. Pusha T MpTri.Net, Eminem feat. Drake, Kanye West, Lil Wayne, The-Dream f. Kanye West, Jamie Foxx feat. Kanye West and The-Dream\n"
     ]
    },
    {
     "data": {
      "text/html": [
       "<div>\n",
       "<style scoped>\n",
       "    .dataframe tbody tr th:only-of-type {\n",
       "        vertical-align: middle;\n",
       "    }\n",
       "\n",
       "    .dataframe tbody tr th {\n",
       "        vertical-align: top;\n",
       "    }\n",
       "\n",
       "    .dataframe thead th {\n",
       "        text-align: right;\n",
       "    }\n",
       "</style>\n",
       "<table border=\"1\" class=\"dataframe\">\n",
       "  <thead>\n",
       "    <tr style=\"text-align: right;\">\n",
       "      <th></th>\n",
       "      <th>cosine score</th>\n",
       "      <th>Name</th>\n",
       "      <th>TopTag</th>\n",
       "      <th>AllTags</th>\n",
       "    </tr>\n",
       "  </thead>\n",
       "  <tbody>\n",
       "    <tr>\n",
       "      <th>325</th>\n",
       "      <td>1.000</td>\n",
       "      <td>Kanye West</td>\n",
       "      <td>Hip-hop</td>\n",
       "      <td>[Hip-hop, Rap, Rnb, Rap, HipHop, Favorite, Rap...</td>\n",
       "    </tr>\n",
       "    <tr>\n",
       "      <th>17101</th>\n",
       "      <td>0.814</td>\n",
       "      <td>Andreea Banica</td>\n",
       "      <td>Pop</td>\n",
       "      <td>[Pop]</td>\n",
       "    </tr>\n",
       "    <tr>\n",
       "      <th>17097</th>\n",
       "      <td>0.814</td>\n",
       "      <td>After One</td>\n",
       "      <td></td>\n",
       "      <td>[]</td>\n",
       "    </tr>\n",
       "    <tr>\n",
       "      <th>17105</th>\n",
       "      <td>0.814</td>\n",
       "      <td>Boyz N Da Hood</td>\n",
       "      <td></td>\n",
       "      <td>[]</td>\n",
       "    </tr>\n",
       "    <tr>\n",
       "      <th>17104</th>\n",
       "      <td>0.814</td>\n",
       "      <td>Mr.Busta</td>\n",
       "      <td></td>\n",
       "      <td>[]</td>\n",
       "    </tr>\n",
       "    <tr>\n",
       "      <th>17094</th>\n",
       "      <td>0.814</td>\n",
       "      <td>Kontrafakt</td>\n",
       "      <td></td>\n",
       "      <td>[]</td>\n",
       "    </tr>\n",
       "  </tbody>\n",
       "</table>\n",
       "</div>"
      ],
      "text/plain": [
       "       cosine score            Name   TopTag  \\\n",
       "325           1.000      Kanye West  Hip-hop   \n",
       "17101         0.814  Andreea Banica      Pop   \n",
       "17097         0.814       After One            \n",
       "17105         0.814  Boyz N Da Hood            \n",
       "17104         0.814        Mr.Busta            \n",
       "17094         0.814      Kontrafakt            \n",
       "\n",
       "                                                 AllTags  \n",
       "325    [Hip-hop, Rap, Rnb, Rap, HipHop, Favorite, Rap...  \n",
       "17101                                              [Pop]  \n",
       "17097                                                 []  \n",
       "17105                                                 []  \n",
       "17104                                                 []  \n",
       "17094                                                 []  "
      ]
     },
     "metadata": {},
     "output_type": "display_data"
    }
   ],
   "source": [
    "artist_neighbors(reg_model, \"Kanye\", 'dot')\n",
    "artist_neighbors(reg_model, \"Kanye\", 'cosine')"
   ]
  },
  {
   "attachments": {},
   "cell_type": "markdown",
   "metadata": {},
   "source": [
    "##### Artist Embeddings\n",
    "- There appears to be no difference between the regularized model embeddings. In the top right corner we see Britney Spears, Lady Gaga, Christina Aguilera and Rihanna. These seems to be a female dominated data set."
   ]
  },
  {
   "cell_type": "code",
   "execution_count": 93,
   "metadata": {
    "execution": {
     "iopub.execute_input": "2022-12-17T19:43:14.556157Z",
     "iopub.status.busy": "2022-12-17T19:43:14.555157Z",
     "iopub.status.idle": "2022-12-17T19:43:14.976533Z",
     "shell.execute_reply": "2022-12-17T19:43:14.975530Z",
     "shell.execute_reply.started": "2022-12-17T19:43:14.556157Z"
    }
   },
   "outputs": [
    {
     "ename": "MaxRowsError",
     "evalue": "The number of rows in your dataset is greater than the maximum allowed (5000). For information on how to plot larger datasets in Altair, see the documentation",
     "output_type": "error",
     "traceback": [
      "\u001b[1;31m---------------------------------------------------------------------------\u001b[0m",
      "\u001b[1;31mMaxRowsError\u001b[0m                              Traceback (most recent call last)",
      "File \u001b[1;32mc:\\Users\\Diarmuid\\anaconda3\\envs\\RecSys\\lib\\site-packages\\altair\\vegalite\\v4\\api.py:374\u001b[0m, in \u001b[0;36mTopLevelMixin.to_dict\u001b[1;34m(self, *args, **kwargs)\u001b[0m\n\u001b[0;32m    372\u001b[0m copy \u001b[38;5;241m=\u001b[39m \u001b[38;5;28mself\u001b[39m\u001b[38;5;241m.\u001b[39mcopy(deep\u001b[38;5;241m=\u001b[39m\u001b[38;5;28;01mFalse\u001b[39;00m)\n\u001b[0;32m    373\u001b[0m original_data \u001b[38;5;241m=\u001b[39m \u001b[38;5;28mgetattr\u001b[39m(copy, \u001b[38;5;124m\"\u001b[39m\u001b[38;5;124mdata\u001b[39m\u001b[38;5;124m\"\u001b[39m, Undefined)\n\u001b[1;32m--> 374\u001b[0m copy\u001b[38;5;241m.\u001b[39mdata \u001b[38;5;241m=\u001b[39m \u001b[43m_prepare_data\u001b[49m\u001b[43m(\u001b[49m\u001b[43moriginal_data\u001b[49m\u001b[43m,\u001b[49m\u001b[43m \u001b[49m\u001b[43mcontext\u001b[49m\u001b[43m)\u001b[49m\n\u001b[0;32m    376\u001b[0m \u001b[38;5;28;01mif\u001b[39;00m original_data \u001b[38;5;129;01mis\u001b[39;00m \u001b[38;5;129;01mnot\u001b[39;00m Undefined:\n\u001b[0;32m    377\u001b[0m     context[\u001b[38;5;124m\"\u001b[39m\u001b[38;5;124mdata\u001b[39m\u001b[38;5;124m\"\u001b[39m] \u001b[38;5;241m=\u001b[39m original_data\n",
      "File \u001b[1;32mc:\\Users\\Diarmuid\\anaconda3\\envs\\RecSys\\lib\\site-packages\\altair\\vegalite\\v4\\api.py:89\u001b[0m, in \u001b[0;36m_prepare_data\u001b[1;34m(data, context)\u001b[0m\n\u001b[0;32m     87\u001b[0m \u001b[38;5;66;03m# convert dataframes  or objects with __geo_interface__ to dict\u001b[39;00m\n\u001b[0;32m     88\u001b[0m \u001b[38;5;28;01mif\u001b[39;00m \u001b[38;5;28misinstance\u001b[39m(data, pd\u001b[38;5;241m.\u001b[39mDataFrame) \u001b[38;5;129;01mor\u001b[39;00m \u001b[38;5;28mhasattr\u001b[39m(data, \u001b[38;5;124m\"\u001b[39m\u001b[38;5;124m__geo_interface__\u001b[39m\u001b[38;5;124m\"\u001b[39m):\n\u001b[1;32m---> 89\u001b[0m     data \u001b[38;5;241m=\u001b[39m \u001b[43m_pipe\u001b[49m\u001b[43m(\u001b[49m\u001b[43mdata\u001b[49m\u001b[43m,\u001b[49m\u001b[43m \u001b[49m\u001b[43mdata_transformers\u001b[49m\u001b[38;5;241;43m.\u001b[39;49m\u001b[43mget\u001b[49m\u001b[43m(\u001b[49m\u001b[43m)\u001b[49m\u001b[43m)\u001b[49m\n\u001b[0;32m     91\u001b[0m \u001b[38;5;66;03m# convert string input to a URLData\u001b[39;00m\n\u001b[0;32m     92\u001b[0m \u001b[38;5;28;01mif\u001b[39;00m \u001b[38;5;28misinstance\u001b[39m(data, \u001b[38;5;28mstr\u001b[39m):\n",
      "File \u001b[1;32mc:\\Users\\Diarmuid\\anaconda3\\envs\\RecSys\\lib\\site-packages\\toolz\\functoolz.py:628\u001b[0m, in \u001b[0;36mpipe\u001b[1;34m(data, *funcs)\u001b[0m\n\u001b[0;32m    608\u001b[0m \u001b[38;5;124;03m\"\"\" Pipe a value through a sequence of functions\u001b[39;00m\n\u001b[0;32m    609\u001b[0m \n\u001b[0;32m    610\u001b[0m \u001b[38;5;124;03mI.e. ``pipe(data, f, g, h)`` is equivalent to ``h(g(f(data)))``\u001b[39;00m\n\u001b[1;32m   (...)\u001b[0m\n\u001b[0;32m    625\u001b[0m \u001b[38;5;124;03m    thread_last\u001b[39;00m\n\u001b[0;32m    626\u001b[0m \u001b[38;5;124;03m\"\"\"\u001b[39;00m\n\u001b[0;32m    627\u001b[0m \u001b[38;5;28;01mfor\u001b[39;00m func \u001b[38;5;129;01min\u001b[39;00m funcs:\n\u001b[1;32m--> 628\u001b[0m     data \u001b[38;5;241m=\u001b[39m \u001b[43mfunc\u001b[49m\u001b[43m(\u001b[49m\u001b[43mdata\u001b[49m\u001b[43m)\u001b[49m\n\u001b[0;32m    629\u001b[0m \u001b[38;5;28;01mreturn\u001b[39;00m data\n",
      "File \u001b[1;32mc:\\Users\\Diarmuid\\anaconda3\\envs\\RecSys\\lib\\site-packages\\toolz\\functoolz.py:304\u001b[0m, in \u001b[0;36mcurry.__call__\u001b[1;34m(self, *args, **kwargs)\u001b[0m\n\u001b[0;32m    302\u001b[0m \u001b[38;5;28;01mdef\u001b[39;00m \u001b[38;5;21m__call__\u001b[39m(\u001b[38;5;28mself\u001b[39m, \u001b[38;5;241m*\u001b[39margs, \u001b[38;5;241m*\u001b[39m\u001b[38;5;241m*\u001b[39mkwargs):\n\u001b[0;32m    303\u001b[0m     \u001b[38;5;28;01mtry\u001b[39;00m:\n\u001b[1;32m--> 304\u001b[0m         \u001b[38;5;28;01mreturn\u001b[39;00m \u001b[38;5;28mself\u001b[39m\u001b[38;5;241m.\u001b[39m_partial(\u001b[38;5;241m*\u001b[39margs, \u001b[38;5;241m*\u001b[39m\u001b[38;5;241m*\u001b[39mkwargs)\n\u001b[0;32m    305\u001b[0m     \u001b[38;5;28;01mexcept\u001b[39;00m \u001b[38;5;167;01mTypeError\u001b[39;00m \u001b[38;5;28;01mas\u001b[39;00m exc:\n\u001b[0;32m    306\u001b[0m         \u001b[38;5;28;01mif\u001b[39;00m \u001b[38;5;28mself\u001b[39m\u001b[38;5;241m.\u001b[39m_should_curry(args, kwargs, exc):\n",
      "File \u001b[1;32mc:\\Users\\Diarmuid\\anaconda3\\envs\\RecSys\\lib\\site-packages\\altair\\vegalite\\data.py:19\u001b[0m, in \u001b[0;36mdefault_data_transformer\u001b[1;34m(data, max_rows)\u001b[0m\n\u001b[0;32m     17\u001b[0m \u001b[38;5;129m@curried\u001b[39m\u001b[38;5;241m.\u001b[39mcurry\n\u001b[0;32m     18\u001b[0m \u001b[38;5;28;01mdef\u001b[39;00m \u001b[38;5;21mdefault_data_transformer\u001b[39m(data, max_rows\u001b[38;5;241m=\u001b[39m\u001b[38;5;241m5000\u001b[39m):\n\u001b[1;32m---> 19\u001b[0m     \u001b[38;5;28;01mreturn\u001b[39;00m \u001b[43mcurried\u001b[49m\u001b[38;5;241;43m.\u001b[39;49m\u001b[43mpipe\u001b[49m\u001b[43m(\u001b[49m\u001b[43mdata\u001b[49m\u001b[43m,\u001b[49m\u001b[43m \u001b[49m\u001b[43mlimit_rows\u001b[49m\u001b[43m(\u001b[49m\u001b[43mmax_rows\u001b[49m\u001b[38;5;241;43m=\u001b[39;49m\u001b[43mmax_rows\u001b[49m\u001b[43m)\u001b[49m\u001b[43m,\u001b[49m\u001b[43m \u001b[49m\u001b[43mto_values\u001b[49m\u001b[43m)\u001b[49m\n",
      "File \u001b[1;32mc:\\Users\\Diarmuid\\anaconda3\\envs\\RecSys\\lib\\site-packages\\toolz\\functoolz.py:628\u001b[0m, in \u001b[0;36mpipe\u001b[1;34m(data, *funcs)\u001b[0m\n\u001b[0;32m    608\u001b[0m \u001b[38;5;124;03m\"\"\" Pipe a value through a sequence of functions\u001b[39;00m\n\u001b[0;32m    609\u001b[0m \n\u001b[0;32m    610\u001b[0m \u001b[38;5;124;03mI.e. ``pipe(data, f, g, h)`` is equivalent to ``h(g(f(data)))``\u001b[39;00m\n\u001b[1;32m   (...)\u001b[0m\n\u001b[0;32m    625\u001b[0m \u001b[38;5;124;03m    thread_last\u001b[39;00m\n\u001b[0;32m    626\u001b[0m \u001b[38;5;124;03m\"\"\"\u001b[39;00m\n\u001b[0;32m    627\u001b[0m \u001b[38;5;28;01mfor\u001b[39;00m func \u001b[38;5;129;01min\u001b[39;00m funcs:\n\u001b[1;32m--> 628\u001b[0m     data \u001b[38;5;241m=\u001b[39m \u001b[43mfunc\u001b[49m\u001b[43m(\u001b[49m\u001b[43mdata\u001b[49m\u001b[43m)\u001b[49m\n\u001b[0;32m    629\u001b[0m \u001b[38;5;28;01mreturn\u001b[39;00m data\n",
      "File \u001b[1;32mc:\\Users\\Diarmuid\\anaconda3\\envs\\RecSys\\lib\\site-packages\\toolz\\functoolz.py:304\u001b[0m, in \u001b[0;36mcurry.__call__\u001b[1;34m(self, *args, **kwargs)\u001b[0m\n\u001b[0;32m    302\u001b[0m \u001b[38;5;28;01mdef\u001b[39;00m \u001b[38;5;21m__call__\u001b[39m(\u001b[38;5;28mself\u001b[39m, \u001b[38;5;241m*\u001b[39margs, \u001b[38;5;241m*\u001b[39m\u001b[38;5;241m*\u001b[39mkwargs):\n\u001b[0;32m    303\u001b[0m     \u001b[38;5;28;01mtry\u001b[39;00m:\n\u001b[1;32m--> 304\u001b[0m         \u001b[38;5;28;01mreturn\u001b[39;00m \u001b[38;5;28mself\u001b[39m\u001b[38;5;241m.\u001b[39m_partial(\u001b[38;5;241m*\u001b[39margs, \u001b[38;5;241m*\u001b[39m\u001b[38;5;241m*\u001b[39mkwargs)\n\u001b[0;32m    305\u001b[0m     \u001b[38;5;28;01mexcept\u001b[39;00m \u001b[38;5;167;01mTypeError\u001b[39;00m \u001b[38;5;28;01mas\u001b[39;00m exc:\n\u001b[0;32m    306\u001b[0m         \u001b[38;5;28;01mif\u001b[39;00m \u001b[38;5;28mself\u001b[39m\u001b[38;5;241m.\u001b[39m_should_curry(args, kwargs, exc):\n",
      "File \u001b[1;32mc:\\Users\\Diarmuid\\anaconda3\\envs\\RecSys\\lib\\site-packages\\altair\\utils\\data.py:80\u001b[0m, in \u001b[0;36mlimit_rows\u001b[1;34m(data, max_rows)\u001b[0m\n\u001b[0;32m     78\u001b[0m         \u001b[38;5;28;01mreturn\u001b[39;00m data\n\u001b[0;32m     79\u001b[0m \u001b[38;5;28;01mif\u001b[39;00m max_rows \u001b[38;5;129;01mis\u001b[39;00m \u001b[38;5;129;01mnot\u001b[39;00m \u001b[38;5;28;01mNone\u001b[39;00m \u001b[38;5;129;01mand\u001b[39;00m \u001b[38;5;28mlen\u001b[39m(values) \u001b[38;5;241m>\u001b[39m max_rows:\n\u001b[1;32m---> 80\u001b[0m     \u001b[38;5;28;01mraise\u001b[39;00m MaxRowsError(\n\u001b[0;32m     81\u001b[0m         \u001b[38;5;124m\"\u001b[39m\u001b[38;5;124mThe number of rows in your dataset is greater \u001b[39m\u001b[38;5;124m\"\u001b[39m\n\u001b[0;32m     82\u001b[0m         \u001b[38;5;124m\"\u001b[39m\u001b[38;5;124mthan the maximum allowed (\u001b[39m\u001b[38;5;132;01m{}\u001b[39;00m\u001b[38;5;124m). \u001b[39m\u001b[38;5;124m\"\u001b[39m\n\u001b[0;32m     83\u001b[0m         \u001b[38;5;124m\"\u001b[39m\u001b[38;5;124mFor information on how to plot larger datasets \u001b[39m\u001b[38;5;124m\"\u001b[39m\n\u001b[0;32m     84\u001b[0m         \u001b[38;5;124m\"\u001b[39m\u001b[38;5;124min Altair, see the documentation\u001b[39m\u001b[38;5;124m\"\u001b[39m\u001b[38;5;241m.\u001b[39mformat(max_rows)\n\u001b[0;32m     85\u001b[0m     )\n\u001b[0;32m     86\u001b[0m \u001b[38;5;28;01mreturn\u001b[39;00m data\n",
      "\u001b[1;31mMaxRowsError\u001b[0m: The number of rows in your dataset is greater than the maximum allowed (5000). For information on how to plot larger datasets in Altair, see the documentation"
     ]
    },
    {
     "data": {
      "text/plain": [
       "alt.HConcatChart(...)"
      ]
     },
     "execution_count": 93,
     "metadata": {},
     "output_type": "execute_result"
    }
   ],
   "source": [
    "artist_embedding_norm([reg_model])"
   ]
  },
  {
   "attachments": {},
   "cell_type": "markdown",
   "metadata": {},
   "source": [
    "##### t-SNE Embeddings\n",
    "- The embeddings are all in an ellipse except for some outliers like britney spears. \n",
    "- On the top we have artists like pitbull, known for pop music, while on the bottom you have more Ray Lynch known for his new age instrumental music."
   ]
  },
  {
   "cell_type": "code",
   "execution_count": 94,
   "metadata": {
    "execution": {
     "iopub.execute_input": "2022-12-17T19:43:14.979536Z",
     "iopub.status.busy": "2022-12-17T19:43:14.978879Z",
     "iopub.status.idle": "2022-12-17T19:44:44.052105Z",
     "shell.execute_reply": "2022-12-17T19:44:44.051305Z",
     "shell.execute_reply.started": "2022-12-17T19:43:14.979536Z"
    }
   },
   "outputs": [
    {
     "name": "stdout",
     "output_type": "stream",
     "text": [
      "Running t-SNE...\n"
     ]
    },
    {
     "ename": "MaxRowsError",
     "evalue": "The number of rows in your dataset is greater than the maximum allowed (5000). For information on how to plot larger datasets in Altair, see the documentation",
     "output_type": "error",
     "traceback": [
      "\u001b[1;31m---------------------------------------------------------------------------\u001b[0m",
      "\u001b[1;31mMaxRowsError\u001b[0m                              Traceback (most recent call last)",
      "File \u001b[1;32mc:\\Users\\Diarmuid\\anaconda3\\envs\\RecSys\\lib\\site-packages\\altair\\vegalite\\v4\\api.py:374\u001b[0m, in \u001b[0;36mTopLevelMixin.to_dict\u001b[1;34m(self, *args, **kwargs)\u001b[0m\n\u001b[0;32m    372\u001b[0m copy \u001b[38;5;241m=\u001b[39m \u001b[38;5;28mself\u001b[39m\u001b[38;5;241m.\u001b[39mcopy(deep\u001b[38;5;241m=\u001b[39m\u001b[38;5;28;01mFalse\u001b[39;00m)\n\u001b[0;32m    373\u001b[0m original_data \u001b[38;5;241m=\u001b[39m \u001b[38;5;28mgetattr\u001b[39m(copy, \u001b[38;5;124m\"\u001b[39m\u001b[38;5;124mdata\u001b[39m\u001b[38;5;124m\"\u001b[39m, Undefined)\n\u001b[1;32m--> 374\u001b[0m copy\u001b[38;5;241m.\u001b[39mdata \u001b[38;5;241m=\u001b[39m \u001b[43m_prepare_data\u001b[49m\u001b[43m(\u001b[49m\u001b[43moriginal_data\u001b[49m\u001b[43m,\u001b[49m\u001b[43m \u001b[49m\u001b[43mcontext\u001b[49m\u001b[43m)\u001b[49m\n\u001b[0;32m    376\u001b[0m \u001b[38;5;28;01mif\u001b[39;00m original_data \u001b[38;5;129;01mis\u001b[39;00m \u001b[38;5;129;01mnot\u001b[39;00m Undefined:\n\u001b[0;32m    377\u001b[0m     context[\u001b[38;5;124m\"\u001b[39m\u001b[38;5;124mdata\u001b[39m\u001b[38;5;124m\"\u001b[39m] \u001b[38;5;241m=\u001b[39m original_data\n",
      "File \u001b[1;32mc:\\Users\\Diarmuid\\anaconda3\\envs\\RecSys\\lib\\site-packages\\altair\\vegalite\\v4\\api.py:89\u001b[0m, in \u001b[0;36m_prepare_data\u001b[1;34m(data, context)\u001b[0m\n\u001b[0;32m     87\u001b[0m \u001b[38;5;66;03m# convert dataframes  or objects with __geo_interface__ to dict\u001b[39;00m\n\u001b[0;32m     88\u001b[0m \u001b[38;5;28;01mif\u001b[39;00m \u001b[38;5;28misinstance\u001b[39m(data, pd\u001b[38;5;241m.\u001b[39mDataFrame) \u001b[38;5;129;01mor\u001b[39;00m \u001b[38;5;28mhasattr\u001b[39m(data, \u001b[38;5;124m\"\u001b[39m\u001b[38;5;124m__geo_interface__\u001b[39m\u001b[38;5;124m\"\u001b[39m):\n\u001b[1;32m---> 89\u001b[0m     data \u001b[38;5;241m=\u001b[39m \u001b[43m_pipe\u001b[49m\u001b[43m(\u001b[49m\u001b[43mdata\u001b[49m\u001b[43m,\u001b[49m\u001b[43m \u001b[49m\u001b[43mdata_transformers\u001b[49m\u001b[38;5;241;43m.\u001b[39;49m\u001b[43mget\u001b[49m\u001b[43m(\u001b[49m\u001b[43m)\u001b[49m\u001b[43m)\u001b[49m\n\u001b[0;32m     91\u001b[0m \u001b[38;5;66;03m# convert string input to a URLData\u001b[39;00m\n\u001b[0;32m     92\u001b[0m \u001b[38;5;28;01mif\u001b[39;00m \u001b[38;5;28misinstance\u001b[39m(data, \u001b[38;5;28mstr\u001b[39m):\n",
      "File \u001b[1;32mc:\\Users\\Diarmuid\\anaconda3\\envs\\RecSys\\lib\\site-packages\\toolz\\functoolz.py:628\u001b[0m, in \u001b[0;36mpipe\u001b[1;34m(data, *funcs)\u001b[0m\n\u001b[0;32m    608\u001b[0m \u001b[38;5;124;03m\"\"\" Pipe a value through a sequence of functions\u001b[39;00m\n\u001b[0;32m    609\u001b[0m \n\u001b[0;32m    610\u001b[0m \u001b[38;5;124;03mI.e. ``pipe(data, f, g, h)`` is equivalent to ``h(g(f(data)))``\u001b[39;00m\n\u001b[1;32m   (...)\u001b[0m\n\u001b[0;32m    625\u001b[0m \u001b[38;5;124;03m    thread_last\u001b[39;00m\n\u001b[0;32m    626\u001b[0m \u001b[38;5;124;03m\"\"\"\u001b[39;00m\n\u001b[0;32m    627\u001b[0m \u001b[38;5;28;01mfor\u001b[39;00m func \u001b[38;5;129;01min\u001b[39;00m funcs:\n\u001b[1;32m--> 628\u001b[0m     data \u001b[38;5;241m=\u001b[39m \u001b[43mfunc\u001b[49m\u001b[43m(\u001b[49m\u001b[43mdata\u001b[49m\u001b[43m)\u001b[49m\n\u001b[0;32m    629\u001b[0m \u001b[38;5;28;01mreturn\u001b[39;00m data\n",
      "File \u001b[1;32mc:\\Users\\Diarmuid\\anaconda3\\envs\\RecSys\\lib\\site-packages\\toolz\\functoolz.py:304\u001b[0m, in \u001b[0;36mcurry.__call__\u001b[1;34m(self, *args, **kwargs)\u001b[0m\n\u001b[0;32m    302\u001b[0m \u001b[38;5;28;01mdef\u001b[39;00m \u001b[38;5;21m__call__\u001b[39m(\u001b[38;5;28mself\u001b[39m, \u001b[38;5;241m*\u001b[39margs, \u001b[38;5;241m*\u001b[39m\u001b[38;5;241m*\u001b[39mkwargs):\n\u001b[0;32m    303\u001b[0m     \u001b[38;5;28;01mtry\u001b[39;00m:\n\u001b[1;32m--> 304\u001b[0m         \u001b[38;5;28;01mreturn\u001b[39;00m \u001b[38;5;28mself\u001b[39m\u001b[38;5;241m.\u001b[39m_partial(\u001b[38;5;241m*\u001b[39margs, \u001b[38;5;241m*\u001b[39m\u001b[38;5;241m*\u001b[39mkwargs)\n\u001b[0;32m    305\u001b[0m     \u001b[38;5;28;01mexcept\u001b[39;00m \u001b[38;5;167;01mTypeError\u001b[39;00m \u001b[38;5;28;01mas\u001b[39;00m exc:\n\u001b[0;32m    306\u001b[0m         \u001b[38;5;28;01mif\u001b[39;00m \u001b[38;5;28mself\u001b[39m\u001b[38;5;241m.\u001b[39m_should_curry(args, kwargs, exc):\n",
      "File \u001b[1;32mc:\\Users\\Diarmuid\\anaconda3\\envs\\RecSys\\lib\\site-packages\\altair\\vegalite\\data.py:19\u001b[0m, in \u001b[0;36mdefault_data_transformer\u001b[1;34m(data, max_rows)\u001b[0m\n\u001b[0;32m     17\u001b[0m \u001b[38;5;129m@curried\u001b[39m\u001b[38;5;241m.\u001b[39mcurry\n\u001b[0;32m     18\u001b[0m \u001b[38;5;28;01mdef\u001b[39;00m \u001b[38;5;21mdefault_data_transformer\u001b[39m(data, max_rows\u001b[38;5;241m=\u001b[39m\u001b[38;5;241m5000\u001b[39m):\n\u001b[1;32m---> 19\u001b[0m     \u001b[38;5;28;01mreturn\u001b[39;00m \u001b[43mcurried\u001b[49m\u001b[38;5;241;43m.\u001b[39;49m\u001b[43mpipe\u001b[49m\u001b[43m(\u001b[49m\u001b[43mdata\u001b[49m\u001b[43m,\u001b[49m\u001b[43m \u001b[49m\u001b[43mlimit_rows\u001b[49m\u001b[43m(\u001b[49m\u001b[43mmax_rows\u001b[49m\u001b[38;5;241;43m=\u001b[39;49m\u001b[43mmax_rows\u001b[49m\u001b[43m)\u001b[49m\u001b[43m,\u001b[49m\u001b[43m \u001b[49m\u001b[43mto_values\u001b[49m\u001b[43m)\u001b[49m\n",
      "File \u001b[1;32mc:\\Users\\Diarmuid\\anaconda3\\envs\\RecSys\\lib\\site-packages\\toolz\\functoolz.py:628\u001b[0m, in \u001b[0;36mpipe\u001b[1;34m(data, *funcs)\u001b[0m\n\u001b[0;32m    608\u001b[0m \u001b[38;5;124;03m\"\"\" Pipe a value through a sequence of functions\u001b[39;00m\n\u001b[0;32m    609\u001b[0m \n\u001b[0;32m    610\u001b[0m \u001b[38;5;124;03mI.e. ``pipe(data, f, g, h)`` is equivalent to ``h(g(f(data)))``\u001b[39;00m\n\u001b[1;32m   (...)\u001b[0m\n\u001b[0;32m    625\u001b[0m \u001b[38;5;124;03m    thread_last\u001b[39;00m\n\u001b[0;32m    626\u001b[0m \u001b[38;5;124;03m\"\"\"\u001b[39;00m\n\u001b[0;32m    627\u001b[0m \u001b[38;5;28;01mfor\u001b[39;00m func \u001b[38;5;129;01min\u001b[39;00m funcs:\n\u001b[1;32m--> 628\u001b[0m     data \u001b[38;5;241m=\u001b[39m \u001b[43mfunc\u001b[49m\u001b[43m(\u001b[49m\u001b[43mdata\u001b[49m\u001b[43m)\u001b[49m\n\u001b[0;32m    629\u001b[0m \u001b[38;5;28;01mreturn\u001b[39;00m data\n",
      "File \u001b[1;32mc:\\Users\\Diarmuid\\anaconda3\\envs\\RecSys\\lib\\site-packages\\toolz\\functoolz.py:304\u001b[0m, in \u001b[0;36mcurry.__call__\u001b[1;34m(self, *args, **kwargs)\u001b[0m\n\u001b[0;32m    302\u001b[0m \u001b[38;5;28;01mdef\u001b[39;00m \u001b[38;5;21m__call__\u001b[39m(\u001b[38;5;28mself\u001b[39m, \u001b[38;5;241m*\u001b[39margs, \u001b[38;5;241m*\u001b[39m\u001b[38;5;241m*\u001b[39mkwargs):\n\u001b[0;32m    303\u001b[0m     \u001b[38;5;28;01mtry\u001b[39;00m:\n\u001b[1;32m--> 304\u001b[0m         \u001b[38;5;28;01mreturn\u001b[39;00m \u001b[38;5;28mself\u001b[39m\u001b[38;5;241m.\u001b[39m_partial(\u001b[38;5;241m*\u001b[39margs, \u001b[38;5;241m*\u001b[39m\u001b[38;5;241m*\u001b[39mkwargs)\n\u001b[0;32m    305\u001b[0m     \u001b[38;5;28;01mexcept\u001b[39;00m \u001b[38;5;167;01mTypeError\u001b[39;00m \u001b[38;5;28;01mas\u001b[39;00m exc:\n\u001b[0;32m    306\u001b[0m         \u001b[38;5;28;01mif\u001b[39;00m \u001b[38;5;28mself\u001b[39m\u001b[38;5;241m.\u001b[39m_should_curry(args, kwargs, exc):\n",
      "File \u001b[1;32mc:\\Users\\Diarmuid\\anaconda3\\envs\\RecSys\\lib\\site-packages\\altair\\utils\\data.py:80\u001b[0m, in \u001b[0;36mlimit_rows\u001b[1;34m(data, max_rows)\u001b[0m\n\u001b[0;32m     78\u001b[0m         \u001b[38;5;28;01mreturn\u001b[39;00m data\n\u001b[0;32m     79\u001b[0m \u001b[38;5;28;01mif\u001b[39;00m max_rows \u001b[38;5;129;01mis\u001b[39;00m \u001b[38;5;129;01mnot\u001b[39;00m \u001b[38;5;28;01mNone\u001b[39;00m \u001b[38;5;129;01mand\u001b[39;00m \u001b[38;5;28mlen\u001b[39m(values) \u001b[38;5;241m>\u001b[39m max_rows:\n\u001b[1;32m---> 80\u001b[0m     \u001b[38;5;28;01mraise\u001b[39;00m MaxRowsError(\n\u001b[0;32m     81\u001b[0m         \u001b[38;5;124m\"\u001b[39m\u001b[38;5;124mThe number of rows in your dataset is greater \u001b[39m\u001b[38;5;124m\"\u001b[39m\n\u001b[0;32m     82\u001b[0m         \u001b[38;5;124m\"\u001b[39m\u001b[38;5;124mthan the maximum allowed (\u001b[39m\u001b[38;5;132;01m{}\u001b[39;00m\u001b[38;5;124m). \u001b[39m\u001b[38;5;124m\"\u001b[39m\n\u001b[0;32m     83\u001b[0m         \u001b[38;5;124m\"\u001b[39m\u001b[38;5;124mFor information on how to plot larger datasets \u001b[39m\u001b[38;5;124m\"\u001b[39m\n\u001b[0;32m     84\u001b[0m         \u001b[38;5;124m\"\u001b[39m\u001b[38;5;124min Altair, see the documentation\u001b[39m\u001b[38;5;124m\"\u001b[39m\u001b[38;5;241m.\u001b[39mformat(max_rows)\n\u001b[0;32m     85\u001b[0m     )\n\u001b[0;32m     86\u001b[0m \u001b[38;5;28;01mreturn\u001b[39;00m data\n",
      "\u001b[1;31mMaxRowsError\u001b[0m: The number of rows in your dataset is greater than the maximum allowed (5000). For information on how to plot larger datasets in Altair, see the documentation"
     ]
    },
    {
     "data": {
      "text/plain": [
       "alt.HConcatChart(...)"
      ]
     },
     "execution_count": 94,
     "metadata": {},
     "output_type": "execute_result"
    }
   ],
   "source": [
    "tsne_artist_embeddings(reg_model)"
   ]
  },
  {
   "attachments": {},
   "cell_type": "markdown",
   "metadata": {
    "tags": []
   },
   "source": [
    "## SoftMax Model Functions\n",
    "- This section contains a number of functions used to build and develop the softmax model."
   ]
  },
  {
   "cell_type": "code",
   "execution_count": 95,
   "metadata": {
    "execution": {
     "iopub.execute_input": "2022-12-17T19:44:44.055105Z",
     "iopub.status.busy": "2022-12-17T19:44:44.054104Z",
     "iopub.status.idle": "2022-12-17T19:44:45.269241Z",
     "shell.execute_reply": "2022-12-17T19:44:45.268322Z",
     "shell.execute_reply.started": "2022-12-17T19:44:44.055105Z"
    }
   },
   "outputs": [],
   "source": [
    "df_artists = df_artists.merge(\n",
    "    df_user_artist[[\"UserId\", \"ArtistId\"]]\n",
    "    .groupby(\"ArtistId\")[\"UserId\"]\n",
    "    .aggregate(lambda x: list(x)).rename('Listeners').reset_index(),\n",
    "    left_on=\"ArtistId\",\n",
    "    right_on=\"ArtistId\",\n",
    "    how=\"left\",\n",
    ")\n"
   ]
  },
  {
   "cell_type": "code",
   "execution_count": 96,
   "metadata": {
    "execution": {
     "iopub.execute_input": "2022-12-17T19:44:45.271342Z",
     "iopub.status.busy": "2022-12-17T19:44:45.271342Z",
     "iopub.status.idle": "2022-12-17T19:44:45.316239Z",
     "shell.execute_reply": "2022-12-17T19:44:45.315523Z",
     "shell.execute_reply.started": "2022-12-17T19:44:45.271342Z"
    },
    "tags": []
   },
   "outputs": [],
   "source": [
    "mean_dict = {\n",
    "    artist: mean_listen_time for artist, mean_listen_time in zip(df_artists[\"ArtistId\"], df_artists[\"MeanListenTime\"])\n",
    "}\n",
    "tag_dict = {\n",
    "    artist: tags\n",
    "    for artist, tags in zip(df_artists[\"ArtistId\"], df_artists[\"AllTags\"])\n",
    "}\n",
    "user_dict = {\n",
    "    artist: users\n",
    "    for artist, users in zip(df_artists[\"ArtistId\"], df_artists[\"Listeners\"])\n",
    "}"
   ]
  },
  {
   "attachments": {},
   "cell_type": "markdown",
   "metadata": {},
   "source": [
    "### Make Batch"
   ]
  },
  {
   "cell_type": "code",
   "execution_count": 97,
   "metadata": {
    "execution": {
     "iopub.execute_input": "2022-12-17T19:44:45.318241Z",
     "iopub.status.busy": "2022-12-17T19:44:45.318241Z",
     "iopub.status.idle": "2022-12-17T19:44:45.332242Z",
     "shell.execute_reply": "2022-12-17T19:44:45.331295Z",
     "shell.execute_reply.started": "2022-12-17T19:44:45.318241Z"
    },
    "tags": []
   },
   "outputs": [],
   "source": [
    "def make_batch(df_user_artists, batch_size):\n",
    "    \"\"\"Creates a batch of examples.\n",
    "    Args:\n",
    "      df_user_artists: A DataFrame of ratings such that examples[\"ArtistId\"] is a list of\n",
    "        artists listened to by a user.\n",
    "      batch_size: The batch size.\n",
    "    \"\"\"\n",
    "\n",
    "    def pad(x, fill):\n",
    "        return pd.DataFrame.from_dict(x).fillna(fill).values\n",
    "\n",
    "    artist = []\n",
    "    tag = []\n",
    "    label = []\n",
    "    for artist_ids in df_user_artists[\"ArtistId\"].values:\n",
    "        artist.append(artist_ids)\n",
    "        tag.append([x for artist_id in artist_ids for x in tag_dict[artist_id]])\n",
    "        label.append([int(artist_id) for artist_id in artist_ids])\n",
    "        \n",
    "    features = {\n",
    "        \"ArtistId\": pad(artist, \"\"),\n",
    "        \"TopTag\": pad(tag, \"\"),\n",
    "        \"Label\": pad(label, -1),\n",
    "    }\n",
    "    batch = (\n",
    "        tf.data.Dataset.from_tensor_slices(features)\n",
    "        .shuffle(1000)\n",
    "        .repeat()\n",
    "        .batch(batch_size)\n",
    "        .make_one_shot_iterator()\n",
    "        .get_next()\n",
    "    )\n",
    "    return batch\n"
   ]
  },
  {
   "attachments": {},
   "cell_type": "markdown",
   "metadata": {},
   "source": [
    "### Select Random"
   ]
  },
  {
   "cell_type": "code",
   "execution_count": 98,
   "metadata": {
    "execution": {
     "iopub.execute_input": "2022-12-17T19:44:45.334242Z",
     "iopub.status.busy": "2022-12-17T19:44:45.334242Z",
     "iopub.status.idle": "2022-12-17T19:44:45.347272Z",
     "shell.execute_reply": "2022-12-17T19:44:45.346243Z",
     "shell.execute_reply.started": "2022-12-17T19:44:45.334242Z"
    },
    "tags": []
   },
   "outputs": [],
   "source": [
    "def select_random(x):\n",
    "    \"\"\"Selectes a random elements from each row of x.\"\"\"\n",
    "    def to_float(x):\n",
    "        return tf.cast(x, tf.float32)\n",
    "    def to_int(x):\n",
    "        return tf.cast(x, tf.int64)\n",
    "    batch_size = tf.shape(x)[0]\n",
    "    rn = tf.range(batch_size)\n",
    "    nnz = to_float(tf.count_nonzero(x >= 0, axis=1))\n",
    "    rnd = tf.random_uniform([batch_size])\n",
    "    ids = tf.stack([to_int(rn), to_int(nnz * rnd)], axis=1)\n",
    "    return to_int(tf.gather_nd(x, ids))"
   ]
  },
  {
   "attachments": {},
   "cell_type": "markdown",
   "metadata": {},
   "source": [
    "### Softmax Loss"
   ]
  },
  {
   "cell_type": "code",
   "execution_count": 99,
   "metadata": {
    "execution": {
     "iopub.execute_input": "2022-12-17T19:44:45.349541Z",
     "iopub.status.busy": "2022-12-17T19:44:45.349242Z",
     "iopub.status.idle": "2022-12-17T19:44:45.363240Z",
     "shell.execute_reply": "2022-12-17T19:44:45.362306Z",
     "shell.execute_reply.started": "2022-12-17T19:44:45.349541Z"
    },
    "tags": []
   },
   "outputs": [],
   "source": [
    "def softmax_loss(user_embeddings, artist_embeddings, labels):\n",
    "    \"\"\"Returns the cross-entropy loss of the softmax model.\n",
    "    Args:\n",
    "      user_embeddings: A tensor of shape [batch_size, embedding_dim].\n",
    "      artist_embeddings: A tensor of shape [num_artists, embedding_dim].\n",
    "      labels: A tensor of [batch_size], such that labels[i] is the target label\n",
    "        for example i.\n",
    "    Returns:\n",
    "      The mean cross-entropy loss.\n",
    "    \"\"\"\n",
    "    # Verify that the embddings have compatible dimensions\n",
    "    user_emb_dim = user_embeddings.shape[1].value\n",
    "    artist_emb_dim = artist_embeddings.shape[1].value\n",
    "    if user_emb_dim != artist_emb_dim:\n",
    "        raise ValueError(\n",
    "            \"The user embedding dimension %d should match the artist embedding \"\n",
    "            \"dimension % d\" % (user_emb_dim, artist_emb_dim)\n",
    "        )\n",
    "\n",
    "    logits = tf.matmul(user_embeddings, artist_embeddings, transpose_b=True)\n",
    "    loss = tf.reduce_mean(\n",
    "        tf.nn.sparse_softmax_cross_entropy_with_logits(logits=logits, labels=labels)\n",
    "    )\n",
    "    return loss\n"
   ]
  },
  {
   "attachments": {},
   "cell_type": "markdown",
   "metadata": {},
   "source": [
    "### Build Softmax Model"
   ]
  },
  {
   "cell_type": "code",
   "execution_count": 100,
   "metadata": {
    "execution": {
     "iopub.execute_input": "2022-12-17T19:44:45.366239Z",
     "iopub.status.busy": "2022-12-17T19:44:45.365240Z",
     "iopub.status.idle": "2022-12-17T19:44:45.394779Z",
     "shell.execute_reply": "2022-12-17T19:44:45.393779Z",
     "shell.execute_reply.started": "2022-12-17T19:44:45.366239Z"
    },
    "tags": []
   },
   "outputs": [],
   "source": [
    "def build_softmax_model(df_user_artists, embedding_cols, hidden_dims):\n",
    "    \"\"\"Builds a Softmax model for LastFM data.\n",
    "    Args:\n",
    "      df_user_artists: DataFrame of training examples.\n",
    "      embedding_cols: A dictionary mapping feature names (string) to embedding\n",
    "        column objects. This will be used in tf.feature_column.input_layer() to\n",
    "        create the input layer.\n",
    "      hidden_dims: int list of the dimensions of the hidden layers.\n",
    "    Returns:\n",
    "      A CFModel object.\n",
    "    \"\"\"\n",
    "\n",
    "    def create_network(features):\n",
    "        \"\"\"Maps input features dictionary to user embeddings.\n",
    "        Args:\n",
    "          features: A dictionary of input string tensors.\n",
    "        Returns:\n",
    "          outputs: A tensor of shape [batch_size, embedding_dim].\n",
    "        \"\"\"\n",
    "        # Create a bag-of-words embedding for each sparse feature.\n",
    "        inputs = tf.feature_column.input_layer(features, embedding_cols)\n",
    "\n",
    "        # Hidden layers.\n",
    "        input_dim = inputs.shape[1].value\n",
    "        for i, output_dim in enumerate(hidden_dims):\n",
    "            w = (\n",
    "                tf.get_variable(\n",
    "                    \"hidden%d_w_\" % i,\n",
    "                    shape=[input_dim, output_dim],\n",
    "                    initializer=tf.truncated_normal_initializer(\n",
    "                        stddev=1.0 / np.sqrt(output_dim)\n",
    "                    ),\n",
    "                )\n",
    "                / 10.0\n",
    "            )\n",
    "            outputs = tf.matmul(inputs, w)\n",
    "            input_dim = output_dim\n",
    "            inputs = outputs\n",
    "        return outputs\n",
    "\n",
    "    train_artists_grouped_user, test_artists_grouped_user = split_dataframe(df_user_artists)\n",
    "    train_batch = make_batch(train_artists_grouped_user, 200)\n",
    "    test_batch = make_batch(test_artists_grouped_user, 100)\n",
    "\n",
    "    with tf.variable_scope(\"model\", reuse=False):\n",
    "        # Train\n",
    "        train_user_embeddings = create_network(train_batch)\n",
    "        train_labels = select_random(train_batch[\"Label\"])\n",
    "    with tf.variable_scope(\"model\", reuse=True):\n",
    "        # Test\n",
    "        test_user_embeddings = create_network(test_batch)\n",
    "        test_labels = select_random(test_batch[\"Label\"])\n",
    "        artist_embeddings = tf.get_variable(\n",
    "            \"input_layer/ArtistId_embedding/embedding_weights\"\n",
    "        )\n",
    "\n",
    "    test_loss = softmax_loss(test_user_embeddings, artist_embeddings, test_labels)\n",
    "    train_loss = softmax_loss(train_user_embeddings, artist_embeddings, train_labels)\n",
    "    _, test_precision_at_10 = tf.metrics.precision_at_k(\n",
    "        labels=test_labels,\n",
    "        predictions=tf.matmul(\n",
    "            test_user_embeddings, artist_embeddings, transpose_b=True\n",
    "        ),\n",
    "        k=10,\n",
    "    )\n",
    "\n",
    "    metrics = (\n",
    "        {\"train_loss\": train_loss, \"test_loss\": test_loss},\n",
    "        {\"test_precision_at_10\": test_precision_at_10},\n",
    "    )\n",
    "    embeddings = {\"ArtistId\": artist_embeddings}\n",
    "    return CFModel(embeddings, train_loss, metrics)\n"
   ]
  },
  {
   "attachments": {},
   "cell_type": "markdown",
   "metadata": {},
   "source": [
    "### Make Embedding Col"
   ]
  },
  {
   "cell_type": "code",
   "execution_count": 101,
   "metadata": {
    "execution": {
     "iopub.execute_input": "2022-12-17T19:44:45.398778Z",
     "iopub.status.busy": "2022-12-17T19:44:45.397779Z",
     "iopub.status.idle": "2022-12-17T19:44:45.410777Z",
     "shell.execute_reply": "2022-12-17T19:44:45.409883Z",
     "shell.execute_reply.started": "2022-12-17T19:44:45.398778Z"
    },
    "tags": []
   },
   "outputs": [],
   "source": [
    "def make_embedding_col(key, embedding_dim):\n",
    "    if key =='MeanListenTime': t = 'int'\n",
    "    else: t = 'str'\n",
    "    categorical_col = tf.feature_column.categorical_column_with_vocabulary_list(\n",
    "        key=key, vocabulary_list=list(set(df_artists[key].astype(t).values)), num_oov_buckets=0\n",
    "    )\n",
    "    return tf.feature_column.embedding_column(\n",
    "        categorical_column=categorical_col,\n",
    "        dimension=embedding_dim,\n",
    "        # default initializer: trancated normal with stddev=1/sqrt(dimension)\n",
    "        combiner=\"mean\",\n",
    "    )"
   ]
  },
  {
   "attachments": {},
   "cell_type": "markdown",
   "metadata": {},
   "source": [
    "## Running Softmax Functions"
   ]
  },
  {
   "cell_type": "code",
   "execution_count": 102,
   "metadata": {
    "execution": {
     "iopub.execute_input": "2022-12-17T19:44:45.413776Z",
     "iopub.status.busy": "2022-12-17T19:44:45.412780Z",
     "iopub.status.idle": "2022-12-17T20:13:35.390681Z",
     "shell.execute_reply": "2022-12-17T20:13:35.389678Z",
     "shell.execute_reply.started": "2022-12-17T19:44:45.413776Z"
    },
    "tags": []
   },
   "outputs": [
    {
     "name": "stdout",
     "output_type": "stream",
     "text": [
      " iteration 3000: train_loss=9.777168, test_loss=9.777109, test_precision_at_10=0.000085"
     ]
    },
    {
     "data": {
      "text/plain": [
       "({'train_loss': 9.777168, 'test_loss': 9.777109},\n",
       " {'test_precision_at_10': 8.530489836721093e-05})"
      ]
     },
     "execution_count": 102,
     "metadata": {},
     "output_type": "execute_result"
    },
    {
     "data": {
      "image/png": "[encoded data removed]",
      "text/plain": [
       "<Figure size 3000x800 with 2 Axes>"
      ]
     },
     "metadata": {},
     "output_type": "display_data"
    }
   ],
   "source": [
    "with tf.Graph().as_default():\n",
    "    softmax_model = build_softmax_model(\n",
    "        df_user_artists,\n",
    "        embedding_cols=[\n",
    "            make_embedding_col(\"ArtistId\", 35),\n",
    "            make_embedding_col(\"TopTag\", 3),\n",
    "        ],\n",
    "        hidden_dims=[35],\n",
    "    )\n",
    "\n",
    "softmax_model.train(\n",
    "    learning_rate=0.1, num_iterations=3000, optimizer=tf.train.AdagradOptimizer\n",
    ")\n"
   ]
  },
  {
   "attachments": {},
   "cell_type": "markdown",
   "metadata": {},
   "source": [
    "##### Model Performance\n",
    "- The softmax model has massively improved performance in comparison to the other two models\n",
    "- The model also does not over fit which is a huge improvement. The test and train loss are very similar.\n",
    "- The precision improves with each training iteration."
   ]
  },
  {
   "attachments": {},
   "cell_type": "markdown",
   "metadata": {},
   "source": [
    "##### Artist Neighbors\n",
    "- Unfortunately, the neighbors for Kanye West are no better for the softmax model.\n",
    "- Hayden Panettiere is a really strange neighbor. She was once an actor in Heroes, a really cool tv show."
   ]
  },
  {
   "cell_type": "code",
   "execution_count": 103,
   "metadata": {
    "execution": {
     "iopub.execute_input": "2022-12-17T20:13:35.392682Z",
     "iopub.status.busy": "2022-12-17T20:13:35.392682Z",
     "iopub.status.idle": "2022-12-17T20:13:35.515572Z",
     "shell.execute_reply": "2022-12-17T20:13:35.514632Z",
     "shell.execute_reply.started": "2022-12-17T20:13:35.392682Z"
    },
    "tags": []
   },
   "outputs": [
    {
     "name": "stdout",
     "output_type": "stream",
     "text": [
      "Nearest neighbors of : Kanye West.\n",
      "Found more than one matching artist. Other candidates: Kanye West & Jay-Z, Kanye West, Beyoncé & Charlie Wilson, Kanye West feat. Pusha T MpTri.Net, Eminem feat. Drake, Kanye West, Lil Wayne, The-Dream f. Kanye West, Jamie Foxx feat. Kanye West and The-Dream\n"
     ]
    },
    {
     "data": {
      "text/html": [
       "<div>\n",
       "<style scoped>\n",
       "    .dataframe tbody tr th:only-of-type {\n",
       "        vertical-align: middle;\n",
       "    }\n",
       "\n",
       "    .dataframe tbody tr th {\n",
       "        vertical-align: top;\n",
       "    }\n",
       "\n",
       "    .dataframe thead th {\n",
       "        text-align: right;\n",
       "    }\n",
       "</style>\n",
       "<table border=\"1\" class=\"dataframe\">\n",
       "  <thead>\n",
       "    <tr style=\"text-align: right;\">\n",
       "      <th></th>\n",
       "      <th>dot score</th>\n",
       "      <th>Name</th>\n",
       "      <th>TopTag</th>\n",
       "      <th>AllTags</th>\n",
       "    </tr>\n",
       "  </thead>\n",
       "  <tbody>\n",
       "    <tr>\n",
       "      <th>325</th>\n",
       "      <td>0.715</td>\n",
       "      <td>Kanye West</td>\n",
       "      <td>Hip-hop</td>\n",
       "      <td>[Hip-hop, Rap, Rnb, Rap, HipHop, Favorite, Rap...</td>\n",
       "    </tr>\n",
       "    <tr>\n",
       "      <th>9666</th>\n",
       "      <td>0.461</td>\n",
       "      <td>Fred Hammond &amp; Radical for Christ</td>\n",
       "      <td></td>\n",
       "      <td>[]</td>\n",
       "    </tr>\n",
       "    <tr>\n",
       "      <th>11264</th>\n",
       "      <td>0.460</td>\n",
       "      <td>Stan Getz</td>\n",
       "      <td>Jazz</td>\n",
       "      <td>[Jazz, Jazz, Jazz, Jazz, Jazz, Chillout]</td>\n",
       "    </tr>\n",
       "    <tr>\n",
       "      <th>16963</th>\n",
       "      <td>0.459</td>\n",
       "      <td>Amparanoia</td>\n",
       "      <td>World</td>\n",
       "      <td>[World]</td>\n",
       "    </tr>\n",
       "    <tr>\n",
       "      <th>9997</th>\n",
       "      <td>0.457</td>\n",
       "      <td>İclal Aydın</td>\n",
       "      <td></td>\n",
       "      <td>[]</td>\n",
       "    </tr>\n",
       "    <tr>\n",
       "      <th>6913</th>\n",
       "      <td>0.456</td>\n",
       "      <td>The \"K\"</td>\n",
       "      <td>Uk</td>\n",
       "      <td>[Uk]</td>\n",
       "    </tr>\n",
       "  </tbody>\n",
       "</table>\n",
       "</div>"
      ],
      "text/plain": [
       "       dot score                               Name   TopTag  \\\n",
       "325        0.715                         Kanye West  Hip-hop   \n",
       "9666       0.461  Fred Hammond & Radical for Christ            \n",
       "11264      0.460                          Stan Getz     Jazz   \n",
       "16963      0.459                         Amparanoia    World   \n",
       "9997       0.457                        İclal Aydın            \n",
       "6913       0.456                            The \"K\"       Uk   \n",
       "\n",
       "                                                 AllTags  \n",
       "325    [Hip-hop, Rap, Rnb, Rap, HipHop, Favorite, Rap...  \n",
       "9666                                                  []  \n",
       "11264           [Jazz, Jazz, Jazz, Jazz, Jazz, Chillout]  \n",
       "16963                                            [World]  \n",
       "9997                                                  []  \n",
       "6913                                                [Uk]  "
      ]
     },
     "metadata": {},
     "output_type": "display_data"
    },
    {
     "name": "stdout",
     "output_type": "stream",
     "text": [
      "Nearest neighbors of : Kanye West.\n",
      "Found more than one matching artist. Other candidates: Kanye West & Jay-Z, Kanye West, Beyoncé & Charlie Wilson, Kanye West feat. Pusha T MpTri.Net, Eminem feat. Drake, Kanye West, Lil Wayne, The-Dream f. Kanye West, Jamie Foxx feat. Kanye West and The-Dream\n"
     ]
    },
    {
     "data": {
      "text/html": [
       "<div>\n",
       "<style scoped>\n",
       "    .dataframe tbody tr th:only-of-type {\n",
       "        vertical-align: middle;\n",
       "    }\n",
       "\n",
       "    .dataframe tbody tr th {\n",
       "        vertical-align: top;\n",
       "    }\n",
       "\n",
       "    .dataframe thead th {\n",
       "        text-align: right;\n",
       "    }\n",
       "</style>\n",
       "<table border=\"1\" class=\"dataframe\">\n",
       "  <thead>\n",
       "    <tr style=\"text-align: right;\">\n",
       "      <th></th>\n",
       "      <th>cosine score</th>\n",
       "      <th>Name</th>\n",
       "      <th>TopTag</th>\n",
       "      <th>AllTags</th>\n",
       "    </tr>\n",
       "  </thead>\n",
       "  <tbody>\n",
       "    <tr>\n",
       "      <th>325</th>\n",
       "      <td>1.000</td>\n",
       "      <td>Kanye West</td>\n",
       "      <td>Hip-hop</td>\n",
       "      <td>[Hip-hop, Rap, Rnb, Rap, HipHop, Favorite, Rap...</td>\n",
       "    </tr>\n",
       "    <tr>\n",
       "      <th>16963</th>\n",
       "      <td>0.591</td>\n",
       "      <td>Amparanoia</td>\n",
       "      <td>World</td>\n",
       "      <td>[World]</td>\n",
       "    </tr>\n",
       "    <tr>\n",
       "      <th>16155</th>\n",
       "      <td>0.565</td>\n",
       "      <td>OBK</td>\n",
       "      <td>Pop</td>\n",
       "      <td>[Pop, Synthpop]</td>\n",
       "    </tr>\n",
       "    <tr>\n",
       "      <th>9997</th>\n",
       "      <td>0.564</td>\n",
       "      <td>İclal Aydın</td>\n",
       "      <td></td>\n",
       "      <td>[]</td>\n",
       "    </tr>\n",
       "    <tr>\n",
       "      <th>6913</th>\n",
       "      <td>0.560</td>\n",
       "      <td>The \"K\"</td>\n",
       "      <td>Uk</td>\n",
       "      <td>[Uk]</td>\n",
       "    </tr>\n",
       "    <tr>\n",
       "      <th>10162</th>\n",
       "      <td>0.550</td>\n",
       "      <td>Peter Pan Speedrock</td>\n",
       "      <td></td>\n",
       "      <td>[]</td>\n",
       "    </tr>\n",
       "  </tbody>\n",
       "</table>\n",
       "</div>"
      ],
      "text/plain": [
       "       cosine score                 Name   TopTag  \\\n",
       "325           1.000           Kanye West  Hip-hop   \n",
       "16963         0.591           Amparanoia    World   \n",
       "16155         0.565                  OBK      Pop   \n",
       "9997          0.564          İclal Aydın            \n",
       "6913          0.560              The \"K\"       Uk   \n",
       "10162         0.550  Peter Pan Speedrock            \n",
       "\n",
       "                                                 AllTags  \n",
       "325    [Hip-hop, Rap, Rnb, Rap, HipHop, Favorite, Rap...  \n",
       "16963                                            [World]  \n",
       "16155                                    [Pop, Synthpop]  \n",
       "9997                                                  []  \n",
       "6913                                                [Uk]  \n",
       "10162                                                 []  "
      ]
     },
     "metadata": {},
     "output_type": "display_data"
    }
   ],
   "source": [
    "artist_neighbors(softmax_model, 'Kanye', 'dot')\n",
    "artist_neighbors(softmax_model, 'Kanye', 'cosine')"
   ]
  },
  {
   "attachments": {},
   "cell_type": "markdown",
   "metadata": {},
   "source": [
    "##### Softmax and Regularized Model Embedding Comparison\n",
    "- There is a clear difference in the embeddings for both models\n",
    "- Softmax has no correlation with FanCount\n",
    "- This may shows the improvement in test performance"
   ]
  },
  {
   "cell_type": "code",
   "execution_count": 104,
   "metadata": {
    "execution": {
     "iopub.execute_input": "2022-12-17T20:13:35.517728Z",
     "iopub.status.busy": "2022-12-17T20:13:35.517571Z",
     "iopub.status.idle": "2022-12-17T20:13:35.842604Z",
     "shell.execute_reply": "2022-12-17T20:13:35.841661Z",
     "shell.execute_reply.started": "2022-12-17T20:13:35.517728Z"
    }
   },
   "outputs": [
    {
     "ename": "MaxRowsError",
     "evalue": "The number of rows in your dataset is greater than the maximum allowed (5000). For information on how to plot larger datasets in Altair, see the documentation",
     "output_type": "error",
     "traceback": [
      "\u001b[1;31m---------------------------------------------------------------------------\u001b[0m",
      "\u001b[1;31mMaxRowsError\u001b[0m                              Traceback (most recent call last)",
      "File \u001b[1;32mc:\\Users\\Diarmuid\\anaconda3\\envs\\RecSys\\lib\\site-packages\\altair\\vegalite\\v4\\api.py:374\u001b[0m, in \u001b[0;36mTopLevelMixin.to_dict\u001b[1;34m(self, *args, **kwargs)\u001b[0m\n\u001b[0;32m    372\u001b[0m copy \u001b[38;5;241m=\u001b[39m \u001b[38;5;28mself\u001b[39m\u001b[38;5;241m.\u001b[39mcopy(deep\u001b[38;5;241m=\u001b[39m\u001b[38;5;28;01mFalse\u001b[39;00m)\n\u001b[0;32m    373\u001b[0m original_data \u001b[38;5;241m=\u001b[39m \u001b[38;5;28mgetattr\u001b[39m(copy, \u001b[38;5;124m\"\u001b[39m\u001b[38;5;124mdata\u001b[39m\u001b[38;5;124m\"\u001b[39m, Undefined)\n\u001b[1;32m--> 374\u001b[0m copy\u001b[38;5;241m.\u001b[39mdata \u001b[38;5;241m=\u001b[39m \u001b[43m_prepare_data\u001b[49m\u001b[43m(\u001b[49m\u001b[43moriginal_data\u001b[49m\u001b[43m,\u001b[49m\u001b[43m \u001b[49m\u001b[43mcontext\u001b[49m\u001b[43m)\u001b[49m\n\u001b[0;32m    376\u001b[0m \u001b[38;5;28;01mif\u001b[39;00m original_data \u001b[38;5;129;01mis\u001b[39;00m \u001b[38;5;129;01mnot\u001b[39;00m Undefined:\n\u001b[0;32m    377\u001b[0m     context[\u001b[38;5;124m\"\u001b[39m\u001b[38;5;124mdata\u001b[39m\u001b[38;5;124m\"\u001b[39m] \u001b[38;5;241m=\u001b[39m original_data\n",
      "File \u001b[1;32mc:\\Users\\Diarmuid\\anaconda3\\envs\\RecSys\\lib\\site-packages\\altair\\vegalite\\v4\\api.py:89\u001b[0m, in \u001b[0;36m_prepare_data\u001b[1;34m(data, context)\u001b[0m\n\u001b[0;32m     87\u001b[0m \u001b[38;5;66;03m# convert dataframes  or objects with __geo_interface__ to dict\u001b[39;00m\n\u001b[0;32m     88\u001b[0m \u001b[38;5;28;01mif\u001b[39;00m \u001b[38;5;28misinstance\u001b[39m(data, pd\u001b[38;5;241m.\u001b[39mDataFrame) \u001b[38;5;129;01mor\u001b[39;00m \u001b[38;5;28mhasattr\u001b[39m(data, \u001b[38;5;124m\"\u001b[39m\u001b[38;5;124m__geo_interface__\u001b[39m\u001b[38;5;124m\"\u001b[39m):\n\u001b[1;32m---> 89\u001b[0m     data \u001b[38;5;241m=\u001b[39m \u001b[43m_pipe\u001b[49m\u001b[43m(\u001b[49m\u001b[43mdata\u001b[49m\u001b[43m,\u001b[49m\u001b[43m \u001b[49m\u001b[43mdata_transformers\u001b[49m\u001b[38;5;241;43m.\u001b[39;49m\u001b[43mget\u001b[49m\u001b[43m(\u001b[49m\u001b[43m)\u001b[49m\u001b[43m)\u001b[49m\n\u001b[0;32m     91\u001b[0m \u001b[38;5;66;03m# convert string input to a URLData\u001b[39;00m\n\u001b[0;32m     92\u001b[0m \u001b[38;5;28;01mif\u001b[39;00m \u001b[38;5;28misinstance\u001b[39m(data, \u001b[38;5;28mstr\u001b[39m):\n",
      "File \u001b[1;32mc:\\Users\\Diarmuid\\anaconda3\\envs\\RecSys\\lib\\site-packages\\toolz\\functoolz.py:628\u001b[0m, in \u001b[0;36mpipe\u001b[1;34m(data, *funcs)\u001b[0m\n\u001b[0;32m    608\u001b[0m \u001b[38;5;124;03m\"\"\" Pipe a value through a sequence of functions\u001b[39;00m\n\u001b[0;32m    609\u001b[0m \n\u001b[0;32m    610\u001b[0m \u001b[38;5;124;03mI.e. ``pipe(data, f, g, h)`` is equivalent to ``h(g(f(data)))``\u001b[39;00m\n\u001b[1;32m   (...)\u001b[0m\n\u001b[0;32m    625\u001b[0m \u001b[38;5;124;03m    thread_last\u001b[39;00m\n\u001b[0;32m    626\u001b[0m \u001b[38;5;124;03m\"\"\"\u001b[39;00m\n\u001b[0;32m    627\u001b[0m \u001b[38;5;28;01mfor\u001b[39;00m func \u001b[38;5;129;01min\u001b[39;00m funcs:\n\u001b[1;32m--> 628\u001b[0m     data \u001b[38;5;241m=\u001b[39m \u001b[43mfunc\u001b[49m\u001b[43m(\u001b[49m\u001b[43mdata\u001b[49m\u001b[43m)\u001b[49m\n\u001b[0;32m    629\u001b[0m \u001b[38;5;28;01mreturn\u001b[39;00m data\n",
      "File \u001b[1;32mc:\\Users\\Diarmuid\\anaconda3\\envs\\RecSys\\lib\\site-packages\\toolz\\functoolz.py:304\u001b[0m, in \u001b[0;36mcurry.__call__\u001b[1;34m(self, *args, **kwargs)\u001b[0m\n\u001b[0;32m    302\u001b[0m \u001b[38;5;28;01mdef\u001b[39;00m \u001b[38;5;21m__call__\u001b[39m(\u001b[38;5;28mself\u001b[39m, \u001b[38;5;241m*\u001b[39margs, \u001b[38;5;241m*\u001b[39m\u001b[38;5;241m*\u001b[39mkwargs):\n\u001b[0;32m    303\u001b[0m     \u001b[38;5;28;01mtry\u001b[39;00m:\n\u001b[1;32m--> 304\u001b[0m         \u001b[38;5;28;01mreturn\u001b[39;00m \u001b[38;5;28mself\u001b[39m\u001b[38;5;241m.\u001b[39m_partial(\u001b[38;5;241m*\u001b[39margs, \u001b[38;5;241m*\u001b[39m\u001b[38;5;241m*\u001b[39mkwargs)\n\u001b[0;32m    305\u001b[0m     \u001b[38;5;28;01mexcept\u001b[39;00m \u001b[38;5;167;01mTypeError\u001b[39;00m \u001b[38;5;28;01mas\u001b[39;00m exc:\n\u001b[0;32m    306\u001b[0m         \u001b[38;5;28;01mif\u001b[39;00m \u001b[38;5;28mself\u001b[39m\u001b[38;5;241m.\u001b[39m_should_curry(args, kwargs, exc):\n",
      "File \u001b[1;32mc:\\Users\\Diarmuid\\anaconda3\\envs\\RecSys\\lib\\site-packages\\altair\\vegalite\\data.py:19\u001b[0m, in \u001b[0;36mdefault_data_transformer\u001b[1;34m(data, max_rows)\u001b[0m\n\u001b[0;32m     17\u001b[0m \u001b[38;5;129m@curried\u001b[39m\u001b[38;5;241m.\u001b[39mcurry\n\u001b[0;32m     18\u001b[0m \u001b[38;5;28;01mdef\u001b[39;00m \u001b[38;5;21mdefault_data_transformer\u001b[39m(data, max_rows\u001b[38;5;241m=\u001b[39m\u001b[38;5;241m5000\u001b[39m):\n\u001b[1;32m---> 19\u001b[0m     \u001b[38;5;28;01mreturn\u001b[39;00m \u001b[43mcurried\u001b[49m\u001b[38;5;241;43m.\u001b[39;49m\u001b[43mpipe\u001b[49m\u001b[43m(\u001b[49m\u001b[43mdata\u001b[49m\u001b[43m,\u001b[49m\u001b[43m \u001b[49m\u001b[43mlimit_rows\u001b[49m\u001b[43m(\u001b[49m\u001b[43mmax_rows\u001b[49m\u001b[38;5;241;43m=\u001b[39;49m\u001b[43mmax_rows\u001b[49m\u001b[43m)\u001b[49m\u001b[43m,\u001b[49m\u001b[43m \u001b[49m\u001b[43mto_values\u001b[49m\u001b[43m)\u001b[49m\n",
      "File \u001b[1;32mc:\\Users\\Diarmuid\\anaconda3\\envs\\RecSys\\lib\\site-packages\\toolz\\functoolz.py:628\u001b[0m, in \u001b[0;36mpipe\u001b[1;34m(data, *funcs)\u001b[0m\n\u001b[0;32m    608\u001b[0m \u001b[38;5;124;03m\"\"\" Pipe a value through a sequence of functions\u001b[39;00m\n\u001b[0;32m    609\u001b[0m \n\u001b[0;32m    610\u001b[0m \u001b[38;5;124;03mI.e. ``pipe(data, f, g, h)`` is equivalent to ``h(g(f(data)))``\u001b[39;00m\n\u001b[1;32m   (...)\u001b[0m\n\u001b[0;32m    625\u001b[0m \u001b[38;5;124;03m    thread_last\u001b[39;00m\n\u001b[0;32m    626\u001b[0m \u001b[38;5;124;03m\"\"\"\u001b[39;00m\n\u001b[0;32m    627\u001b[0m \u001b[38;5;28;01mfor\u001b[39;00m func \u001b[38;5;129;01min\u001b[39;00m funcs:\n\u001b[1;32m--> 628\u001b[0m     data \u001b[38;5;241m=\u001b[39m \u001b[43mfunc\u001b[49m\u001b[43m(\u001b[49m\u001b[43mdata\u001b[49m\u001b[43m)\u001b[49m\n\u001b[0;32m    629\u001b[0m \u001b[38;5;28;01mreturn\u001b[39;00m data\n",
      "File \u001b[1;32mc:\\Users\\Diarmuid\\anaconda3\\envs\\RecSys\\lib\\site-packages\\toolz\\functoolz.py:304\u001b[0m, in \u001b[0;36mcurry.__call__\u001b[1;34m(self, *args, **kwargs)\u001b[0m\n\u001b[0;32m    302\u001b[0m \u001b[38;5;28;01mdef\u001b[39;00m \u001b[38;5;21m__call__\u001b[39m(\u001b[38;5;28mself\u001b[39m, \u001b[38;5;241m*\u001b[39margs, \u001b[38;5;241m*\u001b[39m\u001b[38;5;241m*\u001b[39mkwargs):\n\u001b[0;32m    303\u001b[0m     \u001b[38;5;28;01mtry\u001b[39;00m:\n\u001b[1;32m--> 304\u001b[0m         \u001b[38;5;28;01mreturn\u001b[39;00m \u001b[38;5;28mself\u001b[39m\u001b[38;5;241m.\u001b[39m_partial(\u001b[38;5;241m*\u001b[39margs, \u001b[38;5;241m*\u001b[39m\u001b[38;5;241m*\u001b[39mkwargs)\n\u001b[0;32m    305\u001b[0m     \u001b[38;5;28;01mexcept\u001b[39;00m \u001b[38;5;167;01mTypeError\u001b[39;00m \u001b[38;5;28;01mas\u001b[39;00m exc:\n\u001b[0;32m    306\u001b[0m         \u001b[38;5;28;01mif\u001b[39;00m \u001b[38;5;28mself\u001b[39m\u001b[38;5;241m.\u001b[39m_should_curry(args, kwargs, exc):\n",
      "File \u001b[1;32mc:\\Users\\Diarmuid\\anaconda3\\envs\\RecSys\\lib\\site-packages\\altair\\utils\\data.py:80\u001b[0m, in \u001b[0;36mlimit_rows\u001b[1;34m(data, max_rows)\u001b[0m\n\u001b[0;32m     78\u001b[0m         \u001b[38;5;28;01mreturn\u001b[39;00m data\n\u001b[0;32m     79\u001b[0m \u001b[38;5;28;01mif\u001b[39;00m max_rows \u001b[38;5;129;01mis\u001b[39;00m \u001b[38;5;129;01mnot\u001b[39;00m \u001b[38;5;28;01mNone\u001b[39;00m \u001b[38;5;129;01mand\u001b[39;00m \u001b[38;5;28mlen\u001b[39m(values) \u001b[38;5;241m>\u001b[39m max_rows:\n\u001b[1;32m---> 80\u001b[0m     \u001b[38;5;28;01mraise\u001b[39;00m MaxRowsError(\n\u001b[0;32m     81\u001b[0m         \u001b[38;5;124m\"\u001b[39m\u001b[38;5;124mThe number of rows in your dataset is greater \u001b[39m\u001b[38;5;124m\"\u001b[39m\n\u001b[0;32m     82\u001b[0m         \u001b[38;5;124m\"\u001b[39m\u001b[38;5;124mthan the maximum allowed (\u001b[39m\u001b[38;5;132;01m{}\u001b[39;00m\u001b[38;5;124m). \u001b[39m\u001b[38;5;124m\"\u001b[39m\n\u001b[0;32m     83\u001b[0m         \u001b[38;5;124m\"\u001b[39m\u001b[38;5;124mFor information on how to plot larger datasets \u001b[39m\u001b[38;5;124m\"\u001b[39m\n\u001b[0;32m     84\u001b[0m         \u001b[38;5;124m\"\u001b[39m\u001b[38;5;124min Altair, see the documentation\u001b[39m\u001b[38;5;124m\"\u001b[39m\u001b[38;5;241m.\u001b[39mformat(max_rows)\n\u001b[0;32m     85\u001b[0m     )\n\u001b[0;32m     86\u001b[0m \u001b[38;5;28;01mreturn\u001b[39;00m data\n",
      "\u001b[1;31mMaxRowsError\u001b[0m: The number of rows in your dataset is greater than the maximum allowed (5000). For information on how to plot larger datasets in Altair, see the documentation"
     ]
    },
    {
     "data": {
      "text/plain": [
       "alt.HConcatChart(...)"
      ]
     },
     "execution_count": 104,
     "metadata": {},
     "output_type": "execute_result"
    }
   ],
   "source": [
    "artist_embedding_norm([reg_model, softmax_model])"
   ]
  },
  {
   "attachments": {},
   "cell_type": "markdown",
   "metadata": {},
   "source": [
    "##### t-SNE Artist Embeddings\n",
    "- The embeddings have formed a circle unfortunately, there is no separation or any visible clusters \n",
    "- At the bottom there are indie rock bands like the Walkmen and at the top there is classical music like Olufar Arnalds."
   ]
  },
  {
   "cell_type": "code",
   "execution_count": 105,
   "metadata": {
    "execution": {
     "iopub.execute_input": "2022-12-17T20:13:35.845080Z",
     "iopub.status.busy": "2022-12-17T20:13:35.844606Z",
     "iopub.status.idle": "2022-12-17T20:14:36.427636Z",
     "shell.execute_reply": "2022-12-17T20:14:36.425665Z",
     "shell.execute_reply.started": "2022-12-17T20:13:35.845080Z"
    },
    "tags": []
   },
   "outputs": [
    {
     "name": "stdout",
     "output_type": "stream",
     "text": [
      "Running t-SNE...\n"
     ]
    },
    {
     "ename": "MaxRowsError",
     "evalue": "The number of rows in your dataset is greater than the maximum allowed (5000). For information on how to plot larger datasets in Altair, see the documentation",
     "output_type": "error",
     "traceback": [
      "\u001b[1;31m---------------------------------------------------------------------------\u001b[0m",
      "\u001b[1;31mMaxRowsError\u001b[0m                              Traceback (most recent call last)",
      "File \u001b[1;32mc:\\Users\\Diarmuid\\anaconda3\\envs\\RecSys\\lib\\site-packages\\altair\\vegalite\\v4\\api.py:374\u001b[0m, in \u001b[0;36mTopLevelMixin.to_dict\u001b[1;34m(self, *args, **kwargs)\u001b[0m\n\u001b[0;32m    372\u001b[0m copy \u001b[38;5;241m=\u001b[39m \u001b[38;5;28mself\u001b[39m\u001b[38;5;241m.\u001b[39mcopy(deep\u001b[38;5;241m=\u001b[39m\u001b[38;5;28;01mFalse\u001b[39;00m)\n\u001b[0;32m    373\u001b[0m original_data \u001b[38;5;241m=\u001b[39m \u001b[38;5;28mgetattr\u001b[39m(copy, \u001b[38;5;124m\"\u001b[39m\u001b[38;5;124mdata\u001b[39m\u001b[38;5;124m\"\u001b[39m, Undefined)\n\u001b[1;32m--> 374\u001b[0m copy\u001b[38;5;241m.\u001b[39mdata \u001b[38;5;241m=\u001b[39m \u001b[43m_prepare_data\u001b[49m\u001b[43m(\u001b[49m\u001b[43moriginal_data\u001b[49m\u001b[43m,\u001b[49m\u001b[43m \u001b[49m\u001b[43mcontext\u001b[49m\u001b[43m)\u001b[49m\n\u001b[0;32m    376\u001b[0m \u001b[38;5;28;01mif\u001b[39;00m original_data \u001b[38;5;129;01mis\u001b[39;00m \u001b[38;5;129;01mnot\u001b[39;00m Undefined:\n\u001b[0;32m    377\u001b[0m     context[\u001b[38;5;124m\"\u001b[39m\u001b[38;5;124mdata\u001b[39m\u001b[38;5;124m\"\u001b[39m] \u001b[38;5;241m=\u001b[39m original_data\n",
      "File \u001b[1;32mc:\\Users\\Diarmuid\\anaconda3\\envs\\RecSys\\lib\\site-packages\\altair\\vegalite\\v4\\api.py:89\u001b[0m, in \u001b[0;36m_prepare_data\u001b[1;34m(data, context)\u001b[0m\n\u001b[0;32m     87\u001b[0m \u001b[38;5;66;03m# convert dataframes  or objects with __geo_interface__ to dict\u001b[39;00m\n\u001b[0;32m     88\u001b[0m \u001b[38;5;28;01mif\u001b[39;00m \u001b[38;5;28misinstance\u001b[39m(data, pd\u001b[38;5;241m.\u001b[39mDataFrame) \u001b[38;5;129;01mor\u001b[39;00m \u001b[38;5;28mhasattr\u001b[39m(data, \u001b[38;5;124m\"\u001b[39m\u001b[38;5;124m__geo_interface__\u001b[39m\u001b[38;5;124m\"\u001b[39m):\n\u001b[1;32m---> 89\u001b[0m     data \u001b[38;5;241m=\u001b[39m \u001b[43m_pipe\u001b[49m\u001b[43m(\u001b[49m\u001b[43mdata\u001b[49m\u001b[43m,\u001b[49m\u001b[43m \u001b[49m\u001b[43mdata_transformers\u001b[49m\u001b[38;5;241;43m.\u001b[39;49m\u001b[43mget\u001b[49m\u001b[43m(\u001b[49m\u001b[43m)\u001b[49m\u001b[43m)\u001b[49m\n\u001b[0;32m     91\u001b[0m \u001b[38;5;66;03m# convert string input to a URLData\u001b[39;00m\n\u001b[0;32m     92\u001b[0m \u001b[38;5;28;01mif\u001b[39;00m \u001b[38;5;28misinstance\u001b[39m(data, \u001b[38;5;28mstr\u001b[39m):\n",
      "File \u001b[1;32mc:\\Users\\Diarmuid\\anaconda3\\envs\\RecSys\\lib\\site-packages\\toolz\\functoolz.py:628\u001b[0m, in \u001b[0;36mpipe\u001b[1;34m(data, *funcs)\u001b[0m\n\u001b[0;32m    608\u001b[0m \u001b[38;5;124;03m\"\"\" Pipe a value through a sequence of functions\u001b[39;00m\n\u001b[0;32m    609\u001b[0m \n\u001b[0;32m    610\u001b[0m \u001b[38;5;124;03mI.e. ``pipe(data, f, g, h)`` is equivalent to ``h(g(f(data)))``\u001b[39;00m\n\u001b[1;32m   (...)\u001b[0m\n\u001b[0;32m    625\u001b[0m \u001b[38;5;124;03m    thread_last\u001b[39;00m\n\u001b[0;32m    626\u001b[0m \u001b[38;5;124;03m\"\"\"\u001b[39;00m\n\u001b[0;32m    627\u001b[0m \u001b[38;5;28;01mfor\u001b[39;00m func \u001b[38;5;129;01min\u001b[39;00m funcs:\n\u001b[1;32m--> 628\u001b[0m     data \u001b[38;5;241m=\u001b[39m \u001b[43mfunc\u001b[49m\u001b[43m(\u001b[49m\u001b[43mdata\u001b[49m\u001b[43m)\u001b[49m\n\u001b[0;32m    629\u001b[0m \u001b[38;5;28;01mreturn\u001b[39;00m data\n",
      "File \u001b[1;32mc:\\Users\\Diarmuid\\anaconda3\\envs\\RecSys\\lib\\site-packages\\toolz\\functoolz.py:304\u001b[0m, in \u001b[0;36mcurry.__call__\u001b[1;34m(self, *args, **kwargs)\u001b[0m\n\u001b[0;32m    302\u001b[0m \u001b[38;5;28;01mdef\u001b[39;00m \u001b[38;5;21m__call__\u001b[39m(\u001b[38;5;28mself\u001b[39m, \u001b[38;5;241m*\u001b[39margs, \u001b[38;5;241m*\u001b[39m\u001b[38;5;241m*\u001b[39mkwargs):\n\u001b[0;32m    303\u001b[0m     \u001b[38;5;28;01mtry\u001b[39;00m:\n\u001b[1;32m--> 304\u001b[0m         \u001b[38;5;28;01mreturn\u001b[39;00m \u001b[38;5;28mself\u001b[39m\u001b[38;5;241m.\u001b[39m_partial(\u001b[38;5;241m*\u001b[39margs, \u001b[38;5;241m*\u001b[39m\u001b[38;5;241m*\u001b[39mkwargs)\n\u001b[0;32m    305\u001b[0m     \u001b[38;5;28;01mexcept\u001b[39;00m \u001b[38;5;167;01mTypeError\u001b[39;00m \u001b[38;5;28;01mas\u001b[39;00m exc:\n\u001b[0;32m    306\u001b[0m         \u001b[38;5;28;01mif\u001b[39;00m \u001b[38;5;28mself\u001b[39m\u001b[38;5;241m.\u001b[39m_should_curry(args, kwargs, exc):\n",
      "File \u001b[1;32mc:\\Users\\Diarmuid\\anaconda3\\envs\\RecSys\\lib\\site-packages\\altair\\vegalite\\data.py:19\u001b[0m, in \u001b[0;36mdefault_data_transformer\u001b[1;34m(data, max_rows)\u001b[0m\n\u001b[0;32m     17\u001b[0m \u001b[38;5;129m@curried\u001b[39m\u001b[38;5;241m.\u001b[39mcurry\n\u001b[0;32m     18\u001b[0m \u001b[38;5;28;01mdef\u001b[39;00m \u001b[38;5;21mdefault_data_transformer\u001b[39m(data, max_rows\u001b[38;5;241m=\u001b[39m\u001b[38;5;241m5000\u001b[39m):\n\u001b[1;32m---> 19\u001b[0m     \u001b[38;5;28;01mreturn\u001b[39;00m \u001b[43mcurried\u001b[49m\u001b[38;5;241;43m.\u001b[39;49m\u001b[43mpipe\u001b[49m\u001b[43m(\u001b[49m\u001b[43mdata\u001b[49m\u001b[43m,\u001b[49m\u001b[43m \u001b[49m\u001b[43mlimit_rows\u001b[49m\u001b[43m(\u001b[49m\u001b[43mmax_rows\u001b[49m\u001b[38;5;241;43m=\u001b[39;49m\u001b[43mmax_rows\u001b[49m\u001b[43m)\u001b[49m\u001b[43m,\u001b[49m\u001b[43m \u001b[49m\u001b[43mto_values\u001b[49m\u001b[43m)\u001b[49m\n",
      "File \u001b[1;32mc:\\Users\\Diarmuid\\anaconda3\\envs\\RecSys\\lib\\site-packages\\toolz\\functoolz.py:628\u001b[0m, in \u001b[0;36mpipe\u001b[1;34m(data, *funcs)\u001b[0m\n\u001b[0;32m    608\u001b[0m \u001b[38;5;124;03m\"\"\" Pipe a value through a sequence of functions\u001b[39;00m\n\u001b[0;32m    609\u001b[0m \n\u001b[0;32m    610\u001b[0m \u001b[38;5;124;03mI.e. ``pipe(data, f, g, h)`` is equivalent to ``h(g(f(data)))``\u001b[39;00m\n\u001b[1;32m   (...)\u001b[0m\n\u001b[0;32m    625\u001b[0m \u001b[38;5;124;03m    thread_last\u001b[39;00m\n\u001b[0;32m    626\u001b[0m \u001b[38;5;124;03m\"\"\"\u001b[39;00m\n\u001b[0;32m    627\u001b[0m \u001b[38;5;28;01mfor\u001b[39;00m func \u001b[38;5;129;01min\u001b[39;00m funcs:\n\u001b[1;32m--> 628\u001b[0m     data \u001b[38;5;241m=\u001b[39m \u001b[43mfunc\u001b[49m\u001b[43m(\u001b[49m\u001b[43mdata\u001b[49m\u001b[43m)\u001b[49m\n\u001b[0;32m    629\u001b[0m \u001b[38;5;28;01mreturn\u001b[39;00m data\n",
      "File \u001b[1;32mc:\\Users\\Diarmuid\\anaconda3\\envs\\RecSys\\lib\\site-packages\\toolz\\functoolz.py:304\u001b[0m, in \u001b[0;36mcurry.__call__\u001b[1;34m(self, *args, **kwargs)\u001b[0m\n\u001b[0;32m    302\u001b[0m \u001b[38;5;28;01mdef\u001b[39;00m \u001b[38;5;21m__call__\u001b[39m(\u001b[38;5;28mself\u001b[39m, \u001b[38;5;241m*\u001b[39margs, \u001b[38;5;241m*\u001b[39m\u001b[38;5;241m*\u001b[39mkwargs):\n\u001b[0;32m    303\u001b[0m     \u001b[38;5;28;01mtry\u001b[39;00m:\n\u001b[1;32m--> 304\u001b[0m         \u001b[38;5;28;01mreturn\u001b[39;00m \u001b[38;5;28mself\u001b[39m\u001b[38;5;241m.\u001b[39m_partial(\u001b[38;5;241m*\u001b[39margs, \u001b[38;5;241m*\u001b[39m\u001b[38;5;241m*\u001b[39mkwargs)\n\u001b[0;32m    305\u001b[0m     \u001b[38;5;28;01mexcept\u001b[39;00m \u001b[38;5;167;01mTypeError\u001b[39;00m \u001b[38;5;28;01mas\u001b[39;00m exc:\n\u001b[0;32m    306\u001b[0m         \u001b[38;5;28;01mif\u001b[39;00m \u001b[38;5;28mself\u001b[39m\u001b[38;5;241m.\u001b[39m_should_curry(args, kwargs, exc):\n",
      "File \u001b[1;32mc:\\Users\\Diarmuid\\anaconda3\\envs\\RecSys\\lib\\site-packages\\altair\\utils\\data.py:80\u001b[0m, in \u001b[0;36mlimit_rows\u001b[1;34m(data, max_rows)\u001b[0m\n\u001b[0;32m     78\u001b[0m         \u001b[38;5;28;01mreturn\u001b[39;00m data\n\u001b[0;32m     79\u001b[0m \u001b[38;5;28;01mif\u001b[39;00m max_rows \u001b[38;5;129;01mis\u001b[39;00m \u001b[38;5;129;01mnot\u001b[39;00m \u001b[38;5;28;01mNone\u001b[39;00m \u001b[38;5;129;01mand\u001b[39;00m \u001b[38;5;28mlen\u001b[39m(values) \u001b[38;5;241m>\u001b[39m max_rows:\n\u001b[1;32m---> 80\u001b[0m     \u001b[38;5;28;01mraise\u001b[39;00m MaxRowsError(\n\u001b[0;32m     81\u001b[0m         \u001b[38;5;124m\"\u001b[39m\u001b[38;5;124mThe number of rows in your dataset is greater \u001b[39m\u001b[38;5;124m\"\u001b[39m\n\u001b[0;32m     82\u001b[0m         \u001b[38;5;124m\"\u001b[39m\u001b[38;5;124mthan the maximum allowed (\u001b[39m\u001b[38;5;132;01m{}\u001b[39;00m\u001b[38;5;124m). \u001b[39m\u001b[38;5;124m\"\u001b[39m\n\u001b[0;32m     83\u001b[0m         \u001b[38;5;124m\"\u001b[39m\u001b[38;5;124mFor information on how to plot larger datasets \u001b[39m\u001b[38;5;124m\"\u001b[39m\n\u001b[0;32m     84\u001b[0m         \u001b[38;5;124m\"\u001b[39m\u001b[38;5;124min Altair, see the documentation\u001b[39m\u001b[38;5;124m\"\u001b[39m\u001b[38;5;241m.\u001b[39mformat(max_rows)\n\u001b[0;32m     85\u001b[0m     )\n\u001b[0;32m     86\u001b[0m \u001b[38;5;28;01mreturn\u001b[39;00m data\n",
      "\u001b[1;31mMaxRowsError\u001b[0m: The number of rows in your dataset is greater than the maximum allowed (5000). For information on how to plot larger datasets in Altair, see the documentation"
     ]
    },
    {
     "data": {
      "text/plain": [
       "alt.HConcatChart(...)"
      ]
     },
     "execution_count": 105,
     "metadata": {},
     "output_type": "execute_result"
    }
   ],
   "source": [
    "tsne_artist_embeddings(softmax_model)"
   ]
  },
  {
   "attachments": {},
   "cell_type": "markdown",
   "metadata": {},
   "source": [
    "# Conclusions\n",
    "In this notebook I have build three machine learning recommendation systems. I first built a basic model using tensor flow variables. Secondly I built a regularized model by applying a gravity function. Finally I built a softmax model. \n",
    "\n",
    "For each model I inspect the artist embeddings and neighbors. These embeddings were challenging to interpret however, when looking at specific examples, the embeddings allowed for separation of genres. An important factor in many of the models was popularity. Popularity strongly influenced the models embeddings except softmax.\n",
    "\n",
    "I enabled a user to generate their own recommendations by adding their preferences to each model. This allowed a user to select how many recommendations they desire and what measure to use. When comparing measures, it seemed that dot product appeared to favour more popular artists.\n",
    "\n",
    "The Softmax Model produced the best performance along with more independent embeddings.\n",
    "I learned a lot about the libraries of tensorflow during this project. In the future, I will develop my knowledge around these packages and I will make improvements to the embeddings and recommendations generated resulting in better recommendations."
   ]
  }
 ],
 "metadata": {
  "kernelspec": {
   "display_name": "Python 3 (ipykernel)",
   "language": "python",
   "name": "python3"
  },
  "language_info": {
   "codemirror_mode": {
    "name": "ipython",
    "version": 3
   },
   "file_extension": ".py",
   "mimetype": "text/x-python",
   "name": "python",
   "nbconvert_exporter": "python",
   "pygments_lexer": "ipython3",
   "version": "3.10.8"
  },
  "vscode": {
   "interpreter": {
    "hash": "bd27b43f4c869633766704dbdd401a66339f36a3b4f59ac9628824b84e29bb6a"
   }
  }
 },
 "nbformat": 4,
 "nbformat_minor": 4
}
